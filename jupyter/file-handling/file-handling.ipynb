{
 "cells": [
  {
   "cell_type": "markdown",
   "metadata": {},
   "source": [
    "# File handling using python 3.12 with types"
   ]
  },
  {
   "cell_type": "code",
   "execution_count": 73,
   "metadata": {},
   "outputs": [
    {
     "name": "stdout",
     "output_type": "stream",
     "text": [
      "Sarmad Rafique\n"
     ]
    }
   ],
   "source": [
    "file = open('abc.txt')\n",
    "print(file.read())\n",
    "file.close()"
   ]
  },
  {
   "cell_type": "code",
   "execution_count": 74,
   "metadata": {},
   "outputs": [
    {
     "name": "stdout",
     "output_type": "stream",
     "text": [
      "Sar\n"
     ]
    }
   ],
   "source": [
    "file = open('abc.txt')\n",
    "print(file.readline(3))\n",
    "# readline() reads one line at a time. It reads line no 1 by default."
   ]
  },
  {
   "cell_type": "code",
   "execution_count": 75,
   "metadata": {},
   "outputs": [
    {
     "name": "stdout",
     "output_type": "stream",
     "text": [
      "Sarmad \n"
     ]
    }
   ],
   "source": [
    "file = open('abc.txt')\n",
    "print(file.readline(7))"
   ]
  },
  {
   "cell_type": "code",
   "execution_count": 76,
   "metadata": {},
   "outputs": [
    {
     "name": "stdout",
     "output_type": "stream",
     "text": [
      "Sarmad \n"
     ]
    }
   ],
   "source": [
    "with open('./abc.txt') as file:\n",
    "    print(file.readline(7))"
   ]
  },
  {
   "cell_type": "code",
   "execution_count": 77,
   "metadata": {},
   "outputs": [
    {
     "name": "stdout",
     "output_type": "stream",
     "text": [
      "Sarmad Rafique\n"
     ]
    }
   ],
   "source": [
    "with open('./abc.txt','r') as file:\n",
    "    print(file.readline())\n",
    "# 2nd parameter r means read-only"
   ]
  },
  {
   "cell_type": "code",
   "execution_count": 78,
   "metadata": {},
   "outputs": [],
   "source": [
    "# to Write in a file\n",
    "with open('./abc.txt','w') as file:\n",
    "    file.write('Always be Progressive')"
   ]
  },
  {
   "cell_type": "code",
   "execution_count": 79,
   "metadata": {},
   "outputs": [
    {
     "name": "stdout",
     "output_type": "stream",
     "text": [
      "Always be Progressive\n",
      "\n"
     ]
    }
   ],
   "source": [
    "# To read and write in a file\n",
    "with open('./abc.txt','r+') as file:\n",
    "    print(file.read())\n",
    "    file.write('Sarmad Rafique')\n",
    "    print(file.read())"
   ]
  }
 ],
 "metadata": {
  "kernelspec": {
   "display_name": "py-12",
   "language": "python",
   "name": "python3"
  },
  "language_info": {
   "codemirror_mode": {
    "name": "ipython",
    "version": 3
   },
   "file_extension": ".py",
   "mimetype": "text/x-python",
   "name": "python",
   "nbconvert_exporter": "python",
   "pygments_lexer": "ipython3",
   "version": "3.12.0"
  }
 },
 "nbformat": 4,
 "nbformat_minor": 2
}
