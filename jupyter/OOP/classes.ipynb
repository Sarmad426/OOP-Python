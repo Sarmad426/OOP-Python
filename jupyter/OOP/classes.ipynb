{
 "cells": [
  {
   "cell_type": "markdown",
   "metadata": {},
   "source": [
    "# Object Oriented Programming Python 3.12"
   ]
  },
  {
   "cell_type": "code",
   "execution_count": 4,
   "metadata": {},
   "outputs": [
    {
     "name": "stdout",
     "output_type": "stream",
     "text": [
      "User: Sarmad\n"
     ]
    }
   ],
   "source": [
    "class User:\n",
    "    def __init__(self, name: str) -> None:\n",
    "        self.name = name\n",
    "\n",
    "    def get_name(self) -> str:\n",
    "        return self.name\n",
    "\n",
    "user = User(input(\"Enter your name: \"))\n",
    "print(\"User:\", user.get_name())\n"
   ]
  },
  {
   "cell_type": "markdown",
   "metadata": {},
   "source": [
    "Where `__init__` is a constructor. A constructor is a function that is\n",
    "automatically called when an object of a class is created."
   ]
  },
  {
   "cell_type": "code",
   "execution_count": 10,
   "metadata": {},
   "outputs": [
    {
     "name": "stdout",
     "output_type": "stream",
     "text": [
      "Name: Sarmad Rafique\n",
      "Roll number: f2021065189@umt.edu.pk\n",
      "Semester: 4\n",
      "On Scholarship? Yes\n"
     ]
    }
   ],
   "source": [
    "class Student:\n",
    "    def __init__(self, name: str, roll_no: str, semester: int, on_scholarship: bool) -> None:\n",
    "        self.name = name\n",
    "        self.roll_no = roll_no\n",
    "        self.semester = semester\n",
    "        self.on_scholarship = on_scholarship\n",
    "\n",
    "    def get_name(self) -> str:\n",
    "        return self.name\n",
    "\n",
    "    def get_roll_no(self) -> int:\n",
    "        return self.roll_no\n",
    "\n",
    "    def get_semester(self) -> int:\n",
    "        return self.semester\n",
    "\n",
    "    def is_on_scholarship(self) -> bool:\n",
    "        return self.on_scholarship\n",
    "\n",
    "student = Student(\"Sarmad Rafique\", 'f2021065189@umt.edu.pk', 4, True,)\n",
    "print(\"Name:\", student.get_name())\n",
    "print(\"Roll number:\", student.get_roll_no())\n",
    "print(\"Semester:\", student.get_semester())\n",
    "print(\"On Scholarship?\", \"Yes\" if student.is_on_scholarship() else \"No\")\n",
    "\n"
   ]
  },
  {
   "cell_type": "markdown",
   "metadata": {},
   "source": [
    "## Inheritance In Python"
   ]
  },
  {
   "cell_type": "code",
   "execution_count": 13,
   "metadata": {},
   "outputs": [
    {
     "name": "stdout",
     "output_type": "stream",
     "text": [
      "Student's name: Sarmad Rafique\n",
      "Student's age: 19\n",
      "Student's roll number: 12345\n"
     ]
    }
   ],
   "source": [
    "class Person:\n",
    "    def __init__(self, name: str, age: int):\n",
    "        self.name = name\n",
    "        self.age = age\n",
    "\n",
    "    def get_name(self) -> str:\n",
    "        return self.name\n",
    "\n",
    "    def get_age(self) -> int:\n",
    "        return self.age\n",
    "\n",
    "\n",
    "class Student(Person):\n",
    "    def __init__(self, name: str, age: int, roll_no: int):\n",
    "        super().__init__(name, age)\n",
    "        self.roll_no = roll_no\n",
    "\n",
    "    def get_roll_no(self) -> int:\n",
    "        return self.roll_no\n",
    "\n",
    "student = Student(\"Sarmad Rafique\", 19, 12345)\n",
    "\n",
    "print(\"Student's name:\", student.get_name())\n",
    "print(\"Student's age:\", student.get_age())\n",
    "print(\"Student's roll number:\", student.get_roll_no())\n"
   ]
  },
  {
   "cell_type": "markdown",
   "metadata": {},
   "source": [
    "## Inheritance in Python with Static Typing\n",
    "\n",
    "In this code, we have defined two classes: `Person` and `Student`. The `Student` class inherits from the `Person` class using the `Person` class as its base class. \n",
    "\n",
    "The `Person` class has the following attributes and methods:\n",
    "- `name` (str): an instance variable representing the person's name.\n",
    "- `age` (int): an instance variable representing the person's age.\n",
    "- `get_name() -> str`: a method that returns the person's name.\n",
    "- `get_age() -> int`: a method that returns the person's age.\n",
    "\n",
    "The `Student` class has the following additional attribute and method:\n",
    "- `roll_no` (int): an instance variable representing the student's roll number.\n",
    "- `get_roll_no() -> int`: a method that returns the student's roll number.\n",
    "\n",
    "In the `Student` class, we use the `super()` function to call the `__init__()` method of the `Person` class, passing the `name` and `age` arguments to it. This initializes the `name` and `age` instance variables of the `Person` class for the `Student` object. We then initialize the `roll_no` instance variable of the `Student` class using the `roll_no` argument passed to the `__init__()` method of the `Student` class.\n",
    "\n",
    "Finally, we create an instance of the `Student` class and use the getter methods to retrieve and print the student's information. Since the `Student` class inherits from the `Person` class, it has access to the `get_name()` and `get_age()` methods defined in the `Person` class, as well as its own `get_roll_no()` method."
   ]
  },
  {
   "cell_type": "code",
   "execution_count": 11,
   "metadata": {},
   "outputs": [
    {
     "name": "stdout",
     "output_type": "stream",
     "text": [
      "Buddy says: Woof!\n",
      "Whiskers says: Meow!\n"
     ]
    }
   ],
   "source": [
    "from abc import ABC, abstractmethod\n",
    "\n",
    "class Animal(ABC):\n",
    "    def __init__(self, name: str, age: int):\n",
    "        self.name = name\n",
    "        self.age = age\n",
    "\n",
    "    @abstractmethod\n",
    "    def speak(self) -> None:\n",
    "        pass\n",
    "\n",
    "class Dog(Animal):\n",
    "    def __init__(self, name: str, age: int, breed: str):\n",
    "        super().__init__(name, age)\n",
    "        self.breed = breed\n",
    "\n",
    "    def speak(self) -> None:\n",
    "        print(f\"{self.name} says: Woof!\")\n",
    "\n",
    "class Cat(Animal):\n",
    "    def __init__(self, name: str, age: int, color: str):\n",
    "        super().__init__(name, age)\n",
    "        self.color = color\n",
    "\n",
    "    def speak(self) -> None:\n",
    "        print(f\"{self.name} says: Meow!\")\n",
    "\n",
    "def main() -> None:\n",
    "    dog = Dog(\"Buddy\", 3, \"Labrador\")\n",
    "    cat = Cat(\"Whiskers\", 5, \"Gray\")\n",
    "\n",
    "    dog.speak()\n",
    "    cat.speak()\n",
    "\n",
    "if __name__ == \"__main__\":\n",
    "    main()\n"
   ]
  }
 ],
 "metadata": {
  "kernelspec": {
   "display_name": "py-12",
   "language": "python",
   "name": "python3"
  },
  "language_info": {
   "codemirror_mode": {
    "name": "ipython",
    "version": 3
   },
   "file_extension": ".py",
   "mimetype": "text/x-python",
   "name": "python",
   "nbconvert_exporter": "python",
   "pygments_lexer": "ipython3",
   "version": "3.12.0"
  }
 },
 "nbformat": 4,
 "nbformat_minor": 2
}
