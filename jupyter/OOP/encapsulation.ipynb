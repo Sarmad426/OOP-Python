{
 "cells": [
  {
   "cell_type": "markdown",
   "metadata": {},
   "source": [
    "# Encapsulation in Programming\n",
    "\n",
    "**Encapsulation** is one of the fundamental concepts in object-oriented programming (OOP). It refers to the bundling of data (attributes) and methods (functions) that operate on that data into a single unit, often called a class. In encapsulation, the internal details of how an object works are hidden from the outside world, and access to the object's attributes and methods is controlled through well-defined interfaces.\n",
    "\n",
    "The main goals of encapsulation are:\n",
    "\n",
    "1. **Data Hiding:** It restricts direct access to an object's internal state, allowing controlled access through methods. This prevents unintended interference and enforces data integrity.\n",
    "\n",
    "2. **Abstraction:** Encapsulation allows you to present a simplified, high-level interface to the user of the class, hiding the complexity of the implementation details.\n",
    "\n",
    "3. **Modularity:** Encapsulation promotes modularity by organizing code into separate classes, making it easier to maintain and extend the software.\n",
    "\n",
    "## Use Cases in the Real World\n",
    "\n",
    "Encapsulation is widely used in real-world software development to:\n",
    "\n",
    "1. **Security:** It can be used to hide sensitive data and expose only the necessary functionality, reducing the risk of unauthorized access and tampering.\n",
    "\n",
    "2. **API Design:** When designing libraries or APIs, encapsulation helps define clear interfaces and prevents users from directly manipulating internal data structures.\n",
    "\n",
    "3. **Code Maintenance:** It improves code maintainability by isolating changes within classes, reducing the impact on other parts of the codebase.\n",
    "\n",
    "## Python Code Snippets with Static Typing\n",
    "\n",
    "Here are three Python code snippets demonstrating encapsulation with static typing:"
   ]
  },
  {
   "cell_type": "markdown",
   "metadata": {},
   "source": [
    "### 1. Encapsulation with Getter and Setter Methods"
   ]
  },
  {
   "cell_type": "code",
   "execution_count": 6,
   "metadata": {},
   "outputs": [
    {
     "name": "stdout",
     "output_type": "stream",
     "text": [
      "1000.0\n"
     ]
    }
   ],
   "source": [
    "class BankAccount:\n",
    "    def __init__(self, balance: float = 0.0):\n",
    "        self._balance = balance  # Private attribute\n",
    "\n",
    "    def get_balance(self) -> float:\n",
    "        return self._balance\n",
    "\n",
    "    def set_balance(self, new_balance: float) -> None:\n",
    "        if new_balance >= 0:\n",
    "            self._balance = new_balance\n",
    "\n",
    "# Usage:\n",
    "account = BankAccount(1000.0)\n",
    "print(account.get_balance())  # Access the balance using a getter\n",
    "account.set_balance(1500.0)   # Modify the balance using a setter\n"
   ]
  },
  {
   "cell_type": "markdown",
   "metadata": {},
   "source": [
    "In this example, the `balance` attribute is encapsulated, and you can only access and modify it through the `get_balance` and `set_balance` methods."
   ]
  },
  {
   "cell_type": "markdown",
   "metadata": {},
   "source": [
    "### 2. Property Decorators"
   ]
  },
  {
   "cell_type": "code",
   "execution_count": 7,
   "metadata": {},
   "outputs": [
    {
     "name": "stdout",
     "output_type": "stream",
     "text": [
      "Alice\n",
      "30\n"
     ]
    }
   ],
   "source": [
    "class Person:\n",
    "    def __init__(self, name: str, age: int):\n",
    "        self._name = name\n",
    "        self._age = age\n",
    "\n",
    "    @property\n",
    "    def name(self) -> str:\n",
    "        return self._name\n",
    "\n",
    "    @property\n",
    "    def age(self) -> int:\n",
    "        return self._age\n",
    "\n",
    "    @age.setter\n",
    "    def age(self, new_age: int) -> None:\n",
    "        if new_age >= 0:\n",
    "            self._age = new_age\n",
    "\n",
    "# Usage:\n",
    "person = Person(\"Alice\", 30)\n",
    "print(person.name)     # Access the name attribute using a property\n",
    "print(person.age)      # Access the age attribute using a property\n",
    "person.age = 31       # Modify the age attribute using a property setter"
   ]
  },
  {
   "cell_type": "markdown",
   "metadata": {},
   "source": [
    "In this example, we use property decorators to encapsulate the `name` and `age` attributes and provide custom getters and setters for the `age` attribute."
   ]
  },
  {
   "cell_type": "markdown",
   "metadata": {},
   "source": [
    "### 3. Private Methods"
   ]
  },
  {
   "cell_type": "code",
   "execution_count": 5,
   "metadata": {},
   "outputs": [
    {
     "ename": "AttributeError",
     "evalue": "'str' object has no attribute 'price'",
     "output_type": "error",
     "traceback": [
      "\u001b[1;31m---------------------------------------------------------------------------\u001b[0m",
      "\u001b[1;31mAttributeError\u001b[0m                            Traceback (most recent call last)",
      "\u001b[1;32mc:\\Users\\dot\\Desktop\\python3.12\\jupyter\\OOP\\encapsulation.ipynb Cell 9\u001b[0m line \u001b[0;36m2\n\u001b[0;32m     <a href='vscode-notebook-cell:/c%3A/Users/dot/Desktop/python3.12/jupyter/OOP/encapsulation.ipynb#X11sZmlsZQ%3D%3D?line=20'>21</a>\u001b[0m cart\u001b[39m.\u001b[39madd_item(\u001b[39m\"\u001b[39m\u001b[39mItem 1\u001b[39m\u001b[39m\"\u001b[39m)\n\u001b[0;32m     <a href='vscode-notebook-cell:/c%3A/Users/dot/Desktop/python3.12/jupyter/OOP/encapsulation.ipynb#X11sZmlsZQ%3D%3D?line=21'>22</a>\u001b[0m cart\u001b[39m.\u001b[39madd_item(\u001b[39m\"\u001b[39m\u001b[39mItem 2\u001b[39m\u001b[39m\"\u001b[39m)\n\u001b[1;32m---> <a href='vscode-notebook-cell:/c%3A/Users/dot/Desktop/python3.12/jupyter/OOP/encapsulation.ipynb#X11sZmlsZQ%3D%3D?line=22'>23</a>\u001b[0m \u001b[39mprint\u001b[39m(cart\u001b[39m.\u001b[39;49m_calculate_total())\n\u001b[0;32m     <a href='vscode-notebook-cell:/c%3A/Users/dot/Desktop/python3.12/jupyter/OOP/encapsulation.ipynb#X11sZmlsZQ%3D%3D?line=23'>24</a>\u001b[0m total \u001b[39m=\u001b[39m cart\u001b[39m.\u001b[39mcheckout()\n",
      "\u001b[1;32mc:\\Users\\dot\\Desktop\\python3.12\\jupyter\\OOP\\encapsulation.ipynb Cell 9\u001b[0m line \u001b[0;36m1\n\u001b[0;32m      <a href='vscode-notebook-cell:/c%3A/Users/dot/Desktop/python3.12/jupyter/OOP/encapsulation.ipynb#X11sZmlsZQ%3D%3D?line=8'>9</a>\u001b[0m total \u001b[39m=\u001b[39m \u001b[39m0\u001b[39m\n\u001b[0;32m     <a href='vscode-notebook-cell:/c%3A/Users/dot/Desktop/python3.12/jupyter/OOP/encapsulation.ipynb#X11sZmlsZQ%3D%3D?line=9'>10</a>\u001b[0m \u001b[39mfor\u001b[39;00m item \u001b[39min\u001b[39;00m \u001b[39mself\u001b[39m\u001b[39m.\u001b[39m_items:\n\u001b[1;32m---> <a href='vscode-notebook-cell:/c%3A/Users/dot/Desktop/python3.12/jupyter/OOP/encapsulation.ipynb#X11sZmlsZQ%3D%3D?line=10'>11</a>\u001b[0m     total \u001b[39m+\u001b[39m\u001b[39m=\u001b[39m item\u001b[39m.\u001b[39;49mprice\n\u001b[0;32m     <a href='vscode-notebook-cell:/c%3A/Users/dot/Desktop/python3.12/jupyter/OOP/encapsulation.ipynb#X11sZmlsZQ%3D%3D?line=11'>12</a>\u001b[0m \u001b[39mreturn\u001b[39;00m total\n",
      "\u001b[1;31mAttributeError\u001b[0m: 'str' object has no attribute 'price'"
     ]
    }
   ],
   "source": [
    "class ShoppingCart:\n",
    "    def __init__(self):\n",
    "        self._items = []  # Private attribute\n",
    "\n",
    "    def add_item(self, item: str) -> None:\n",
    "        self._items.append(item)\n",
    "\n",
    "    def _calculate_total(self) -> float:\n",
    "        total = 0\n",
    "        for item in self._items:\n",
    "            total += item.price\n",
    "        return total\n",
    "\n",
    "    def checkout(self) -> float:\n",
    "        total = self._calculate_total()\n",
    "        self._items = []  # Clear the items after checkout\n",
    "        return total\n",
    "\n",
    "# Usage:\n",
    "cart = ShoppingCart()\n",
    "cart.add_item(\"Item 1\")\n",
    "cart.add_item(\"Item 2\")\n",
    "print(cart._calculate_total())\n",
    "total = cart.checkout()"
   ]
  },
  {
   "cell_type": "markdown",
   "metadata": {},
   "source": [
    "In this example, the `_calculate_total` method is encapsulated as a private method, and it can only be accessed within the class. This helps hide the implementation details from external users while providing a clean public interface."
   ]
  }
 ],
 "metadata": {
  "kernelspec": {
   "display_name": "py-12",
   "language": "python",
   "name": "python3"
  },
  "language_info": {
   "codemirror_mode": {
    "name": "ipython",
    "version": 3
   },
   "file_extension": ".py",
   "mimetype": "text/x-python",
   "name": "python",
   "nbconvert_exporter": "python",
   "pygments_lexer": "ipython3",
   "version": "3.12.0"
  }
 },
 "nbformat": 4,
 "nbformat_minor": 2
}
