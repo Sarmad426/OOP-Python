{
 "cells": [
  {
   "cell_type": "markdown",
   "metadata": {},
   "source": [
    "# Constructor Overloading in python\n",
    "\n",
    "Constructor overloading in Python allows you to define multiple constructors for a class with different parameter lists. This way, you can create instances of the class with different sets of initial attributes. Here's an example of constructor overloading in Python:\n"
   ]
  },
  {
   "cell_type": "code",
   "execution_count": null,
   "metadata": {},
   "outputs": [],
   "source": [
    "class Person:\n",
    "    def __init__(self, name, age):\n",
    "        self.name = name\n",
    "        self.age = age\n",
    "\n",
    "    def __str__(self):\n",
    "        return f\"Name: {self.name}, Age: {self.age}\"\n",
    "\n",
    "    def set_info(self, name, age):\n",
    "        self.name = name\n",
    "        self.age = age\n",
    "\n",
    "    # Constructor Overloading\n",
    "    @classmethod\n",
    "    def create_person(cls, name):\n",
    "        return cls(name, 0)\n",
    "\n",
    "# Create instances using different constructors\n",
    "person1 = Person(\"Alice\", 25)\n",
    "person2 = Person.create_person(\"Bob\")\n",
    "\n",
    "print(person1)  # Output: Name: Alice, Age: 25\n",
    "print(person2)  # Output: Name: Bob, Age: 0\n"
   ]
  },
  {
   "cell_type": "markdown",
   "metadata": {},
   "source": [
    "In the code above, we have a `Person` class with two constructors. The first constructor takes both a name and an age as parameters, while the second constructor, `create_person`, takes only a name and sets the age to 0. This demonstrates constructor overloading."
   ]
  }
 ],
 "metadata": {
  "language_info": {
   "name": "python"
  }
 },
 "nbformat": 4,
 "nbformat_minor": 2
}
