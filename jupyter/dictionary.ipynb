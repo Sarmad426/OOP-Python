{
 "cells": [
  {
   "cell_type": "markdown",
   "metadata": {},
   "source": [
    "# Dictionary \n",
    "**Dictionary** is a data-structure which contains key value pairs. To use dictionary we\n",
    "need to import it from typing."
   ]
  },
  {
   "cell_type": "code",
   "execution_count": 4,
   "metadata": {},
   "outputs": [
    {
     "name": "stdout",
     "output_type": "stream",
     "text": [
      "Sarmad\n"
     ]
    }
   ],
   "source": [
    "from typing import Dict\n",
    "user : Dict[str,str] = {'name':\"Sarmad\",'email':'sarmad@gmail.com','db_id':'EV4365'}\n",
    "display(user)\n",
    "# Note that display() function is the function of Jupyter Notebooks."
   ]
  },
  {
   "cell_type": "code",
   "execution_count": 5,
   "metadata": {},
   "outputs": [
    {
     "name": "stdout",
     "output_type": "stream",
     "text": [
      "{'name': 'Sarmad', 'email': 'sarmad@gmail.com', 'db_id': 'EV4365'}\n"
     ]
    }
   ],
   "source": [
    "print(user)"
   ]
  },
  {
   "cell_type": "code",
   "execution_count": 6,
   "metadata": {},
   "outputs": [
    {
     "name": "stdout",
     "output_type": "stream",
     "text": [
      "Sarmad\n"
     ]
    }
   ],
   "source": [
    "# To access individual user detail\n",
    "print(user['name'])"
   ]
  }
 ],
 "metadata": {
  "kernelspec": {
   "display_name": "py-12",
   "language": "python",
   "name": "python3"
  },
  "language_info": {
   "codemirror_mode": {
    "name": "ipython",
    "version": 3
   },
   "file_extension": ".py",
   "mimetype": "text/x-python",
   "name": "python",
   "nbconvert_exporter": "python",
   "pygments_lexer": "ipython3",
   "version": "3.12.0"
  }
 },
 "nbformat": 4,
 "nbformat_minor": 2
}
