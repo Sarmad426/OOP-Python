{
 "cells": [
  {
   "cell_type": "markdown",
   "metadata": {},
   "source": [
    "# Calculator Program"
   ]
  },
  {
   "cell_type": "markdown",
   "metadata": {},
   "source": [
    "In this program we will create a calculator using python 3.12 hint types and OOP. We will create\n",
    "a Calculator class which holds an **Constructor** for taking user input. The class has 4 methods.\n",
    "- add()\n",
    "- sub()\n",
    "- mul()\n",
    "- div()\n",
    "\n",
    "Addition, Subtraction, Multiplication and Division."
   ]
  },
  {
   "cell_type": "code",
   "execution_count": 1,
   "metadata": {},
   "outputs": [
    {
     "name": "stdout",
     "output_type": "stream",
     "text": [
      "15\n",
      "9\n",
      "36\n",
      "4.0\n"
     ]
    }
   ],
   "source": [
    "class Calculator:\n",
    "    \"\"\"Class representing a person\"\"\"\n",
    "\n",
    "    def __init__(self) -> None:\n",
    "        self.num1: int = int(input(\"Enter value 1:\"))\n",
    "        self.num2: int = int(input(\"Enter value 2:\"))\n",
    "\n",
    "    def add(self) -> int:\n",
    "        return self.num1+self.num2\n",
    "\n",
    "    def sub(self) -> int:\n",
    "        return self.num1-self.num2\n",
    "\n",
    "    def mul(self) -> int:\n",
    "        return self.num1*self.num2\n",
    "\n",
    "    def div(self) -> float:\n",
    "        return self.num1/self.num2\n",
    "\n",
    "\n",
    "calculator = Calculator()\n",
    "print(calculator.add())\n",
    "print(calculator.sub())\n",
    "print(calculator.mul())\n",
    "print(calculator.div())\n"
   ]
  },
  {
   "cell_type": "markdown",
   "metadata": {},
   "source": [
    "## Ouput\n",
    "\n",
    "I Entered 12 as the first value and 3 as the second. That is the Output. "
   ]
  }
 ],
 "metadata": {
  "kernelspec": {
   "display_name": "py-12",
   "language": "python",
   "name": "python3"
  },
  "language_info": {
   "codemirror_mode": {
    "name": "ipython",
    "version": 3
   },
   "file_extension": ".py",
   "mimetype": "text/x-python",
   "name": "python",
   "nbconvert_exporter": "python",
   "pygments_lexer": "ipython3",
   "version": "3.12.0"
  }
 },
 "nbformat": 4,
 "nbformat_minor": 2
}
