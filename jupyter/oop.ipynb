{
 "cells": [
  {
   "cell_type": "markdown",
   "metadata": {},
   "source": [
    "# Basic OOP Program"
   ]
  },
  {
   "cell_type": "code",
   "execution_count": 1,
   "metadata": {},
   "outputs": [
    {
     "name": "stdout",
     "output_type": "stream",
     "text": [
      "Welcome Sarmad\n"
     ]
    }
   ],
   "source": [
    "class Name:\n",
    "\n",
    "    def __init__(self):\n",
    "        self.name: str = str(input(\"Enter Your Name: \"))\n",
    "\n",
    "    def greet(self)->str:\n",
    "        return f\"Welcome {self.name}\"\n",
    "\n",
    "\n",
    "user = Name()\n",
    "print(user.greet())"
   ]
  },
  {
   "cell_type": "markdown",
   "metadata": {},
   "source": [
    "# Ouput\n",
    "\n",
    "Basic OOP program. `__init__(self)` is a constructor that is automatically called when an object of the class is created. `greet()` is a function. In Object oriented programming a function inside class is called the method of the class.\n",
    "I entered my name and it greeted me with `Welcom Sarmad` message."
   ]
  }
 ],
 "metadata": {
  "kernelspec": {
   "display_name": "py-12",
   "language": "python",
   "name": "python3"
  },
  "language_info": {
   "codemirror_mode": {
    "name": "ipython",
    "version": 3
   },
   "file_extension": ".py",
   "mimetype": "text/x-python",
   "name": "python",
   "nbconvert_exporter": "python",
   "pygments_lexer": "ipython3",
   "version": "3.12.0"
  }
 },
 "nbformat": 4,
 "nbformat_minor": 2
}
