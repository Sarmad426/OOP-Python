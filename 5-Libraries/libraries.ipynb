{
 "cells": [
  {
   "cell_type": "markdown",
   "metadata": {},
   "source": [
    "# Libraries Covered in this module\n",
    "\n",
    "- random\n",
    "- statistics\n",
    "- requests \n",
    "    - 3rd party library for &rightarrow; (API Requests) \n",
    "- json (JSON)"
   ]
  },
  {
   "cell_type": "markdown",
   "metadata": {},
   "source": [
    "## Python random library"
   ]
  },
  {
   "cell_type": "code",
   "execution_count": 3,
   "metadata": {},
   "outputs": [
    {
     "data": {
      "text/plain": [
       "'HEADS'"
      ]
     },
     "execution_count": 3,
     "metadata": {},
     "output_type": "execute_result"
    }
   ],
   "source": [
    "# Let's Create a Toss program\n",
    "import random\n",
    "\n",
    "toss : str = random.choice(['HEADS','TAILS'])\n",
    "\n",
    "toss\n"
   ]
  },
  {
   "cell_type": "code",
   "execution_count": 12,
   "metadata": {},
   "outputs": [
    {
     "data": {
      "text/plain": [
       "6"
      ]
     },
     "execution_count": 12,
     "metadata": {},
     "output_type": "execute_result"
    }
   ],
   "source": [
    "# Random number generator between 1-10\n",
    "\n",
    "import random\n",
    "\n",
    "num : int = random.randint(1,10)\n",
    "\n",
    "num\n"
   ]
  },
  {
   "cell_type": "code",
   "execution_count": 13,
   "metadata": {},
   "outputs": [
    {
     "data": {
      "text/plain": [
       "['King', 'A', 'Jack', '7🧡', 'Queen']"
      ]
     },
     "execution_count": 13,
     "metadata": {},
     "output_type": "execute_result"
    }
   ],
   "source": [
    "# Shuffle\n",
    "\n",
    "\n",
    "cards : list[str] = [\"Jack\",\"Queen\",\"King\",\"A\",\"7🧡\"]\n",
    "\n",
    "random.shuffle(cards)\n",
    "\n",
    "cards"
   ]
  },
  {
   "cell_type": "markdown",
   "metadata": {},
   "source": [
    "## Statistics Library"
   ]
  },
  {
   "cell_type": "code",
   "execution_count": 15,
   "metadata": {},
   "outputs": [
    {
     "data": {
      "text/plain": [
       "80.6"
      ]
     },
     "execution_count": 15,
     "metadata": {},
     "output_type": "execute_result"
    }
   ],
   "source": [
    "import statistics\n",
    "\n",
    "marks : list[int] = [88,82,81,77,75]\n",
    "\n",
    "PERCENTAGE : float = statistics.mean(marks)\n",
    "\n",
    "PERCENTAGE"
   ]
  },
  {
   "cell_type": "markdown",
   "metadata": {},
   "source": [
    "## requests Library"
   ]
  },
  {
   "cell_type": "code",
   "execution_count": 1,
   "metadata": {},
   "outputs": [
    {
     "data": {
      "text/plain": [
       "{'login': 'Sarmad426',\n",
       " 'id': 112152732,\n",
       " 'node_id': 'U_kgDOBq9QnA',\n",
       " 'avatar_url': 'https://avatars.githubusercontent.com/u/112152732?v=4',\n",
       " 'gravatar_id': '',\n",
       " 'url': 'https://api.github.com/users/Sarmad426',\n",
       " 'html_url': 'https://github.com/Sarmad426',\n",
       " 'followers_url': 'https://api.github.com/users/Sarmad426/followers',\n",
       " 'following_url': 'https://api.github.com/users/Sarmad426/following{/other_user}',\n",
       " 'gists_url': 'https://api.github.com/users/Sarmad426/gists{/gist_id}',\n",
       " 'starred_url': 'https://api.github.com/users/Sarmad426/starred{/owner}{/repo}',\n",
       " 'subscriptions_url': 'https://api.github.com/users/Sarmad426/subscriptions',\n",
       " 'organizations_url': 'https://api.github.com/users/Sarmad426/orgs',\n",
       " 'repos_url': 'https://api.github.com/users/Sarmad426/repos',\n",
       " 'events_url': 'https://api.github.com/users/Sarmad426/events{/privacy}',\n",
       " 'received_events_url': 'https://api.github.com/users/Sarmad426/received_events',\n",
       " 'type': 'User',\n",
       " 'site_admin': False,\n",
       " 'name': 'Sarmad Rafique',\n",
       " 'company': None,\n",
       " 'blog': 'https://sarmad-portfolio.vercel.app/',\n",
       " 'location': 'Lahore, Pakistan',\n",
       " 'email': None,\n",
       " 'hireable': True,\n",
       " 'bio': 'Full Stack Engineer. Cloud and Generative AI Enthusiast. Python | Typescript | Docker',\n",
       " 'twitter_username': 'SarmadRafique2',\n",
       " 'public_repos': 36,\n",
       " 'public_gists': 0,\n",
       " 'followers': 14,\n",
       " 'following': 5,\n",
       " 'created_at': '2022-08-26T05:35:26Z',\n",
       " 'updated_at': '2024-08-24T12:24:24Z'}"
      ]
     },
     "metadata": {},
     "output_type": "display_data"
    }
   ],
   "source": [
    "import requests\n",
    "\n",
    "\n",
    "def get_github_user(username: str):\n",
    "    \"\"\"\n",
    "    Gets the github user via api\n",
    "\n",
    "    Parameters:\n",
    "    username (str): Username of the github user\n",
    "\n",
    "    Returns:\n",
    "    user (json object): The github user's info as a json object. If not found, returns None\n",
    "    \"\"\"\n",
    "    api_url = f\"https://api.github.com/users/{username}\"\n",
    "    response = requests.get(api_url)\n",
    "    user = response.json()\n",
    "    if response.status_code == 200:\n",
    "        return user\n",
    "    return None\n",
    "\n",
    "\n",
    "github_user_search = input(\"Search for Github user with username: \")\n",
    "\n",
    "user = get_github_user(github_user_search)\n",
    "\n",
    "if user:\n",
    "    display(user)\n",
    "else:\n",
    "    print(\"No GitHub user found!\")"
   ]
  },
  {
   "cell_type": "markdown",
   "metadata": {},
   "source": [
    "## Python JSON library"
   ]
  },
  {
   "cell_type": "code",
   "execution_count": 6,
   "metadata": {},
   "outputs": [
    {
     "name": "stdout",
     "output_type": "stream",
     "text": [
      "{\n",
      "    \"name\": \"Sarmad Rafique\",\n",
      "    \"email\": null,\n",
      "    \"bio\": \"JAM Stack Developer. Empowering Apps with Generative AI.\"\n",
      "}\n"
     ]
    }
   ],
   "source": [
    "import json\n",
    "\n",
    "if user:\n",
    "    details : dict[str,str] = {\n",
    "        'name': user['name'],\n",
    "        'email': user['email'],\n",
    "        'bio': user['bio']\n",
    "    }\n",
    "\n",
    "    print(json.dumps(details,indent=4))"
   ]
  }
 ],
 "metadata": {
  "kernelspec": {
   "display_name": "py-12",
   "language": "python",
   "name": "python3"
  },
  "language_info": {
   "codemirror_mode": {
    "name": "ipython",
    "version": 3
   },
   "file_extension": ".py",
   "mimetype": "text/x-python",
   "name": "python",
   "nbconvert_exporter": "python",
   "pygments_lexer": "ipython3",
   "version": "3.12.6"
  }
 },
 "nbformat": 4,
 "nbformat_minor": 2
}
