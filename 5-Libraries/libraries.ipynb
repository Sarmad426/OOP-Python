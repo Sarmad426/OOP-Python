{
 "cells": [
  {
   "cell_type": "markdown",
   "metadata": {},
   "source": [
    "# Libraries Covered in this module\n",
    "\n",
    "- random\n",
    "- statistics\n",
    "- json (JSON)\n",
    "- requests \n",
    "    - 3rd party library for &rightarrow; (API Requests) "
   ]
  },
  {
   "cell_type": "markdown",
   "metadata": {},
   "source": [
    "## Python random library"
   ]
  },
  {
   "cell_type": "code",
   "execution_count": 12,
   "metadata": {},
   "outputs": [
    {
     "data": {
      "text/plain": [
       "'TAILS'"
      ]
     },
     "execution_count": 12,
     "metadata": {},
     "output_type": "execute_result"
    }
   ],
   "source": [
    "# Toss program\n",
    "import random\n",
    "\n",
    "toss: str = random.choice([\"HEADS\", \"TAILS\"])\n",
    "\n",
    "toss"
   ]
  },
  {
   "cell_type": "code",
   "execution_count": 13,
   "metadata": {},
   "outputs": [
    {
     "data": {
      "text/plain": [
       "6"
      ]
     },
     "execution_count": 13,
     "metadata": {},
     "output_type": "execute_result"
    }
   ],
   "source": [
    "num: int = random.randint(1, 10)\n",
    "\n",
    "num"
   ]
  },
  {
   "cell_type": "code",
   "execution_count": 6,
   "metadata": {},
   "outputs": [
    {
     "data": {
      "text/plain": [
       "['King', 'A', '7🧡', 'Queen', 'Jack']"
      ]
     },
     "execution_count": 6,
     "metadata": {},
     "output_type": "execute_result"
    }
   ],
   "source": [
    "# Shuffle\n",
    "\n",
    "cards: list[str] = [\"Jack\", \"Queen\", \"King\", \"A\", \"7🧡\"]\n",
    "\n",
    "random.shuffle(cards)\n",
    "\n",
    "cards"
   ]
  },
  {
   "cell_type": "markdown",
   "metadata": {},
   "source": [
    "## Statistics Library"
   ]
  },
  {
   "cell_type": "code",
   "execution_count": 7,
   "metadata": {},
   "outputs": [
    {
     "name": "stdout",
     "output_type": "stream",
     "text": [
      "Mean: 80.6, Median: 81, Mode: 88\n"
     ]
    }
   ],
   "source": [
    "import statistics\n",
    "\n",
    "marks: list[int] = [88, 82, 81, 77, 75]\n",
    "\n",
    "MEAN: float = statistics.mean(marks)\n",
    "MEDIAN: float = statistics.median(marks)\n",
    "MODE: float = statistics.mode(marks)\n",
    "\n",
    "\n",
    "print(f\"Mean: {MEAN}, Median: {MEDIAN}, Mode: {MODE}\")"
   ]
  },
  {
   "cell_type": "markdown",
   "metadata": {},
   "source": [
    "## requests Library"
   ]
  },
  {
   "cell_type": "code",
   "execution_count": 2,
   "metadata": {},
   "outputs": [
    {
     "data": {
      "text/plain": [
       "{'login': 'Sarmad426',\n",
       " 'id': 112152732,\n",
       " 'node_id': 'U_kgDOBq9QnA',\n",
       " 'avatar_url': 'https://avatars.githubusercontent.com/u/112152732?v=4',\n",
       " 'gravatar_id': '',\n",
       " 'url': 'https://api.github.com/users/Sarmad426',\n",
       " 'html_url': 'https://github.com/Sarmad426',\n",
       " 'followers_url': 'https://api.github.com/users/Sarmad426/followers',\n",
       " 'following_url': 'https://api.github.com/users/Sarmad426/following{/other_user}',\n",
       " 'gists_url': 'https://api.github.com/users/Sarmad426/gists{/gist_id}',\n",
       " 'starred_url': 'https://api.github.com/users/Sarmad426/starred{/owner}{/repo}',\n",
       " 'subscriptions_url': 'https://api.github.com/users/Sarmad426/subscriptions',\n",
       " 'organizations_url': 'https://api.github.com/users/Sarmad426/orgs',\n",
       " 'repos_url': 'https://api.github.com/users/Sarmad426/repos',\n",
       " 'events_url': 'https://api.github.com/users/Sarmad426/events{/privacy}',\n",
       " 'received_events_url': 'https://api.github.com/users/Sarmad426/received_events',\n",
       " 'type': 'User',\n",
       " 'site_admin': False,\n",
       " 'name': 'Sarmad Rafique',\n",
       " 'company': None,\n",
       " 'blog': 'https://sarmad-portfolio.vercel.app/',\n",
       " 'location': None,\n",
       " 'email': None,\n",
       " 'hireable': True,\n",
       " 'bio': 'Full Stack Engineer. Cloud and Generative AI Enthusiast. Python | Typescript | Docker',\n",
       " 'twitter_username': 'SarmadRafique2',\n",
       " 'public_repos': 38,\n",
       " 'public_gists': 0,\n",
       " 'followers': 14,\n",
       " 'following': 8,\n",
       " 'created_at': '2022-08-26T05:35:26Z',\n",
       " 'updated_at': '2024-10-04T16:14:53Z'}"
      ]
     },
     "metadata": {},
     "output_type": "display_data"
    }
   ],
   "source": [
    "import requests\n",
    "\n",
    "\n",
    "def get_github_user(username: str):\n",
    "    \"\"\"\n",
    "    Gets the github user via api\n",
    "\n",
    "    Args:\n",
    "        username (str): Username of the github user\n",
    "\n",
    "    Returns:\n",
    "        user (json object): The github user's info as a json object. If not found, returns None\n",
    "    \"\"\"\n",
    "    api_url = f\"https://api.github.com/users/{username}\"\n",
    "    response = requests.get(api_url)\n",
    "    user = response.json()\n",
    "    if response.status_code == 200:\n",
    "        return user\n",
    "    return None\n",
    "\n",
    "\n",
    "username = input(\"Search for Github user with username: \").strip()\n",
    "\n",
    "user = get_github_user(username)\n",
    "\n",
    "if user:\n",
    "    display(user)\n",
    "else:\n",
    "    print(\"No GitHub user found!\")"
   ]
  },
  {
   "cell_type": "markdown",
   "metadata": {},
   "source": [
    "## Python JSON library"
   ]
  },
  {
   "cell_type": "code",
   "execution_count": 4,
   "metadata": {},
   "outputs": [
    {
     "name": "stdout",
     "output_type": "stream",
     "text": [
      "{\n",
      "    \"name\": \"Sarmad Rafique\",\n",
      "    \"username\": \"Sarmad426\",\n",
      "    \"bio\": \"Full Stack Engineer. Cloud and Generative AI Enthusiast. Python | Typescript | Docker\"\n",
      "}\n"
     ]
    }
   ],
   "source": [
    "import json\n",
    "\n",
    "if user:\n",
    "    details: dict[str, str] = {\n",
    "        \"name\": user[\"name\"],\n",
    "        \"username\": user[\"login\"],\n",
    "        \"bio\": user[\"bio\"],\n",
    "    }\n",
    "\n",
    "    print(json.dumps(details, indent=4))"
   ]
  }
 ],
 "metadata": {
  "kernelspec": {
   "display_name": "venv",
   "language": "python",
   "name": "python3"
  },
  "language_info": {
   "codemirror_mode": {
    "name": "ipython",
    "version": 3
   },
   "file_extension": ".py",
   "mimetype": "text/x-python",
   "name": "python",
   "nbconvert_exporter": "python",
   "pygments_lexer": "ipython3",
   "version": "3.12.6"
  }
 },
 "nbformat": 4,
 "nbformat_minor": 2
}
