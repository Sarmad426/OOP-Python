{
 "cells": [
  {
   "cell_type": "markdown",
   "metadata": {},
   "source": [
    "## Pandas Essentials"
   ]
  },
  {
   "cell_type": "code",
   "execution_count": 3,
   "metadata": {},
   "outputs": [
    {
     "name": "stdout",
     "output_type": "stream",
     "text": [
      "   FlightID           Airline Destination  Duration  Delay\n",
      "0         1  American Airline     Sharjah       330     18\n",
      "1         2      Tata Airline      Lahore       320     17\n",
      "2         3               PIA  Washington       297     93\n",
      "3         4     Japan Airways      Alaska       199     84\n",
      "4         5     Japan Airways      Madina       146      2\n",
      "                    Duration      Delay\n",
      "Airline                                \n",
      "American Airline  265.166667  50.777778\n",
      "Emirates          226.500000  61.700000\n",
      "Japan Airways     228.526316  55.736842\n",
      "PIA               227.125000  64.312500\n",
      "Qatar Airways     170.000000  65.875000\n",
      "Saudi Airline     213.500000  45.500000\n",
      "Tata Airline      215.444444  68.555556\n"
     ]
    }
   ],
   "source": [
    "import pandas as pd\n",
    "import numpy as np\n",
    "\n",
    "# Create a random flights data CSV file\n",
    "np.random.seed(0)\n",
    "num_records = 100\n",
    "\n",
    "AIRLINES = [\n",
    "    \"PIA\",\n",
    "    \"Qatar Airways\",\n",
    "    \"Emirates\",\n",
    "    \"Japan Airways\",\n",
    "    \"American Airline\",\n",
    "    \"Tata Airline\",\n",
    "    \"Saudi Airline\",\n",
    "]\n",
    "\n",
    "CITIES = [\n",
    "    \"Dubai\",\n",
    "    \"Delhi\",\n",
    "    \"Karachi\",\n",
    "    \"Riyad\",\n",
    "    \"Makkah\",\n",
    "    \"Madina\",\n",
    "    \"Kuwait\",\n",
    "    \"Lahore\",\n",
    "    \"Colombo\",\n",
    "    \"Dhaka\",\n",
    "    \"Sharjah\",\n",
    "    \"Mumbai\",\n",
    "    \"Auckland\",\n",
    "    \"Alaska\",\n",
    "    \"San Francisco\",\n",
    "    \"Washington\",\n",
    "]\n",
    "\n",
    "flights_data = {\n",
    "    \"FlightID\": np.arange(1, num_records + 1),\n",
    "    \"Airline\": np.random.choice(AIRLINES, num_records),\n",
    "    \"Destination\": np.random.choice(CITIES, num_records),\n",
    "    \"Duration\": np.random.randint(60, 360, num_records),  # Duration in minutes\n",
    "    \"Delay\": np.random.randint(0, 120, num_records),  # Delay in minutes\n",
    "}\n",
    "\n",
    "flights_df = pd.DataFrame(flights_data)\n",
    "flights_df.to_csv(\"random_flights_data.csv\", index=False)\n",
    "\n",
    "# Read the CSV file using pandas\n",
    "flights_df = pd.read_csv(\"random_flights_data.csv\")\n",
    "\n",
    "# Display the first few rows of the dataframe\n",
    "print(flights_df.head())\n",
    "\n",
    "# Perform operations on the data\n",
    "# Example: Calculate the average duration and delay for each airline\n",
    "average_stats = flights_df.groupby(\"Airline\")[[\"Duration\", \"Delay\"]].mean()\n",
    "print(average_stats)"
   ]
  }
 ],
 "metadata": {
  "kernelspec": {
   "display_name": "venv",
   "language": "python",
   "name": "python3"
  },
  "language_info": {
   "codemirror_mode": {
    "name": "ipython",
    "version": 3
   },
   "file_extension": ".py",
   "mimetype": "text/x-python",
   "name": "python",
   "nbconvert_exporter": "python",
   "pygments_lexer": "ipython3",
   "version": "3.12.6"
  }
 },
 "nbformat": 4,
 "nbformat_minor": 2
}
