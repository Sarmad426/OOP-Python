{
 "cells": [
  {
   "cell_type": "markdown",
   "metadata": {},
   "source": [
    "## Pandas Essentials"
   ]
  },
  {
   "cell_type": "code",
   "execution_count": 100,
   "metadata": {},
   "outputs": [],
   "source": [
    "import pandas as pd\n",
    "import numpy as np\n",
    "\n",
    "# Create a random flights data CSV file\n",
    "# np.random.seed(0)\n",
    "num_records = 100\n",
    "\n",
    "AIRLINES = [\n",
    "    \"PIA\",\n",
    "    \"Qatar Airways\",\n",
    "    \"Emirates\",\n",
    "    \"Japan Airways\",\n",
    "    \"American Airline\",\n",
    "    \"Tata Airline\",\n",
    "    \"Saudi Airline\",\n",
    "]\n",
    "\n",
    "CITIES = [\n",
    "    \"Dubai\",\n",
    "    \"Delhi\",\n",
    "    \"Karachi\",\n",
    "    \"Riyadh\",\n",
    "    \"Mecca\",\n",
    "    \"Medina\",\n",
    "    \"Kuwait\",\n",
    "    \"Lahore\",\n",
    "    \"Colombo\",\n",
    "    \"Dhaka\",\n",
    "    \"Sharjah\",\n",
    "    \"Mumbai\",\n",
    "    \"Auckland\",\n",
    "    \"Alaska\",\n",
    "    \"San Francisco\",\n",
    "    \"Washington\",\n",
    "]\n"
   ]
  },
  {
   "cell_type": "markdown",
   "metadata": {},
   "source": [
    "## Creating a random DataFrame"
   ]
  },
  {
   "cell_type": "code",
   "execution_count": 101,
   "metadata": {},
   "outputs": [],
   "source": [
    "flights_data = {\n",
    "    \"FlightID\": np.arange(1, num_records + 1),\n",
    "    \"Airline\": np.random.choice(AIRLINES, num_records),\n",
    "    \"Destination\": np.random.choice(CITIES, num_records),\n",
    "    \"Duration\": np.random.randint(60, 360, num_records),  # Duration in minutes\n",
    "    \"Delay\": np.random.randint(0, 120, num_records),  # Delay in minutes\n",
    "}\n",
    "\n",
    "df = pd.DataFrame(flights_data)\n",
    "df.to_csv(\"random_flights_data.csv\", index=False)\n"
   ]
  },
  {
   "cell_type": "code",
   "execution_count": 102,
   "metadata": {},
   "outputs": [],
   "source": [
    "# Read the CSV file using pandas\n",
    "df = pd.read_csv(\"random_flights_data.csv\")\n"
   ]
  },
  {
   "cell_type": "code",
   "execution_count": 103,
   "metadata": {},
   "outputs": [
    {
     "data": {
      "text/html": [
       "<div>\n",
       "<style scoped>\n",
       "    .dataframe tbody tr th:only-of-type {\n",
       "        vertical-align: middle;\n",
       "    }\n",
       "\n",
       "    .dataframe tbody tr th {\n",
       "        vertical-align: top;\n",
       "    }\n",
       "\n",
       "    .dataframe thead th {\n",
       "        text-align: right;\n",
       "    }\n",
       "</style>\n",
       "<table border=\"1\" class=\"dataframe\">\n",
       "  <thead>\n",
       "    <tr style=\"text-align: right;\">\n",
       "      <th></th>\n",
       "      <th>FlightID</th>\n",
       "      <th>Airline</th>\n",
       "      <th>Destination</th>\n",
       "      <th>Duration</th>\n",
       "      <th>Delay</th>\n",
       "    </tr>\n",
       "  </thead>\n",
       "  <tbody>\n",
       "    <tr>\n",
       "      <th>0</th>\n",
       "      <td>1</td>\n",
       "      <td>Qatar Airways</td>\n",
       "      <td>Karachi</td>\n",
       "      <td>69</td>\n",
       "      <td>27</td>\n",
       "    </tr>\n",
       "    <tr>\n",
       "      <th>1</th>\n",
       "      <td>2</td>\n",
       "      <td>Japan Airways</td>\n",
       "      <td>Karachi</td>\n",
       "      <td>236</td>\n",
       "      <td>13</td>\n",
       "    </tr>\n",
       "    <tr>\n",
       "      <th>2</th>\n",
       "      <td>3</td>\n",
       "      <td>Emirates</td>\n",
       "      <td>Mecca</td>\n",
       "      <td>63</td>\n",
       "      <td>93</td>\n",
       "    </tr>\n",
       "    <tr>\n",
       "      <th>3</th>\n",
       "      <td>4</td>\n",
       "      <td>American Airline</td>\n",
       "      <td>Dubai</td>\n",
       "      <td>220</td>\n",
       "      <td>21</td>\n",
       "    </tr>\n",
       "    <tr>\n",
       "      <th>4</th>\n",
       "      <td>5</td>\n",
       "      <td>PIA</td>\n",
       "      <td>Dhaka</td>\n",
       "      <td>315</td>\n",
       "      <td>102</td>\n",
       "    </tr>\n",
       "  </tbody>\n",
       "</table>\n",
       "</div>"
      ],
      "text/plain": [
       "   FlightID           Airline Destination  Duration  Delay\n",
       "0         1     Qatar Airways     Karachi        69     27\n",
       "1         2     Japan Airways     Karachi       236     13\n",
       "2         3          Emirates       Mecca        63     93\n",
       "3         4  American Airline       Dubai       220     21\n",
       "4         5               PIA       Dhaka       315    102"
      ]
     },
     "execution_count": 103,
     "metadata": {},
     "output_type": "execute_result"
    }
   ],
   "source": [
    "# Returns the first five rows of the dataframe\n",
    "df.head()\n",
    "\n",
    "# Pass a number as parameter to get that many rows from the top\n",
    "# `df.head(10)` will return 10 rows"
   ]
  },
  {
   "cell_type": "code",
   "execution_count": 104,
   "metadata": {},
   "outputs": [
    {
     "data": {
      "text/html": [
       "<div>\n",
       "<style scoped>\n",
       "    .dataframe tbody tr th:only-of-type {\n",
       "        vertical-align: middle;\n",
       "    }\n",
       "\n",
       "    .dataframe tbody tr th {\n",
       "        vertical-align: top;\n",
       "    }\n",
       "\n",
       "    .dataframe thead th {\n",
       "        text-align: right;\n",
       "    }\n",
       "</style>\n",
       "<table border=\"1\" class=\"dataframe\">\n",
       "  <thead>\n",
       "    <tr style=\"text-align: right;\">\n",
       "      <th></th>\n",
       "      <th>FlightID</th>\n",
       "      <th>Airline</th>\n",
       "      <th>Destination</th>\n",
       "      <th>Duration</th>\n",
       "      <th>Delay</th>\n",
       "    </tr>\n",
       "  </thead>\n",
       "  <tbody>\n",
       "    <tr>\n",
       "      <th>95</th>\n",
       "      <td>96</td>\n",
       "      <td>Tata Airline</td>\n",
       "      <td>Delhi</td>\n",
       "      <td>290</td>\n",
       "      <td>38</td>\n",
       "    </tr>\n",
       "    <tr>\n",
       "      <th>96</th>\n",
       "      <td>97</td>\n",
       "      <td>Tata Airline</td>\n",
       "      <td>Delhi</td>\n",
       "      <td>264</td>\n",
       "      <td>47</td>\n",
       "    </tr>\n",
       "    <tr>\n",
       "      <th>97</th>\n",
       "      <td>98</td>\n",
       "      <td>Tata Airline</td>\n",
       "      <td>San Francisco</td>\n",
       "      <td>135</td>\n",
       "      <td>63</td>\n",
       "    </tr>\n",
       "    <tr>\n",
       "      <th>98</th>\n",
       "      <td>99</td>\n",
       "      <td>Saudi Airline</td>\n",
       "      <td>Dubai</td>\n",
       "      <td>176</td>\n",
       "      <td>80</td>\n",
       "    </tr>\n",
       "    <tr>\n",
       "      <th>99</th>\n",
       "      <td>100</td>\n",
       "      <td>Saudi Airline</td>\n",
       "      <td>Riyadh</td>\n",
       "      <td>217</td>\n",
       "      <td>96</td>\n",
       "    </tr>\n",
       "  </tbody>\n",
       "</table>\n",
       "</div>"
      ],
      "text/plain": [
       "    FlightID        Airline    Destination  Duration  Delay\n",
       "95        96   Tata Airline          Delhi       290     38\n",
       "96        97   Tata Airline          Delhi       264     47\n",
       "97        98   Tata Airline  San Francisco       135     63\n",
       "98        99  Saudi Airline          Dubai       176     80\n",
       "99       100  Saudi Airline         Riyadh       217     96"
      ]
     },
     "execution_count": 104,
     "metadata": {},
     "output_type": "execute_result"
    }
   ],
   "source": [
    "# Similar to head(), tail() returns the last five rows of the dataframe\n",
    "df.tail()"
   ]
  },
  {
   "cell_type": "code",
   "execution_count": 105,
   "metadata": {},
   "outputs": [
    {
     "data": {
      "text/html": [
       "<div>\n",
       "<style scoped>\n",
       "    .dataframe tbody tr th:only-of-type {\n",
       "        vertical-align: middle;\n",
       "    }\n",
       "\n",
       "    .dataframe tbody tr th {\n",
       "        vertical-align: top;\n",
       "    }\n",
       "\n",
       "    .dataframe thead th {\n",
       "        text-align: right;\n",
       "    }\n",
       "</style>\n",
       "<table border=\"1\" class=\"dataframe\">\n",
       "  <thead>\n",
       "    <tr style=\"text-align: right;\">\n",
       "      <th></th>\n",
       "      <th>FlightID</th>\n",
       "      <th>Airline</th>\n",
       "      <th>Destination</th>\n",
       "      <th>Duration</th>\n",
       "      <th>Delay</th>\n",
       "    </tr>\n",
       "  </thead>\n",
       "  <tbody>\n",
       "    <tr>\n",
       "      <th>95</th>\n",
       "      <td>96</td>\n",
       "      <td>Tata Airline</td>\n",
       "      <td>Delhi</td>\n",
       "      <td>290</td>\n",
       "      <td>38</td>\n",
       "    </tr>\n",
       "    <tr>\n",
       "      <th>96</th>\n",
       "      <td>97</td>\n",
       "      <td>Tata Airline</td>\n",
       "      <td>Delhi</td>\n",
       "      <td>264</td>\n",
       "      <td>47</td>\n",
       "    </tr>\n",
       "    <tr>\n",
       "      <th>97</th>\n",
       "      <td>98</td>\n",
       "      <td>Tata Airline</td>\n",
       "      <td>San Francisco</td>\n",
       "      <td>135</td>\n",
       "      <td>63</td>\n",
       "    </tr>\n",
       "    <tr>\n",
       "      <th>98</th>\n",
       "      <td>99</td>\n",
       "      <td>Saudi Airline</td>\n",
       "      <td>Dubai</td>\n",
       "      <td>176</td>\n",
       "      <td>80</td>\n",
       "    </tr>\n",
       "    <tr>\n",
       "      <th>99</th>\n",
       "      <td>100</td>\n",
       "      <td>Saudi Airline</td>\n",
       "      <td>Riyadh</td>\n",
       "      <td>217</td>\n",
       "      <td>96</td>\n",
       "    </tr>\n",
       "  </tbody>\n",
       "</table>\n",
       "</div>"
      ],
      "text/plain": [
       "    FlightID        Airline    Destination  Duration  Delay\n",
       "95        96   Tata Airline          Delhi       290     38\n",
       "96        97   Tata Airline          Delhi       264     47\n",
       "97        98   Tata Airline  San Francisco       135     63\n",
       "98        99  Saudi Airline          Dubai       176     80\n",
       "99       100  Saudi Airline         Riyadh       217     96"
      ]
     },
     "execution_count": 105,
     "metadata": {},
     "output_type": "execute_result"
    }
   ],
   "source": [
    "# Similar to head(), tail() returns the last five rows of the dataframe\n",
    "df.tail()"
   ]
  },
  {
   "cell_type": "markdown",
   "metadata": {},
   "source": [
    "## Perform operations on the data"
   ]
  },
  {
   "cell_type": "code",
   "execution_count": 117,
   "metadata": {},
   "outputs": [
    {
     "data": {
      "text/html": [
       "<div>\n",
       "<style scoped>\n",
       "    .dataframe tbody tr th:only-of-type {\n",
       "        vertical-align: middle;\n",
       "    }\n",
       "\n",
       "    .dataframe tbody tr th {\n",
       "        vertical-align: top;\n",
       "    }\n",
       "\n",
       "    .dataframe thead th {\n",
       "        text-align: right;\n",
       "    }\n",
       "</style>\n",
       "<table border=\"1\" class=\"dataframe\">\n",
       "  <thead>\n",
       "    <tr style=\"text-align: right;\">\n",
       "      <th></th>\n",
       "      <th>Duration</th>\n",
       "      <th>Delay</th>\n",
       "    </tr>\n",
       "    <tr>\n",
       "      <th>Airline</th>\n",
       "      <th></th>\n",
       "      <th></th>\n",
       "    </tr>\n",
       "  </thead>\n",
       "  <tbody>\n",
       "    <tr>\n",
       "      <th>American Airline</th>\n",
       "      <td>195.571429</td>\n",
       "      <td>56.928571</td>\n",
       "    </tr>\n",
       "    <tr>\n",
       "      <th>Emirates</th>\n",
       "      <td>202.800000</td>\n",
       "      <td>70.800000</td>\n",
       "    </tr>\n",
       "    <tr>\n",
       "      <th>Japan Airways</th>\n",
       "      <td>213.200000</td>\n",
       "      <td>59.733333</td>\n",
       "    </tr>\n",
       "    <tr>\n",
       "      <th>PIA</th>\n",
       "      <td>234.437500</td>\n",
       "      <td>56.375000</td>\n",
       "    </tr>\n",
       "    <tr>\n",
       "      <th>Qatar Airways</th>\n",
       "      <td>214.750000</td>\n",
       "      <td>51.250000</td>\n",
       "    </tr>\n",
       "    <tr>\n",
       "      <th>Saudi Airline</th>\n",
       "      <td>203.285714</td>\n",
       "      <td>60.285714</td>\n",
       "    </tr>\n",
       "    <tr>\n",
       "      <th>Tata Airline</th>\n",
       "      <td>212.631579</td>\n",
       "      <td>69.473684</td>\n",
       "    </tr>\n",
       "  </tbody>\n",
       "</table>\n",
       "</div>"
      ],
      "text/plain": [
       "                    Duration      Delay\n",
       "Airline                                \n",
       "American Airline  195.571429  56.928571\n",
       "Emirates          202.800000  70.800000\n",
       "Japan Airways     213.200000  59.733333\n",
       "PIA               234.437500  56.375000\n",
       "Qatar Airways     214.750000  51.250000\n",
       "Saudi Airline     203.285714  60.285714\n",
       "Tata Airline      212.631579  69.473684"
      ]
     },
     "metadata": {},
     "output_type": "display_data"
    },
    {
     "data": {
      "text/plain": [
       "'Max Delay: 70.8 minutes'"
      ]
     },
     "metadata": {},
     "output_type": "display_data"
    },
    {
     "data": {
      "text/plain": [
       "'Max Duration: 234.4375 minutes'"
      ]
     },
     "metadata": {},
     "output_type": "display_data"
    }
   ],
   "source": [
    "\n",
    "# Example: Calculate the average duration and delay for each airline\n",
    "average_stats = df.groupby(\"Airline\")[[\"Duration\", \"Delay\"]].mean()\n",
    "display(average_stats)\n",
    "\n",
    "display(f\"Max Delay: {average_stats['Delay'].max()} minutes\")\n",
    "display(f\"Max Duration: {average_stats['Duration'].max()} minutes\")\n"
   ]
  },
  {
   "cell_type": "code",
   "execution_count": 107,
   "metadata": {},
   "outputs": [
    {
     "data": {
      "text/plain": [
       "'Airline with the maximum average delay: Emirates'"
      ]
     },
     "metadata": {},
     "output_type": "display_data"
    },
    {
     "data": {
      "text/plain": [
       "'Airline with the maximum average duration: PIA'"
      ]
     },
     "metadata": {},
     "output_type": "display_data"
    }
   ],
   "source": [
    "max_delay_airline = average_stats[\"Delay\"].idxmax()\n",
    "max_duration_airline = average_stats[\"Duration\"].idxmax()\n",
    "\n",
    "display(f\"Airline with the maximum average delay: {max_delay_airline}\")\n",
    "display(f\"Airline with the maximum average duration: {max_duration_airline}\")"
   ]
  },
  {
   "cell_type": "code",
   "execution_count": 108,
   "metadata": {},
   "outputs": [
    {
     "name": "stdout",
     "output_type": "stream",
     "text": [
      "<class 'pandas.core.frame.DataFrame'>\n",
      "RangeIndex: 100 entries, 0 to 99\n",
      "Columns: 5 entries, FlightID to Delay\n",
      "dtypes: int64(3), object(2)\n",
      "memory usage: 4.0+ KB\n"
     ]
    }
   ],
   "source": [
    "df.info(verbose=False) # Provides a concise summary of the dataframe"
   ]
  },
  {
   "cell_type": "code",
   "execution_count": 109,
   "metadata": {},
   "outputs": [
    {
     "data": {
      "text/plain": [
       "\"Columns: Index(['FlightID', 'Airline', 'Destination', 'Duration', 'Delay'], dtype='object')\""
      ]
     },
     "metadata": {},
     "output_type": "display_data"
    },
    {
     "data": {
      "text/plain": [
       "\"Keys: Index(['FlightID', 'Airline', 'Destination', 'Duration', 'Delay'], dtype='object')\""
      ]
     },
     "metadata": {},
     "output_type": "display_data"
    },
    {
     "data": {
      "text/plain": [
       "'Index: RangeIndex(start=0, stop=100, step=1)'"
      ]
     },
     "metadata": {},
     "output_type": "display_data"
    },
    {
     "data": {
      "text/plain": [
       "\"Values: [[1 'Qatar Airways' 'Karachi' 69 27]\\n [2 'Japan Airways' 'Karachi' 236 13]\\n [3 'Emirates' 'Mecca' 63 93]\\n [4 'American Airline' 'Dubai' 220 21]\\n [5 'PIA' 'Dhaka' 315 102]\\n [6 'Emirates' 'Sharjah' 76 57]\\n [7 'Japan Airways' 'San Francisco' 66 113]\\n [8 'Qatar Airways' 'Sharjah' 168 53]\\n [9 'Emirates' 'Sharjah' 347 113]\\n [10 'Saudi Airline' 'Sharjah' 332 31]\\n [11 'Japan Airways' 'Alaska' 320 27]\\n [12 'Tata Airline' 'Sharjah' 173 97]\\n [13 'PIA' 'Dubai' 271 71]\\n [14 'Qatar Airways' 'Dhaka' 136 80]\\n [15 'Saudi Airline' 'Delhi' 227 69]\\n [16 'Japan Airways' 'Sharjah' 350 52]\\n [17 'PIA' 'Medina' 290 81]\\n [18 'PIA' 'Dhaka' 126 7]\\n [19 'Saudi Airline' 'San Francisco' 197 35]\\n [20 'Saudi Airline' 'Karachi' 68 27]\\n [21 'Japan Airways' 'Medina' 225 76]\\n [22 'Emirates' 'Washington' 148 36]\\n [23 'Tata Airline' 'Delhi' 131 38]\\n [24 'Emirates' 'Lahore' 144 113]\\n [25 'PIA' 'Lahore' 180 65]\\n [26 'American Airline' 'San Francisco' 331 32]\\n [27 'PIA' 'Auckland' 221 19]\\n [28 'Tata Airline' 'Mumbai' 197 42]\\n [29 'PIA' 'Riyadh' 282 86]\\n [30 'PIA' 'Mecca' 105 43]\\n [31 'Qatar Airways' 'Alaska' 341 3]\\n [32 'Japan Airways' 'Dubai' 311 98]\\n [33 'PIA' 'Karachi' 294 78]\\n [34 'American Airline' 'Riyadh' 162 104]\\n [35 'Tata Airline' 'Kuwait' 335 83]\\n [36 'Saudi Airline' 'Auckland' 187 62]\\n [37 'PIA' 'Washington' 347 49]\\n [38 'Tata Airline' 'Mumbai' 167 109]\\n [39 'Japan Airways' 'Medina' 91 63]\\n [40 'American Airline' 'Riyadh' 169 70]\\n [41 'American Airline' 'Colombo' 123 102]\\n [42 'Tata Airline' 'Karachi' 132 29]\\n [43 'Japan Airways' 'Colombo' 278 88]\\n [44 'Tata Airline' 'Sharjah' 221 115]\\n [45 'PIA' 'Mumbai' 154 47]\\n [46 'American Airline' 'Kuwait' 163 58]\\n [47 'American Airline' 'Kuwait' 206 30]\\n [48 'Tata Airline' 'Dubai' 229 18]\\n [49 'American Airline' 'Kuwait' 82 55]\\n [50 'Japan Airways' 'Colombo' 108 75]\\n [51 'Emirates' 'Riyadh' 316 60]\\n [52 'Emirates' 'Karachi' 288 84]\\n [53 'American Airline' 'Dubai' 341 73]\\n [54 'PIA' 'Washington' 337 29]\\n [55 'Japan Airways' 'Washington' 221 27]\\n [56 'Saudi Airline' 'Dubai' 172 89]\\n [57 'Saudi Airline' 'Medina' 119 107]\\n [58 'Saudi Airline' 'Lahore' 217 80]\\n [59 'Japan Airways' 'Dhaka' 278 111]\\n [60 'Qatar Airways' 'Washington' 178 58]\\n [61 'Tata Airline' 'Dubai' 294 22]\\n [62 'Qatar Airways' 'Delhi' 212 57]\\n [63 'Tata Airline' 'Mumbai' 103 80]\\n [64 'PIA' 'Mecca' 325 83]\\n [65 'Tata Airline' 'Colombo' 159 102]\\n [66 'Saudi Airline' 'Auckland' 129 91]\\n [67 'PIA' 'Karachi' 154 10]\\n [68 'Qatar Airways' 'Lahore' 352 107]\\n [69 'Qatar Airways' 'Karachi' 339 78]\\n [70 'Emirates' 'Kuwait' 104 46]\\n [71 'American Airline' 'Delhi' 171 69]\\n [72 'Saudi Airline' 'Auckland' 297 16]\\n [73 'Saudi Airline' 'Washington' 258 24]\\n [74 'PIA' 'Alaska' 245 18]\\n [75 'American Airline' 'Kuwait' 149 30]\\n [76 'Tata Airline' 'Medina' 227 109]\\n [77 'Qatar Airways' 'Kuwait' 180 9]\\n [78 'Japan Airways' 'Alaska' 236 69]\\n [79 'Tata Airline' 'Delhi' 219 96]\\n [80 'American Airline' 'Alaska' 194 116]\\n [81 'Emirates' 'San Francisco' 295 57]\\n [82 'American Airline' 'Delhi' 284 30]\\n [83 'Tata Airline' 'Lahore' 138 28]\\n [84 'Japan Airways' 'Sharjah' 118 46]\\n [85 'Qatar Airways' 'Lahore' 252 64]\\n [86 'PIA' 'Riyadh' 105 114]\\n [87 'Qatar Airways' 'Medina' 131 6]\\n [88 'Japan Airways' 'Delhi' 207 15]\\n [89 'Japan Airways' 'Lahore' 153 23]\\n [90 'Tata Airline' 'Karachi' 345 107]\\n [91 'American Airline' 'Karachi' 143 7]\\n [92 'Qatar Airways' 'Mecca' 219 73]\\n [93 'Tata Airline' 'Karachi' 281 97]\\n [94 'Saudi Airline' 'Colombo' 250 37]\\n [95 'Emirates' 'San Francisco' 247 49]\\n [96 'Tata Airline' 'Delhi' 290 38]\\n [97 'Tata Airline' 'Delhi' 264 47]\\n [98 'Tata Airline' 'San Francisco' 135 63]\\n [99 'Saudi Airline' 'Dubai' 176 80]\\n [100 'Saudi Airline' 'Riyadh' 217 96]]\""
      ]
     },
     "metadata": {},
     "output_type": "display_data"
    },
    {
     "data": {
      "text/plain": [
       "'Shape: (100, 5)'"
      ]
     },
     "metadata": {},
     "output_type": "display_data"
    },
    {
     "data": {
      "text/plain": [
       "'Length: 100'"
      ]
     },
     "metadata": {},
     "output_type": "display_data"
    },
    {
     "data": {
      "text/plain": [
       "'Size: 500'"
      ]
     },
     "metadata": {},
     "output_type": "display_data"
    },
    {
     "data": {
      "text/plain": [
       "'Data types: FlightID        int64\\nAirline        object\\nDestination    object\\nDuration        int64\\nDelay           int64\\ndtype: object'"
      ]
     },
     "metadata": {},
     "output_type": "display_data"
    },
    {
     "data": {
      "text/plain": [
       "'Memory usage: Index          132\\nFlightID       800\\nAirline        800\\nDestination    800\\nDuration       800\\nDelay          800\\ndtype: int64'"
      ]
     },
     "metadata": {},
     "output_type": "display_data"
    }
   ],
   "source": [
    "display(f\"Columns: {df.columns}\")\n",
    "display(f\"Keys: {df.keys()}\")\n",
    "display(f\"Index: {df.index}\")\n",
    "display(f\"Values: {df.values}\")\n",
    "display(f\"Shape: {df.shape}\")\n",
    "display(f\"Length: {len(df)}\")\n",
    "display(f\"Size: {df.size}\")\n",
    "display(f\"Data types: {df.dtypes}\")\n",
    "display(f\"Memory usage: {df.memory_usage()}\")"
   ]
  },
  {
   "cell_type": "code",
   "execution_count": 110,
   "metadata": {},
   "outputs": [
    {
     "data": {
      "text/html": [
       "<div>\n",
       "<style scoped>\n",
       "    .dataframe tbody tr th:only-of-type {\n",
       "        vertical-align: middle;\n",
       "    }\n",
       "\n",
       "    .dataframe tbody tr th {\n",
       "        vertical-align: top;\n",
       "    }\n",
       "\n",
       "    .dataframe thead th {\n",
       "        text-align: right;\n",
       "    }\n",
       "</style>\n",
       "<table border=\"1\" class=\"dataframe\">\n",
       "  <thead>\n",
       "    <tr style=\"text-align: right;\">\n",
       "      <th></th>\n",
       "      <th>FlightID</th>\n",
       "      <th>Duration</th>\n",
       "      <th>Delay</th>\n",
       "    </tr>\n",
       "  </thead>\n",
       "  <tbody>\n",
       "    <tr>\n",
       "      <th>count</th>\n",
       "      <td>100.000000</td>\n",
       "      <td>100.000000</td>\n",
       "      <td>100.000000</td>\n",
       "    </tr>\n",
       "    <tr>\n",
       "      <th>mean</th>\n",
       "      <td>50.500000</td>\n",
       "      <td>211.780000</td>\n",
       "      <td>60.820000</td>\n",
       "    </tr>\n",
       "    <tr>\n",
       "      <th>std</th>\n",
       "      <td>29.011492</td>\n",
       "      <td>81.818545</td>\n",
       "      <td>32.638943</td>\n",
       "    </tr>\n",
       "    <tr>\n",
       "      <th>min</th>\n",
       "      <td>1.000000</td>\n",
       "      <td>63.000000</td>\n",
       "      <td>3.000000</td>\n",
       "    </tr>\n",
       "    <tr>\n",
       "      <th>25%</th>\n",
       "      <td>25.750000</td>\n",
       "      <td>147.000000</td>\n",
       "      <td>30.000000</td>\n",
       "    </tr>\n",
       "    <tr>\n",
       "      <th>50%</th>\n",
       "      <td>50.500000</td>\n",
       "      <td>214.500000</td>\n",
       "      <td>61.000000</td>\n",
       "    </tr>\n",
       "    <tr>\n",
       "      <th>75%</th>\n",
       "      <td>75.250000</td>\n",
       "      <td>282.500000</td>\n",
       "      <td>86.500000</td>\n",
       "    </tr>\n",
       "    <tr>\n",
       "      <th>max</th>\n",
       "      <td>100.000000</td>\n",
       "      <td>352.000000</td>\n",
       "      <td>116.000000</td>\n",
       "    </tr>\n",
       "  </tbody>\n",
       "</table>\n",
       "</div>"
      ],
      "text/plain": [
       "         FlightID    Duration       Delay\n",
       "count  100.000000  100.000000  100.000000\n",
       "mean    50.500000  211.780000   60.820000\n",
       "std     29.011492   81.818545   32.638943\n",
       "min      1.000000   63.000000    3.000000\n",
       "25%     25.750000  147.000000   30.000000\n",
       "50%     50.500000  214.500000   61.000000\n",
       "75%     75.250000  282.500000   86.500000\n",
       "max    100.000000  352.000000  116.000000"
      ]
     },
     "execution_count": 110,
     "metadata": {},
     "output_type": "execute_result"
    }
   ],
   "source": [
    "df.describe() # Generates descriptive statistics of the dataframe"
   ]
  },
  {
   "cell_type": "code",
   "execution_count": 111,
   "metadata": {},
   "outputs": [
    {
     "data": {
      "text/plain": [
       "Airline\n",
       "Tata Airline        19\n",
       "PIA                 16\n",
       "Japan Airways       15\n",
       "American Airline    14\n",
       "Saudi Airline       14\n",
       "Qatar Airways       12\n",
       "Emirates            10\n",
       "Name: count, dtype: int64"
      ]
     },
     "metadata": {},
     "output_type": "display_data"
    },
    {
     "name": "stdout",
     "output_type": "stream",
     "text": [
      "Display max value in each column:              Airline    Destination  Delay  Duration\n",
      "0      Qatar Airways        Karachi     27        69\n",
      "1      Japan Airways        Karachi     13       236\n",
      "2           Emirates          Mecca     93        63\n",
      "3   American Airline          Dubai     21       220\n",
      "4                PIA          Dhaka    102       315\n",
      "..               ...            ...    ...       ...\n",
      "95      Tata Airline          Delhi     38       290\n",
      "96      Tata Airline          Delhi     47       264\n",
      "97      Tata Airline  San Francisco     63       135\n",
      "98     Saudi Airline          Dubai     80       176\n",
      "99     Saudi Airline         Riyadh     96       217\n",
      "\n",
      "[100 rows x 4 columns]\n"
     ]
    }
   ],
   "source": [
    "display(df['Airline'].value_counts()) # Returns the count of unique values in the 'Airline' column\n",
    "print(f\"Display max value in each column: {df[['Airline','Destination','Delay','Duration']]}\") # Returns the maximum value in each column"
   ]
  },
  {
   "cell_type": "markdown",
   "metadata": {},
   "source": [
    "### Conditional selection"
   ]
  },
  {
   "cell_type": "code",
   "execution_count": 112,
   "metadata": {},
   "outputs": [
    {
     "data": {
      "text/html": [
       "<div>\n",
       "<style scoped>\n",
       "    .dataframe tbody tr th:only-of-type {\n",
       "        vertical-align: middle;\n",
       "    }\n",
       "\n",
       "    .dataframe tbody tr th {\n",
       "        vertical-align: top;\n",
       "    }\n",
       "\n",
       "    .dataframe thead th {\n",
       "        text-align: right;\n",
       "    }\n",
       "</style>\n",
       "<table border=\"1\" class=\"dataframe\">\n",
       "  <thead>\n",
       "    <tr style=\"text-align: right;\">\n",
       "      <th></th>\n",
       "      <th>FlightID</th>\n",
       "      <th>Airline</th>\n",
       "      <th>Destination</th>\n",
       "      <th>Duration</th>\n",
       "      <th>Delay</th>\n",
       "    </tr>\n",
       "  </thead>\n",
       "  <tbody>\n",
       "    <tr>\n",
       "      <th>0</th>\n",
       "      <td>1</td>\n",
       "      <td>Qatar Airways</td>\n",
       "      <td>Karachi</td>\n",
       "      <td>69</td>\n",
       "      <td>27</td>\n",
       "    </tr>\n",
       "    <tr>\n",
       "      <th>2</th>\n",
       "      <td>3</td>\n",
       "      <td>Emirates</td>\n",
       "      <td>Mecca</td>\n",
       "      <td>63</td>\n",
       "      <td>93</td>\n",
       "    </tr>\n",
       "    <tr>\n",
       "      <th>5</th>\n",
       "      <td>6</td>\n",
       "      <td>Emirates</td>\n",
       "      <td>Sharjah</td>\n",
       "      <td>76</td>\n",
       "      <td>57</td>\n",
       "    </tr>\n",
       "    <tr>\n",
       "      <th>6</th>\n",
       "      <td>7</td>\n",
       "      <td>Japan Airways</td>\n",
       "      <td>San Francisco</td>\n",
       "      <td>66</td>\n",
       "      <td>113</td>\n",
       "    </tr>\n",
       "    <tr>\n",
       "      <th>19</th>\n",
       "      <td>20</td>\n",
       "      <td>Saudi Airline</td>\n",
       "      <td>Karachi</td>\n",
       "      <td>68</td>\n",
       "      <td>27</td>\n",
       "    </tr>\n",
       "    <tr>\n",
       "      <th>48</th>\n",
       "      <td>49</td>\n",
       "      <td>American Airline</td>\n",
       "      <td>Kuwait</td>\n",
       "      <td>82</td>\n",
       "      <td>55</td>\n",
       "    </tr>\n",
       "  </tbody>\n",
       "</table>\n",
       "</div>"
      ],
      "text/plain": [
       "    FlightID           Airline    Destination  Duration  Delay\n",
       "0          1     Qatar Airways        Karachi        69     27\n",
       "2          3          Emirates          Mecca        63     93\n",
       "5          6          Emirates        Sharjah        76     57\n",
       "6          7     Japan Airways  San Francisco        66    113\n",
       "19        20     Saudi Airline        Karachi        68     27\n",
       "48        49  American Airline         Kuwait        82     55"
      ]
     },
     "execution_count": 112,
     "metadata": {},
     "output_type": "execute_result"
    }
   ],
   "source": [
    "df[df['Duration'] < 90] #Performing list comprehension on the dataframe"
   ]
  },
  {
   "cell_type": "code",
   "execution_count": 113,
   "metadata": {},
   "outputs": [
    {
     "data": {
      "text/html": [
       "<div>\n",
       "<style scoped>\n",
       "    .dataframe tbody tr th:only-of-type {\n",
       "        vertical-align: middle;\n",
       "    }\n",
       "\n",
       "    .dataframe tbody tr th {\n",
       "        vertical-align: top;\n",
       "    }\n",
       "\n",
       "    .dataframe thead th {\n",
       "        text-align: right;\n",
       "    }\n",
       "</style>\n",
       "<table border=\"1\" class=\"dataframe\">\n",
       "  <thead>\n",
       "    <tr style=\"text-align: right;\">\n",
       "      <th></th>\n",
       "      <th>FlightID</th>\n",
       "      <th>Duration</th>\n",
       "      <th>Delay</th>\n",
       "    </tr>\n",
       "  </thead>\n",
       "  <tbody>\n",
       "    <tr>\n",
       "      <th>0</th>\n",
       "      <td>1</td>\n",
       "      <td>69</td>\n",
       "      <td>27</td>\n",
       "    </tr>\n",
       "    <tr>\n",
       "      <th>1</th>\n",
       "      <td>2</td>\n",
       "      <td>236</td>\n",
       "      <td>13</td>\n",
       "    </tr>\n",
       "    <tr>\n",
       "      <th>2</th>\n",
       "      <td>3</td>\n",
       "      <td>63</td>\n",
       "      <td>93</td>\n",
       "    </tr>\n",
       "    <tr>\n",
       "      <th>3</th>\n",
       "      <td>4</td>\n",
       "      <td>220</td>\n",
       "      <td>21</td>\n",
       "    </tr>\n",
       "    <tr>\n",
       "      <th>4</th>\n",
       "      <td>5</td>\n",
       "      <td>315</td>\n",
       "      <td>102</td>\n",
       "    </tr>\n",
       "    <tr>\n",
       "      <th>...</th>\n",
       "      <td>...</td>\n",
       "      <td>...</td>\n",
       "      <td>...</td>\n",
       "    </tr>\n",
       "    <tr>\n",
       "      <th>95</th>\n",
       "      <td>96</td>\n",
       "      <td>290</td>\n",
       "      <td>38</td>\n",
       "    </tr>\n",
       "    <tr>\n",
       "      <th>96</th>\n",
       "      <td>97</td>\n",
       "      <td>264</td>\n",
       "      <td>47</td>\n",
       "    </tr>\n",
       "    <tr>\n",
       "      <th>97</th>\n",
       "      <td>98</td>\n",
       "      <td>135</td>\n",
       "      <td>63</td>\n",
       "    </tr>\n",
       "    <tr>\n",
       "      <th>98</th>\n",
       "      <td>99</td>\n",
       "      <td>176</td>\n",
       "      <td>80</td>\n",
       "    </tr>\n",
       "    <tr>\n",
       "      <th>99</th>\n",
       "      <td>100</td>\n",
       "      <td>217</td>\n",
       "      <td>96</td>\n",
       "    </tr>\n",
       "  </tbody>\n",
       "</table>\n",
       "<p>100 rows × 3 columns</p>\n",
       "</div>"
      ],
      "text/plain": [
       "    FlightID  Duration  Delay\n",
       "0          1        69     27\n",
       "1          2       236     13\n",
       "2          3        63     93\n",
       "3          4       220     21\n",
       "4          5       315    102\n",
       "..       ...       ...    ...\n",
       "95        96       290     38\n",
       "96        97       264     47\n",
       "97        98       135     63\n",
       "98        99       176     80\n",
       "99       100       217     96\n",
       "\n",
       "[100 rows x 3 columns]"
      ]
     },
     "execution_count": 113,
     "metadata": {},
     "output_type": "execute_result"
    }
   ],
   "source": [
    "# Selecting columns based on data types\n",
    "df.select_dtypes('int') # Selects columns with numeric data types"
   ]
  },
  {
   "cell_type": "markdown",
   "metadata": {},
   "source": [
    "## Filtering rows\n",
    "\n",
    "The `loc` and the `iloc` method"
   ]
  },
  {
   "cell_type": "code",
   "execution_count": 114,
   "metadata": {},
   "outputs": [
    {
     "data": {
      "text/plain": [
       "(236, 236)"
      ]
     },
     "execution_count": 114,
     "metadata": {},
     "output_type": "execute_result"
    }
   ],
   "source": [
    "\n",
    "df.iloc[1,3], df.loc[1,'Duration']"
   ]
  },
  {
   "cell_type": "code",
   "execution_count": 115,
   "metadata": {},
   "outputs": [
    {
     "data": {
      "text/html": [
       "<div>\n",
       "<style scoped>\n",
       "    .dataframe tbody tr th:only-of-type {\n",
       "        vertical-align: middle;\n",
       "    }\n",
       "\n",
       "    .dataframe tbody tr th {\n",
       "        vertical-align: top;\n",
       "    }\n",
       "\n",
       "    .dataframe thead th {\n",
       "        text-align: right;\n",
       "    }\n",
       "</style>\n",
       "<table border=\"1\" class=\"dataframe\">\n",
       "  <thead>\n",
       "    <tr style=\"text-align: right;\">\n",
       "      <th></th>\n",
       "      <th>Airline</th>\n",
       "      <th>Destination</th>\n",
       "      <th>Duration</th>\n",
       "    </tr>\n",
       "  </thead>\n",
       "  <tbody>\n",
       "    <tr>\n",
       "      <th>2</th>\n",
       "      <td>Emirates</td>\n",
       "      <td>Mecca</td>\n",
       "      <td>63</td>\n",
       "    </tr>\n",
       "    <tr>\n",
       "      <th>3</th>\n",
       "      <td>American Airline</td>\n",
       "      <td>Dubai</td>\n",
       "      <td>220</td>\n",
       "    </tr>\n",
       "    <tr>\n",
       "      <th>4</th>\n",
       "      <td>PIA</td>\n",
       "      <td>Dhaka</td>\n",
       "      <td>315</td>\n",
       "    </tr>\n",
       "    <tr>\n",
       "      <th>5</th>\n",
       "      <td>Emirates</td>\n",
       "      <td>Sharjah</td>\n",
       "      <td>76</td>\n",
       "    </tr>\n",
       "    <tr>\n",
       "      <th>6</th>\n",
       "      <td>Japan Airways</td>\n",
       "      <td>San Francisco</td>\n",
       "      <td>66</td>\n",
       "    </tr>\n",
       "  </tbody>\n",
       "</table>\n",
       "</div>"
      ],
      "text/plain": [
       "            Airline    Destination  Duration\n",
       "2          Emirates          Mecca        63\n",
       "3  American Airline          Dubai       220\n",
       "4               PIA          Dhaka       315\n",
       "5          Emirates        Sharjah        76\n",
       "6     Japan Airways  San Francisco        66"
      ]
     },
     "execution_count": 115,
     "metadata": {},
     "output_type": "execute_result"
    }
   ],
   "source": [
    "df.loc[\n",
    "    2:6, \"Airline\":\"Duration\"\n",
    "]  # Selects rows 2 to 6 and columns 'Airline' to 'Duration'"
   ]
  },
  {
   "cell_type": "code",
   "execution_count": 116,
   "metadata": {},
   "outputs": [
    {
     "data": {
      "text/html": [
       "<div>\n",
       "<style scoped>\n",
       "    .dataframe tbody tr th:only-of-type {\n",
       "        vertical-align: middle;\n",
       "    }\n",
       "\n",
       "    .dataframe tbody tr th {\n",
       "        vertical-align: top;\n",
       "    }\n",
       "\n",
       "    .dataframe thead th {\n",
       "        text-align: right;\n",
       "    }\n",
       "</style>\n",
       "<table border=\"1\" class=\"dataframe\">\n",
       "  <thead>\n",
       "    <tr style=\"text-align: right;\">\n",
       "      <th></th>\n",
       "      <th>Destination</th>\n",
       "      <th>Duration</th>\n",
       "      <th>Delay</th>\n",
       "    </tr>\n",
       "  </thead>\n",
       "  <tbody>\n",
       "    <tr>\n",
       "      <th>0</th>\n",
       "      <td>Karachi</td>\n",
       "      <td>69</td>\n",
       "      <td>27</td>\n",
       "    </tr>\n",
       "    <tr>\n",
       "      <th>1</th>\n",
       "      <td>Karachi</td>\n",
       "      <td>236</td>\n",
       "      <td>13</td>\n",
       "    </tr>\n",
       "    <tr>\n",
       "      <th>2</th>\n",
       "      <td>Mecca</td>\n",
       "      <td>63</td>\n",
       "      <td>93</td>\n",
       "    </tr>\n",
       "    <tr>\n",
       "      <th>3</th>\n",
       "      <td>Dubai</td>\n",
       "      <td>220</td>\n",
       "      <td>21</td>\n",
       "    </tr>\n",
       "    <tr>\n",
       "      <th>4</th>\n",
       "      <td>Dhaka</td>\n",
       "      <td>315</td>\n",
       "      <td>102</td>\n",
       "    </tr>\n",
       "  </tbody>\n",
       "</table>\n",
       "</div>"
      ],
      "text/plain": [
       "  Destination  Duration  Delay\n",
       "0     Karachi        69     27\n",
       "1     Karachi       236     13\n",
       "2       Mecca        63     93\n",
       "3       Dubai       220     21\n",
       "4       Dhaka       315    102"
      ]
     },
     "execution_count": 116,
     "metadata": {},
     "output_type": "execute_result"
    }
   ],
   "source": [
    "df.iloc[0:5, 2:5] # Selecting a subset of the dataframe"
   ]
  }
 ],
 "metadata": {
  "kernelspec": {
   "display_name": "venv",
   "language": "python",
   "name": "python3"
  },
  "language_info": {
   "codemirror_mode": {
    "name": "ipython",
    "version": 3
   },
   "file_extension": ".py",
   "mimetype": "text/x-python",
   "name": "python",
   "nbconvert_exporter": "python",
   "pygments_lexer": "ipython3",
   "version": "3.12.6"
  }
 },
 "nbformat": 4,
 "nbformat_minor": 2
}
