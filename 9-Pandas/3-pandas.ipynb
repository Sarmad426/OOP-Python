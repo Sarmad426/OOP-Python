{
 "cells": [
  {
   "cell_type": "markdown",
   "metadata": {},
   "source": [
    "## Pandas Essentials"
   ]
  },
  {
   "cell_type": "code",
   "execution_count": 25,
   "metadata": {},
   "outputs": [],
   "source": [
    "import pandas as pd\n",
    "import numpy as np\n",
    "\n",
    "# Create a random flights data CSV file\n",
    "# np.random.seed(0)\n",
    "num_records = 100\n",
    "\n",
    "AIRLINES = [\n",
    "    \"PIA\",\n",
    "    \"Qatar Airways\",\n",
    "    \"Emirates\",\n",
    "    \"Japan Airways\",\n",
    "    \"American Airline\",\n",
    "    \"Tata Airline\",\n",
    "    \"Saudi Airline\",\n",
    "]\n",
    "\n",
    "CITIES = [\n",
    "    \"Dubai\",\n",
    "    \"Delhi\",\n",
    "    \"Karachi\",\n",
    "    \"Riyadh\",\n",
    "    \"Mecca\",\n",
    "    \"Medina\",\n",
    "    \"Kuwait\",\n",
    "    \"Lahore\",\n",
    "    \"Colombo\",\n",
    "    \"Dhaka\",\n",
    "    \"Sharjah\",\n",
    "    \"Mumbai\",\n",
    "    \"Auckland\",\n",
    "    \"Alaska\",\n",
    "    \"San Francisco\",\n",
    "    \"Washington\",\n",
    "]\n"
   ]
  },
  {
   "cell_type": "code",
   "execution_count": 26,
   "metadata": {},
   "outputs": [],
   "source": [
    "flights_data = {\n",
    "    \"FlightID\": np.arange(1, num_records + 1),\n",
    "    \"Airline\": np.random.choice(AIRLINES, num_records),\n",
    "    \"Destination\": np.random.choice(CITIES, num_records),\n",
    "    \"Duration\": np.random.randint(60, 360, num_records),  # Duration in minutes\n",
    "    \"Delay\": np.random.randint(0, 120, num_records),  # Delay in minutes\n",
    "}\n",
    "\n",
    "flights_df = pd.DataFrame(flights_data)\n",
    "flights_df.to_csv(\"random_flights_data.csv\", index=False)\n"
   ]
  },
  {
   "cell_type": "code",
   "execution_count": 27,
   "metadata": {},
   "outputs": [
    {
     "data": {
      "text/html": [
       "<div>\n",
       "<style scoped>\n",
       "    .dataframe tbody tr th:only-of-type {\n",
       "        vertical-align: middle;\n",
       "    }\n",
       "\n",
       "    .dataframe tbody tr th {\n",
       "        vertical-align: top;\n",
       "    }\n",
       "\n",
       "    .dataframe thead th {\n",
       "        text-align: right;\n",
       "    }\n",
       "</style>\n",
       "<table border=\"1\" class=\"dataframe\">\n",
       "  <thead>\n",
       "    <tr style=\"text-align: right;\">\n",
       "      <th></th>\n",
       "      <th>FlightID</th>\n",
       "      <th>Airline</th>\n",
       "      <th>Destination</th>\n",
       "      <th>Duration</th>\n",
       "      <th>Delay</th>\n",
       "    </tr>\n",
       "  </thead>\n",
       "  <tbody>\n",
       "    <tr>\n",
       "      <th>0</th>\n",
       "      <td>1</td>\n",
       "      <td>Tata Airline</td>\n",
       "      <td>Mecca</td>\n",
       "      <td>342</td>\n",
       "      <td>114</td>\n",
       "    </tr>\n",
       "    <tr>\n",
       "      <th>1</th>\n",
       "      <td>2</td>\n",
       "      <td>Emirates</td>\n",
       "      <td>Dubai</td>\n",
       "      <td>266</td>\n",
       "      <td>57</td>\n",
       "    </tr>\n",
       "    <tr>\n",
       "      <th>2</th>\n",
       "      <td>3</td>\n",
       "      <td>Emirates</td>\n",
       "      <td>Dubai</td>\n",
       "      <td>92</td>\n",
       "      <td>91</td>\n",
       "    </tr>\n",
       "    <tr>\n",
       "      <th>3</th>\n",
       "      <td>4</td>\n",
       "      <td>American Airline</td>\n",
       "      <td>Washington</td>\n",
       "      <td>175</td>\n",
       "      <td>89</td>\n",
       "    </tr>\n",
       "    <tr>\n",
       "      <th>4</th>\n",
       "      <td>5</td>\n",
       "      <td>Saudi Airline</td>\n",
       "      <td>Sharjah</td>\n",
       "      <td>238</td>\n",
       "      <td>3</td>\n",
       "    </tr>\n",
       "  </tbody>\n",
       "</table>\n",
       "</div>"
      ],
      "text/plain": [
       "   FlightID           Airline Destination  Duration  Delay\n",
       "0         1      Tata Airline       Mecca       342    114\n",
       "1         2          Emirates       Dubai       266     57\n",
       "2         3          Emirates       Dubai        92     91\n",
       "3         4  American Airline  Washington       175     89\n",
       "4         5     Saudi Airline     Sharjah       238      3"
      ]
     },
     "metadata": {},
     "output_type": "display_data"
    }
   ],
   "source": [
    "# Read the CSV file using pandas\n",
    "flights_df = pd.read_csv(\"random_flights_data.csv\")\n",
    "\n",
    "# Display the first few rows of the dataframe\n",
    "display(flights_df.head())\n"
   ]
  },
  {
   "cell_type": "code",
   "execution_count": 28,
   "metadata": {},
   "outputs": [
    {
     "data": {
      "text/html": [
       "<div>\n",
       "<style scoped>\n",
       "    .dataframe tbody tr th:only-of-type {\n",
       "        vertical-align: middle;\n",
       "    }\n",
       "\n",
       "    .dataframe tbody tr th {\n",
       "        vertical-align: top;\n",
       "    }\n",
       "\n",
       "    .dataframe thead th {\n",
       "        text-align: right;\n",
       "    }\n",
       "</style>\n",
       "<table border=\"1\" class=\"dataframe\">\n",
       "  <thead>\n",
       "    <tr style=\"text-align: right;\">\n",
       "      <th></th>\n",
       "      <th>Duration</th>\n",
       "      <th>Delay</th>\n",
       "    </tr>\n",
       "    <tr>\n",
       "      <th>Airline</th>\n",
       "      <th></th>\n",
       "      <th></th>\n",
       "    </tr>\n",
       "  </thead>\n",
       "  <tbody>\n",
       "    <tr>\n",
       "      <th>American Airline</th>\n",
       "      <td>181.600000</td>\n",
       "      <td>71.600000</td>\n",
       "    </tr>\n",
       "    <tr>\n",
       "      <th>Emirates</th>\n",
       "      <td>219.769231</td>\n",
       "      <td>64.538462</td>\n",
       "    </tr>\n",
       "    <tr>\n",
       "      <th>Japan Airways</th>\n",
       "      <td>181.230769</td>\n",
       "      <td>73.307692</td>\n",
       "    </tr>\n",
       "    <tr>\n",
       "      <th>PIA</th>\n",
       "      <td>226.357143</td>\n",
       "      <td>47.285714</td>\n",
       "    </tr>\n",
       "    <tr>\n",
       "      <th>Qatar Airways</th>\n",
       "      <td>249.684211</td>\n",
       "      <td>65.157895</td>\n",
       "    </tr>\n",
       "    <tr>\n",
       "      <th>Saudi Airline</th>\n",
       "      <td>214.928571</td>\n",
       "      <td>64.928571</td>\n",
       "    </tr>\n",
       "    <tr>\n",
       "      <th>Tata Airline</th>\n",
       "      <td>196.416667</td>\n",
       "      <td>67.833333</td>\n",
       "    </tr>\n",
       "  </tbody>\n",
       "</table>\n",
       "</div>"
      ],
      "text/plain": [
       "                    Duration      Delay\n",
       "Airline                                \n",
       "American Airline  181.600000  71.600000\n",
       "Emirates          219.769231  64.538462\n",
       "Japan Airways     181.230769  73.307692\n",
       "PIA               226.357143  47.285714\n",
       "Qatar Airways     249.684211  65.157895\n",
       "Saudi Airline     214.928571  64.928571\n",
       "Tata Airline      196.416667  67.833333"
      ]
     },
     "metadata": {},
     "output_type": "display_data"
    },
    {
     "data": {
      "text/plain": [
       "'Max Delay: 73.3076923076923 minutes'"
      ]
     },
     "metadata": {},
     "output_type": "display_data"
    },
    {
     "data": {
      "text/plain": [
       "'Max Duration: 249.68421052631578 minutes'"
      ]
     },
     "metadata": {},
     "output_type": "display_data"
    }
   ],
   "source": [
    "# Perform operations on the data\n",
    "# Example: Calculate the average duration and delay for each airline\n",
    "average_stats = flights_df.groupby(\"Airline\")[[\"Duration\", \"Delay\"]].mean()\n",
    "display(average_stats)\n",
    "\n",
    "display(f\"Max Delay: {average_stats['Delay'].max()} minutes\")\n",
    "display(f\"Max Duration: {average_stats['Duration'].max()} minutes\")"
   ]
  }
 ],
 "metadata": {
  "kernelspec": {
   "display_name": "venv",
   "language": "python",
   "name": "python3"
  },
  "language_info": {
   "codemirror_mode": {
    "name": "ipython",
    "version": 3
   },
   "file_extension": ".py",
   "mimetype": "text/x-python",
   "name": "python",
   "nbconvert_exporter": "python",
   "pygments_lexer": "ipython3",
   "version": "3.12.6"
  }
 },
 "nbformat": 4,
 "nbformat_minor": 2
}
