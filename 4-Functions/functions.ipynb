{
 "cells": [
  {
   "cell_type": "markdown",
   "metadata": {},
   "source": [
    "## Python Functions"
   ]
  },
  {
   "cell_type": "code",
   "execution_count": 1,
   "metadata": {},
   "outputs": [
    {
     "data": {
      "text/plain": [
       "'Hi, Sarmad'"
      ]
     },
     "execution_count": 1,
     "metadata": {},
     "output_type": "execute_result"
    }
   ],
   "source": [
    "# Basic python function\n",
    "\n",
    "def greet(name:str) -> str:\n",
    "    return f'Hi, {name}'\n",
    "\n",
    "greet('Sarmad')"
   ]
  },
  {
   "cell_type": "code",
   "execution_count": 6,
   "metadata": {},
   "outputs": [
    {
     "data": {
      "text/plain": [
       "24"
      ]
     },
     "execution_count": 6,
     "metadata": {},
     "output_type": "execute_result"
    }
   ],
   "source": [
    "# Factorial function (5 * 4 * 3 * 2 * 1) = 120\n",
    "\n",
    "def factorial(num: int) -> int:\n",
    "    count = num - 1\n",
    "    while count > 1:\n",
    "        num = num * count\n",
    "        count -= 1\n",
    "    return num\n",
    "\n",
    "factorial(4)"
   ]
  },
  {
   "cell_type": "markdown",
   "metadata": {},
   "source": [
    "## Recursion\n",
    "\n",
    "A function calling itself recursively (again & again) until a particular condition breaks the function."
   ]
  },
  {
   "cell_type": "code",
   "execution_count": 3,
   "metadata": {},
   "outputs": [
    {
     "data": {
      "text/plain": [
       "120"
      ]
     },
     "execution_count": 3,
     "metadata": {},
     "output_type": "execute_result"
    }
   ],
   "source": [
    "# Factorial function using Recursion\n",
    "\n",
    "\n",
    "def factorial(num: int) -> int:\n",
    "    if num == 1:\n",
    "        return 1\n",
    "    else:\n",
    "        return num * factorial(num - 1)\n",
    "\n",
    "factorial(5)"
   ]
  },
  {
   "cell_type": "markdown",
   "metadata": {},
   "source": [
    "## Lambda function\n",
    "\n",
    "Lambda functions, also known as anonymous functions, are small, unnamed functions defined using the `lambda` keyword. They are typically used for short-term operations where a full function definition is not necessary. Lambda functions can take any number of arguments but can only have one expression."
   ]
  },
  {
   "cell_type": "code",
   "execution_count": 10,
   "metadata": {},
   "outputs": [
    {
     "data": {
      "text/plain": [
       "8.3"
      ]
     },
     "execution_count": 10,
     "metadata": {},
     "output_type": "execute_result"
    }
   ],
   "source": [
    "# Basic Lambda function\n",
    "\n",
    "from typing import Callable\n",
    "\n",
    "add : Callable[[int,int],int] = lambda x, y: x + y\n",
    "add(5, 3)"
   ]
  },
  {
   "cell_type": "markdown",
   "metadata": {},
   "source": [
    "### Lamda function examples"
   ]
  },
  {
   "cell_type": "code",
   "execution_count": 7,
   "metadata": {},
   "outputs": [
    {
     "data": {
      "text/plain": [
       "'Welcome'"
      ]
     },
     "execution_count": 7,
     "metadata": {},
     "output_type": "execute_result"
    }
   ],
   "source": [
    "# Example 2: Lambda function with strings\n",
    "concat_strings: Callable[[str, str], str] = lambda s1, s2: s1 + s2\n",
    "result_str: str = concat_strings(\"Wel\", \"come\")\n",
    "result_str"
   ]
  },
  {
   "cell_type": "code",
   "execution_count": 8,
   "metadata": {},
   "outputs": [
    {
     "name": "stdout",
     "output_type": "stream",
     "text": [
      "7.5\n"
     ]
    }
   ],
   "source": [
    "# Example 3: Lambda function with floats\n",
    "multiply_floats: Callable[[float, float], float] = lambda a, b: a * b\n",
    "result_float: float = multiply_floats(2.5, 3.0)\n",
    "print(result_float)"
   ]
  }
 ],
 "metadata": {
  "kernelspec": {
   "display_name": "py-12",
   "language": "python",
   "name": "python3"
  },
  "language_info": {
   "codemirror_mode": {
    "name": "ipython",
    "version": 3
   },
   "file_extension": ".py",
   "mimetype": "text/x-python",
   "name": "python",
   "nbconvert_exporter": "python",
   "pygments_lexer": "ipython3",
   "version": "3.12.0"
  }
 },
 "nbformat": 4,
 "nbformat_minor": 2
}
