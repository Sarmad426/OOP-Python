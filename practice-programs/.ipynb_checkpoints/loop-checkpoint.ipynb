{
 "cells": [
  {
   "cell_type": "markdown",
   "metadata": {},
   "source": [
    "# Python loops (While and For)"
   ]
  },
  {
   "cell_type": "markdown",
   "metadata": {},
   "source": [
    "## While Loop"
   ]
  },
  {
   "cell_type": "code",
   "execution_count": 13,
   "metadata": {},
   "outputs": [
    {
     "name": "stdout",
     "output_type": "stream",
     "text": [
      "Sarmad\n",
      "Hammad\n",
      "Kashif\n",
      "Akmal\n",
      "Salman\n"
     ]
    }
   ],
   "source": [
    "users:list[str] = ['sarmad','hammad','kashif','akmal','salman']\n",
    "n=0\n",
    "while n<len(users):\n",
    "    print(users[n].title())\n",
    "    n+=1\n",
    "# where users[n].title() makes the first letter of a string uppercase."
   ]
  },
  {
   "cell_type": "markdown",
   "metadata": {},
   "source": [
    "## For Loop"
   ]
  },
  {
   "cell_type": "code",
   "execution_count": 19,
   "metadata": {},
   "outputs": [
    {
     "name": "stdout",
     "output_type": "stream",
     "text": [
      "Sarmad\n",
      "Hammad\n",
      "Kashif\n",
      "Akmal\n",
      "Salman\n"
     ]
    }
   ],
   "source": [
    "users:list[str] = ['sarmad','hammad','kashif','akmal','salman']\n",
    "for user in users:\n",
    "    print(user.capitalize())"
   ]
  }
 ],
 "metadata": {
  "kernelspec": {
   "display_name": "Python 3 (ipykernel)",
   "language": "python",
   "name": "python3"
  },
  "language_info": {
   "codemirror_mode": {
    "name": "ipython",
    "version": 3
   },
   "file_extension": ".py",
   "mimetype": "text/x-python",
   "name": "python",
   "nbconvert_exporter": "python",
   "pygments_lexer": "ipython3",
   "version": "3.11.5"
  }
 },
 "nbformat": 4,
 "nbformat_minor": 2
}
