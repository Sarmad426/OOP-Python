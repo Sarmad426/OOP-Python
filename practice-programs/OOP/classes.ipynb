{
 "cells": [
  {
   "cell_type": "markdown",
   "metadata": {},
   "source": [
    "# Object Oriented Programming Python 3.12"
   ]
  },
  {
   "cell_type": "code",
   "execution_count": 5,
   "metadata": {},
   "outputs": [
    {
     "name": "stdout",
     "output_type": "stream",
     "text": [
      "User: Sarmad\n"
     ]
    }
   ],
   "source": [
    "class User:\n",
    "    def __init__(self, name: str) -> None:\n",
    "        self.name = name\n",
    "\n",
    "    def get_name(self) -> str:\n",
    "        return self.name\n",
    "\n",
    "user = User(input(\"Enter your name: \"))\n",
    "print(\"User:\", user.get_name())\n"
   ]
  },
  {
   "cell_type": "markdown",
   "metadata": {},
   "source": [
    "Where `__init__` is a constructor. A constructor is a function that is\n",
    "automatically called when an object of a class is created."
   ]
  },
  {
   "cell_type": "code",
   "execution_count": 6,
   "metadata": {},
   "outputs": [
    {
     "name": "stdout",
     "output_type": "stream",
     "text": [
      "Name: Sarmad Rafique\n",
      "Roll number: f2021065189@umt.edu.pk\n",
      "Semester: 4\n",
      "On Scholarship? Yes\n"
     ]
    }
   ],
   "source": [
    "class Student:\n",
    "    def __init__(self, name: str, roll_no: str, semester: int, on_scholarship: bool) -> None:\n",
    "        self.name = name\n",
    "        self.roll_no = roll_no\n",
    "        self.semester = semester\n",
    "        self.on_scholarship = on_scholarship\n",
    "\n",
    "    def get_name(self) ->str:\n",
    "        return self.name\n",
    "\n",
    "    def get_roll_no(self) -> int:\n",
    "        return self.roll_no\n",
    "\n",
    "    def get_semester(self) -> int:\n",
    "        return self.semester\n",
    "\n",
    "    def is_on_scholarship(self) -> bool:\n",
    "        return self.on_scholarship\n",
    "\n",
    "student :Student = Student(\"Sarmad Rafique\", 'f2021065189@umt.edu.pk', 4, True,)\n",
    "print(\"Name:\", student.get_name())\n",
    "print(\"Roll number:\", student.get_roll_no())\n",
    "print(\"Semester:\", student.get_semester())\n",
    "print(\"On Scholarship?\", \"Yes\" if student.is_on_scholarship() else \"No\")"
   ]
  },
  {
   "cell_type": "markdown",
   "metadata": {},
   "source": [
    "## `__str__()` Method \n",
    "\n",
    "In Python, the `__str__` method is a special method that allows objects to define their own string representation. It is called by the built-in `str()` function and the `print()` function to convert an object into a string.\n",
    "\n",
    "Here's an example of using the `__str__` method with static typing in Python:\n"
   ]
  },
  {
   "cell_type": "code",
   "execution_count": 7,
   "metadata": {},
   "outputs": [
    {
     "name": "stdout",
     "output_type": "stream",
     "text": [
      "Person(Name: John, Age: 25)\n"
     ]
    }
   ],
   "source": [
    "class Person:\n",
    "    name: str\n",
    "    age: int\n",
    "\n",
    "    def __init__(self, name: str, age: int):\n",
    "        self.name = name\n",
    "        self.age = age\n",
    "\n",
    "    def __str__(self) -> str:\n",
    "        return f\"Person(Name: {self.name}, Age: {self.age})\"\n",
    "\n",
    "person = Person(\"John\", 25)\n",
    "print(person)"
   ]
  },
  {
   "cell_type": "markdown",
   "metadata": {},
   "source": [
    "In this example, we define a class `Person` with two attributes: `name` of type `str` and `age` of type `int`. The `__init__` method is used to initialize these attributes.\n",
    "\n",
    "The `__str__` method is then defined to provide a string representation of the `Person` object. It returns a formatted string containing the person's name and age.\n",
    "\n",
    "Finally, we create an instance of the `Person` class with the name \"John\" and age 25. When we call `print(person)`, it internally calls the `__str__` method of the `person` object, which returns the desired string representation. The output will be:\n",
    "\n",
    "```\n",
    "Person(Name: John, Age: 25)\n",
    "```\n",
    "\n",
    "By implementing the `__str__` method, we can customize how objects of a class are represented as strings, making it easier to understand and debug our code."
   ]
  }
 ],
 "metadata": {
  "kernelspec": {
   "display_name": "py-12",
   "language": "python",
   "name": "python3"
  },
  "language_info": {
   "codemirror_mode": {
    "name": "ipython",
    "version": 3
   },
   "file_extension": ".py",
   "mimetype": "text/x-python",
   "name": "python",
   "nbconvert_exporter": "python",
   "pygments_lexer": "ipython3",
   "version": "3.12.0"
  }
 },
 "nbformat": 4,
 "nbformat_minor": 2
}
