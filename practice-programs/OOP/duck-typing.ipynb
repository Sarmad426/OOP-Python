{
 "cells": [
  {
   "cell_type": "markdown",
   "metadata": {},
   "source": [
    "# Duck Typing\n",
    "\n",
    "Duck-typing is a programming concept in which the type or class of an object is less important than the methods it defines. In other words, if an object walks like a duck and quacks like a duck, then it is a duck, regardless of its actual type or class.\n",
    "\n",
    "Here's an example of duck-typing in Python with static typing:"
   ]
  },
  {
   "cell_type": "code",
   "execution_count": 2,
   "metadata": {},
   "outputs": [
    {
     "name": "stdout",
     "output_type": "stream",
     "text": [
      "Swimming\n",
      "Galloping\n"
     ]
    }
   ],
   "source": [
    "from typing import List\n",
    "\n",
    "\n",
    "class Animal:\n",
    "    def move(self):\n",
    "        pass\n",
    "\n",
    "\n",
    "class Duck(Animal):\n",
    "    def move(self):\n",
    "        print(\"Swimming\")\n",
    "\n",
    "\n",
    "class Horse(Animal):\n",
    "    def move(self):\n",
    "        print(\"Galloping\")\n",
    "\n",
    "\n",
    "def move_animals(animals: List[Animal]):\n",
    "    for animal in animals:\n",
    "        animal.move()\n",
    "\n",
    "\n",
    "duck: Duck = Duck()\n",
    "horse: Horse = Horse()\n",
    "\n",
    "move_animals([duck, horse])"
   ]
  },
  {
   "cell_type": "markdown",
   "metadata": {},
   "source": [
    "In this example, we define an abstract class `Animal` with a `move` method. We then define two concrete classes `Duck` and `Horse` that inherit from `Animal` and implement their own `move` methods.\n",
    "\n",
    "The `move_animals` function takes a list of `Animal` objects and calls their `move` methods. We can pass in a list containing both `Duck` and `Horse` objects, even though they have different types or classes, because they both have a `move` method and therefore satisfy the \"duck-typing\" requirement.\n",
    "\n",
    "This demonstrates how duck-typing allows for more flexible and dynamic code, as we can work with objects based on their behavior rather than their type or class."
   ]
  }
 ],
 "metadata": {
  "kernelspec": {
   "display_name": "py-12",
   "language": "python",
   "name": "python3"
  },
  "language_info": {
   "codemirror_mode": {
    "name": "ipython",
    "version": 3
   },
   "file_extension": ".py",
   "mimetype": "text/x-python",
   "name": "python",
   "nbconvert_exporter": "python",
   "pygments_lexer": "ipython3",
   "version": "3.12.0"
  }
 },
 "nbformat": 4,
 "nbformat_minor": 2
}
