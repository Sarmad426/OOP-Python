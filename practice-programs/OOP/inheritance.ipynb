{
 "cells": [
  {
   "cell_type": "markdown",
   "metadata": {},
   "source": [
    "# Inheritance in Python"
   ]
  },
  {
   "cell_type": "code",
   "execution_count": 1,
   "metadata": {},
   "outputs": [
    {
     "name": "stdout",
     "output_type": "stream",
     "text": [
      "Name: Sarmad\n",
      "Age: 19\n"
     ]
    }
   ],
   "source": [
    "class Parent:\n",
    "    def __init__(self, name: str = \"No name\"):\n",
    "        self.name = name\n",
    "\n",
    "\n",
    "class Child(Parent):\n",
    "    def __init__(self, name: str = \"No name\", age: int = 0) -> None:\n",
    "        super().__init__(name)\n",
    "        self.age = age\n",
    "\n",
    "    def details(self) -> None:\n",
    "        print(\"Name:\", self.name)\n",
    "        print(\"Age:\", self.age)\n",
    "\n",
    "\n",
    "child: Child = Child(\"Sarmad\", 19)\n",
    "child.details()\n"
   ]
  },
  {
   "cell_type": "markdown",
   "metadata": {},
   "source": [
    "## Explanation:\n",
    "\n",
    "1. We define a Python class `Parent`, which corresponds to the C++ `Parent` class. It has an `__init__` method (constructor) that accepts an optional `name` parameter and initializes the `name` attribute.\n",
    "\n",
    "2. The `Child` class is defined, which inherits from the `Parent` class. It also has an `__init__` method that accepts `name` and `age` as parameters. We use `super()` to call the constructor of the parent class (`Parent`) and pass the `name` parameter to it. We initialize the `age` attribute for the `Child` class.\n",
    "\n",
    "3. The `details` method in the `Child` class is similar to the C++ code. It prints the name and age of the child.\n",
    "\n",
    "4. In the `main` function, we create an instance of the `Child` class with the name \"Sarmad\" and age 18. We then call the `details` method to print the details of the child.\n",
    "\n",
    "5. We add the `if __name__ == \"__main__\":` block to ensure that the `main` function is executed only when the script is run directly and not when it's imported as a module.\n",
    "\n",
    "Static Typing:\n",
    "- We've added static typing hints using Python's type annotations. In the constructor and method definitions, we specify the expected types of parameters and return values using `:`. For example, `name: str` indicates that the `name` parameter should be a string, and `age: int` indicates that the `age` parameter should be an integer.\n",
    "\n",
    "This Python code closely mirrors the functionality of the C++ code, and it uses Python's object-oriented features and static typing to make the code more structured and self-explanatory."
   ]
  },
  {
   "cell_type": "code",
   "execution_count": 3,
   "metadata": {},
   "outputs": [
    {
     "name": "stdout",
     "output_type": "stream",
     "text": [
      "Buddy says: Woof!\n",
      "Whiskers says: Meow!\n"
     ]
    }
   ],
   "source": [
    "from abc import ABC, abstractmethod\n",
    "\n",
    "class Animal(ABC):\n",
    "    def __init__(self, name: str, age: int):\n",
    "        self.name = name\n",
    "        self.age = age\n",
    "\n",
    "    @abstractmethod\n",
    "    def speak(self) -> None:\n",
    "        pass\n",
    "\n",
    "class Dog(Animal):\n",
    "    def __init__(self, name: str, age: int, breed: str):\n",
    "        super().__init__(name, age)\n",
    "        self.breed = breed\n",
    "\n",
    "    def speak(self) -> None:\n",
    "        print(f\"{self.name} says: Woof!\")\n",
    "\n",
    "class Cat(Animal):\n",
    "    def __init__(self, name: str, age: int, color: str):\n",
    "        super().__init__(name, age)\n",
    "        self.color = color\n",
    "\n",
    "    def speak(self) -> None:\n",
    "        print(f\"{self.name} says: Meow!\")\n",
    "\n",
    "dog :Dog = Dog(\"Buddy\", 3, \"Labrador\")\n",
    "cat = Cat(\"Whiskers\", 5, \"Gray\")\n",
    "\n",
    "dog.speak()\n",
    "cat.speak()\n"
   ]
  },
  {
   "cell_type": "markdown",
   "metadata": {},
   "source": [
    "## Explanation\n",
    "\n",
    "This code defines a simple hierarchy of classes in Python to represent different animals. \n",
    "\n",
    "- The `Animal` class is an abstract base class (ABC) that defines a common interface for all animals. It has an abstract method `speak()` which must be implemented by any concrete subclass.\n",
    "- The `Animal` class also has an `__init__` method that takes two parameters: `name` (a string) and `age` (an integer). It initializes the `name` and `age` attributes of the animal object.\n",
    "- The `Dog` class is a subclass of `Animal` and implements the `speak()` method by printing \"Woof!\" along with the name of the dog.\n",
    "- The `Dog` class also has an `__init__` method that takes three parameters: `name`, `age`, and `breed`. It calls the `__init__` method of the `Animal` class using the `super()` function to initialize the `name` and `age` attributes, and initializes the `breed` attribute with the given value.\n",
    "- The `Cat` class is another subclass of `Animal` and implements the `speak()` method by printing \"Meow!\" along with the name of the cat.\n",
    "- The `Cat` class also has an `__init__` method that takes three parameters: `name`, `age`, and `color`. It calls the `__init__` method of the `Animal` class using the `super()` function to initialize the `name` and `age` attributes, and initializes the `color` attribute with the given value.\n",
    "- In the main part of the code, an instance of the `Dog` class is created with the name \"Buddy\", age 3, and breed \"Labrador\". \n",
    "- An instance of the `Cat` class is also created with the name \"Whiskers\", age 5, and color \"Gray\".\n",
    "- The `speak()` method is called on both the `dog` and `cat` objects, which prints the appropriate message based on the specific implementation in each class."
   ]
  },
  {
   "cell_type": "code",
   "execution_count": 11,
   "metadata": {},
   "outputs": [
    {
     "name": "stdout",
     "output_type": "stream",
     "text": [
      "Enter Id:\n"
     ]
    },
    {
     "name": "stdout",
     "output_type": "stream",
     "text": [
      "Enter Your Name:\n",
      "Address:\n",
      "Roll No:\n",
      "Marks:\n",
      "\n",
      "Your Personal Details:\n",
      "Name: Sarmad\n",
      "Id: 1\n",
      "Address: Lahore\n",
      "\n",
      "Educational Details:\n",
      "\tRoll No:\t|\t2\n",
      "\tMarks:\t\t|\t1023\n"
     ]
    }
   ],
   "source": [
    "class Person:\n",
    "    def __init__(self):\n",
    "        self.name :str = \"No name\"\n",
    "        self.id :int = 0\n",
    "        self.address :str = \"No Address\"\n",
    "\n",
    "    def get_details(self):\n",
    "        print(\"Enter Id:\")\n",
    "        self.id = int(input())\n",
    "        print(\"Enter Your Name:\")\n",
    "        self.name :str = input()\n",
    "        input()  # Discard the newline character in the input buffer\n",
    "        print(\"Address:\")\n",
    "        self.address :int = input()\n",
    "\n",
    "    def details(self):\n",
    "        print(\"\\nYour Personal Details:\")\n",
    "        print(f\"Name: {self.name}\")\n",
    "        print(f\"Id: {self.id}\")\n",
    "        print(f\"Address: {self.address}\")\n",
    "\n",
    "\n",
    "class Student(Person):\n",
    "    def __init__(self):\n",
    "        super().__init__()\n",
    "        self.roll_no :int = 0\n",
    "        self.marks : int = 0\n",
    "\n",
    "    def get_edu_info(self):\n",
    "        super().get_details()\n",
    "        print(\"Roll No:\")\n",
    "        self.roll_no = int(input())\n",
    "        print(\"Marks:\")\n",
    "        self.marks = int(input())\n",
    "\n",
    "    def edu_info_details(self):\n",
    "        super().details()\n",
    "        print(\"\\nEducational Details:\")\n",
    "        print(f\"\\tRoll No:\\t|\\t{self.roll_no}\")\n",
    "        print(f\"\\tMarks:\\t\\t|\\t{self.marks}\")\n",
    "\n",
    "\n",
    "sarmad :Student = Student()\n",
    "sarmad.get_edu_info()\n",
    "sarmad.edu_info_details()\n",
    "\n"
   ]
  },
  {
   "cell_type": "markdown",
   "metadata": {},
   "source": [
    "## Multi-Level Inheritance\n",
    "\n",
    "When a Child class is inherited by another class. In this Case the class which is\n",
    "inheriting from child class is called GrandChild and the top most class from which\n",
    "child class is Derived is called GrandChild."
   ]
  },
  {
   "cell_type": "code",
   "execution_count": 14,
   "metadata": {},
   "outputs": [
    {
     "name": "stdout",
     "output_type": "stream",
     "text": [
      "Enter Name:\n"
     ]
    },
    {
     "name": "stdout",
     "output_type": "stream",
     "text": [
      "Enter age:\n",
      "Enter Address:\n",
      "Enter Roll no:\n",
      "Enter Grade:\n",
      "Enter Scholarship Name:\n",
      "Enter Amount:\n",
      "Approved or not. 1: yes, 0: no\n",
      "\n",
      "Personal Details:\n",
      "\tName: Sarmad\n",
      "\tAge: 19\n",
      "\tAddress: Lahore\n",
      "\n",
      "Educational Information:\n",
      "\tRoll No: 7\n",
      "\tGrade: A\n",
      "\n",
      "Scholarship Information:\n",
      "\tScholarship Name: Marks-Based\n",
      "\tAmount: 50000.0\n",
      "\tVerified Scholarship\n"
     ]
    }
   ],
   "source": [
    "class Human:\n",
    "    \"\"\"Grand Parent class\"\"\"\n",
    "\n",
    "    def __init__(self, name: str) -> None:\n",
    "        self.name: str = name\n",
    "\n",
    "    def get_info(self):\n",
    "        return {\"Name\": self.name}\n",
    "\n",
    "\n",
    "class Person(Human):\n",
    "    \"\"\"Parent Class\"\"\"\n",
    "\n",
    "    def __init__(self, name: str, age: int):\n",
    "        \"Class Constructor\"\n",
    "        super().__init__(name)\n",
    "        self.name: str = name\n",
    "        self.age: int = age\n",
    "\n",
    "    def get_info(self):\n",
    "        return {\"Name\": self.name, \"Age\": self.age}\n",
    "\n",
    "\n",
    "class Employee(Person, Human):\n",
    "    \"\"\"Child Class\"\"\"\n",
    "\n",
    "    def __init__(self, name: str, age: int, email: str):\n",
    "        \"Class Constructor\"\n",
    "        super().__init__(name, age)\n",
    "        self.name: str = name\n",
    "        self.age: int = age\n",
    "        self.email: str = email\n",
    "\n",
    "    def get_info(self):\n",
    "        return {\"Name\": self.name, \"Age\": self.age, \"Email\": self.email}\n",
    "\n",
    "\n",
    "human: Human = Human(\"Sarmad\")\n",
    "\n",
    "print(\"Human Details: \")\n",
    "print(\"\\t\", human.get_info())\n",
    "\n",
    "person: Person = Person(\"Sarmad\", 19)\n",
    "\n",
    "print(\"Human Details: \")\n",
    "print(\"\\t\", person.get_info())\n",
    "\n",
    "child: Employee = Employee(\"Sarmad\", 19, \"sarmad@gmail.com\")\n",
    "\n",
    "print(\"Employee Details: \")\n",
    "\n",
    "print(\"\\t\", child.get_info())\n"
   ]
  },
  {
   "cell_type": "markdown",
   "metadata": {},
   "source": [
    "## Multiple Inheritance\n",
    "\n",
    "Multiple inheritance is a feature of object-oriented programming that allows a class to inherit from multiple base classes. This means that a derived class can have multiple parent classes, and can inherit attributes and methods from all of them. It can be useful for creating complex class hierarchies and for reusing code in a modular way. However, it can also lead to problems such as the diamond problem, where the same attribute or method is inherited from multiple paths in the inheritance hierarchy. To avoid such problems, careful design and use of multiple inheritance is required."
   ]
  },
  {
   "cell_type": "code",
   "execution_count": 15,
   "metadata": {},
   "outputs": [
    {
     "name": "stdout",
     "output_type": "stream",
     "text": [
      "Enter value of a:\n",
      "Enter value of b:\n",
      "Enter c:\n",
      "\n",
      "The Values are as Follows:\n",
      "A:\t 8\n",
      "B:\t 16\n",
      "C:\t 48\n"
     ]
    }
   ],
   "source": [
    "class A:\n",
    "    def __init__(self):\n",
    "        self.a = 0\n",
    "\n",
    "    def input_A(self):\n",
    "        print(\"Enter value of a:\")\n",
    "        self.a = int(input())\n",
    "\n",
    "    def show_A(self):\n",
    "        print(\"A:\\t\", self.a)\n",
    "\n",
    "\n",
    "class B:\n",
    "    def __init__(self):\n",
    "        self.b = 0\n",
    "\n",
    "    def input_B(self):\n",
    "        print(\"Enter value of b:\")\n",
    "        self.b = int(input())\n",
    "\n",
    "    def show_B(self):\n",
    "        print(\"B:\\t\", self.b)\n",
    "\n",
    "\n",
    "class C(A, B):\n",
    "    def __init__(self):\n",
    "        super().__init__()\n",
    "        self.c = 0\n",
    "\n",
    "    def input_C(self):\n",
    "        A.input_A(self)  # Accessing the parent class functions\n",
    "        B.input_B(self)\n",
    "        print(\"Enter c:\")\n",
    "        self.c = int(input())\n",
    "\n",
    "    def show_C(self):\n",
    "        print(\"\\nThe Values are as Follows:\")\n",
    "        A.show_A(self)  # Accessing the parent class functions\n",
    "        B.show_B(self)\n",
    "        print(\"C:\\t\", self.c)\n",
    "\n",
    "\n",
    "obj :C = C()\n",
    "obj.input_C()\n",
    "obj.show_C()\n",
    "\n"
   ]
  },
  {
   "cell_type": "code",
   "execution_count": 1,
   "metadata": {},
   "outputs": [
    {
     "name": "stdout",
     "output_type": "stream",
     "text": [
      "Mother is Speaking\n",
      "Father's height is 6.3 feet\n"
     ]
    }
   ],
   "source": [
    "# Multiple Inheritance simple code\n",
    "\n",
    "class Mother:\n",
    "    \n",
    "    def __init__(self,name) -> None:\n",
    "        self.name :str = name\n",
    "    \n",
    "    def speaking(self) ->str:\n",
    "        return \"Mother is Speaking\"\n",
    "    \n",
    "\n",
    "class Father:\n",
    "    \n",
    "    def __init__(self,name:str,height:float) -> None:\n",
    "        self.name: str = name\n",
    "        self.height:float =  height\n",
    "\n",
    "    def get_height(self) -> str:\n",
    "        return f\"Father's height is {self.height} feet\"\n",
    "\n",
    "class Child(Mother,Father):\n",
    "    def __init__(self, mother_name:str, father_name:str,child_name:str) -> None:\n",
    "        Mother.__init__(self,mother_name)\n",
    "        Father.__init__(self,father_name,6.3)\n",
    "        self.child_name : str = child_name\n",
    "\n",
    "child: Child = Child(\"Katherine\",\"Chips\",\"Kane\")\n",
    "\n",
    "print(child.speaking())\n",
    "print(child.get_height())\n",
    "\n"
   ]
  },
  {
   "cell_type": "markdown",
   "metadata": {},
   "source": [
    "## Function Overriding\n",
    "\n",
    "Function overriding in C++ is a concept by which you can define a function of the \n",
    "same name and the same function signature (parameters and their data types) in both \n",
    "the base class and derived class with a different function definition."
   ]
  },
  {
   "cell_type": "code",
   "execution_count": 16,
   "metadata": {},
   "outputs": [
    {
     "name": "stdout",
     "output_type": "stream",
     "text": [
      "This is the Parent class.\n",
      "This is the Child class.\n"
     ]
    }
   ],
   "source": [
    "class Parent:\n",
    "    def show(self) -> None:\n",
    "        print(\"This is the Parent class.\")\n",
    "\n",
    "class Child(Parent):\n",
    "    def show(self) -> None:\n",
    "        print(\"This is the Child class.\")\n",
    "\n",
    "\n",
    "parent_obj : Parent = Parent()\n",
    "child_obj : Child = Child()\n",
    "\n",
    "\n",
    "parent_obj.show()\n",
    "child_obj.show()\n"
   ]
  }
 ],
 "metadata": {
  "kernelspec": {
   "display_name": "py-12",
   "language": "python",
   "name": "python3"
  },
  "language_info": {
   "codemirror_mode": {
    "name": "ipython",
    "version": 3
   },
   "file_extension": ".py",
   "mimetype": "text/x-python",
   "name": "python",
   "nbconvert_exporter": "python",
   "pygments_lexer": "ipython3",
   "version": "3.12.0"
  }
 },
 "nbformat": 4,
 "nbformat_minor": 2
}
