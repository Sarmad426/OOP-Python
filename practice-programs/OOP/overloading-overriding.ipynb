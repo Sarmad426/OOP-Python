{
 "cells": [
  {
   "cell_type": "markdown",
   "metadata": {},
   "source": [
    "# Overloading and Overriding\n",
    "\n",
    "Overloading and overriding are two important concepts in object-oriented programming that involve the use of polymorphism. \n",
    "\n",
    "1. ##  Overloading:\n",
    "Overloading refers to the ability to define multiple methods with the same name but different parameters within the same class. The appropriate method to be called is determined by the number, type, and order of the arguments passed during the method call.\n",
    "\n",
    "Python does not support method overloading in the same way as statically typed languages like Java or C++. However, we can achieve similar functionality using default parameter values or by using variable-length argument lists.\n",
    "\n",
    "Here's an example of method overloading in Python using default parameter values:"
   ]
  },
  {
   "cell_type": "code",
   "execution_count": 20,
   "metadata": {},
   "outputs": [
    {
     "name": "stdout",
     "output_type": "stream",
     "text": [
      "5\n",
      "9\n"
     ]
    }
   ],
   "source": [
    "def add(a, b, c=0):\n",
    "    return a + b + c\n",
    "\n",
    "print(add(2, 3))      # Output: 5\n",
    "print(add(2, 3, 4))   # Output: 9"
   ]
  },
  {
   "cell_type": "markdown",
   "metadata": {},
   "source": [
    "\n",
    "In this example, the `add` function is overloaded to accept either two or three arguments. If only two arguments are passed, the third parameter `c` is assigned a default value of 0."
   ]
  },
  {
   "cell_type": "markdown",
   "metadata": {},
   "source": [
    "\n",
    "2. ## Overriding:\n",
    "Overriding refers to the ability of a subclass to provide a different implementation of a method that is already defined in its superclass. The overridden method in the subclass must have the same name, return type, and parameters as the method in the superclass.\n",
    "\n",
    "Here's an example of method overriding in Python with static typing using type hints:"
   ]
  },
  {
   "cell_type": "code",
   "execution_count": 21,
   "metadata": {},
   "outputs": [
    {
     "name": "stdout",
     "output_type": "stream",
     "text": [
      "Animal makes a sound\n",
      "Dog barks\n"
     ]
    }
   ],
   "source": [
    "class Animal:\n",
    "    def make_sound(self) -> None:\n",
    "        print(\"Animal makes a sound\")\n",
    "\n",
    "class Dog(Animal):\n",
    "    def make_sound(self) -> None:\n",
    "        print(\"Dog barks\")\n",
    "\n",
    "animal = Animal()\n",
    "animal.make_sound()   # Output: Animal makes a sound\n",
    "\n",
    "dog = Dog()\n",
    "dog.make_sound() "
   ]
  },
  {
   "cell_type": "markdown",
   "metadata": {},
   "source": [
    "In this example, the `Animal` class has a method called `make_sound` that prints \"Animal makes a sound\". The `Dog` class inherits from `Animal` and overrides the `make_sound` method to print \"Dog barks\" instead. When we call the `make_sound` method on an instance of `Dog`, it invokes the overridden method defined in the `Dog` class."
   ]
  },
  {
   "cell_type": "markdown",
   "metadata": {},
   "source": [
    "## Overloading using decorators"
   ]
  },
  {
   "cell_type": "code",
   "execution_count": 22,
   "metadata": {},
   "outputs": [
    {
     "name": "stdout",
     "output_type": "stream",
     "text": [
      "3\n",
      "6.0\n",
      "ABC, XYZ\n"
     ]
    }
   ],
   "source": [
    "from typing import Union, overload\n",
    "\n",
    "return_type = Union[int,str,float]\n",
    "\n",
    "@overload\n",
    "def add (x:int,y:int) -> int:\n",
    "    ...\n",
    "\n",
    "@overload\n",
    "def add(x:float,y:float):\n",
    "    ...\n",
    "\n",
    "def add(x:str,y:str) ->None:\n",
    "    ...\n",
    "\n",
    "def add(x: Union[int,float,str], y:  Union[int,float,str]) ->  Union[int,float,str]:\n",
    "    if isinstance(x,int) and isinstance(y,int) or isinstance(x,float) and isinstance(y,float):\n",
    "        return x+y\n",
    "    elif isinstance(x,str) and isinstance(y,str):\n",
    "        return f'{x}, {y}'\n",
    "    else:\n",
    "        raise TypeError(\"Invalid argument type\")\n",
    "\n",
    "result1 : return_type  = add(1,2)\n",
    "result2 : return_type = add(3.2,2.8)\n",
    "result3 : return_type = add('ABC','XYZ')\n",
    "\n",
    "print(result1)\n",
    "print(result2)\n",
    "print(result3)"
   ]
  },
  {
   "cell_type": "markdown",
   "metadata": {},
   "source": [
    "## Method Overloading"
   ]
  },
  {
   "cell_type": "code",
   "execution_count": 23,
   "metadata": {},
   "outputs": [
    {
     "name": "stdout",
     "output_type": "stream",
     "text": [
      "3\n",
      "4.0\n"
     ]
    }
   ],
   "source": [
    "from typing import overload\n",
    "\n",
    "class Calculator:\n",
    "    @overload\n",
    "    def add(self, x: int, y: int) -> int:\n",
    "        ...\n",
    "    \n",
    "    @overload\n",
    "    def add(self, x: float, y: float) -> float:\n",
    "        ...\n",
    "    \n",
    "    def add(self, x, y):\n",
    "        return x + y\n",
    "\n",
    "calc = Calculator()\n",
    "print(calc.add(1, 2))\n",
    "print(calc.add(1.5, 2.5))"
   ]
  },
  {
   "cell_type": "markdown",
   "metadata": {},
   "source": [
    "## Method Overriding"
   ]
  },
  {
   "cell_type": "code",
   "execution_count": 24,
   "metadata": {},
   "outputs": [
    {
     "name": "stdout",
     "output_type": "stream",
     "text": [
      "Bark\n"
     ]
    }
   ],
   "source": [
    "class Animal:\n",
    "    def speak(self) -> str:\n",
    "        return \"Some generic animal sound\"\n",
    "\n",
    "class Dog(Animal):\n",
    "    def speak(self) -> str:\n",
    "        return \"Bark\"\n",
    "\n",
    "dog = Dog()\n",
    "print(dog.speak())"
   ]
  },
  {
   "cell_type": "markdown",
   "metadata": {},
   "source": [
    "## Polymorphism"
   ]
  },
  {
   "cell_type": "code",
   "execution_count": 25,
   "metadata": {},
   "outputs": [
    {
     "name": "stdout",
     "output_type": "stream",
     "text": [
      "Bark\n",
      "Meow\n"
     ]
    }
   ],
   "source": [
    "class Cat(Animal):\n",
    "    def speak(self) -> str:\n",
    "        return \"Meow\"\n",
    "\n",
    "def animal_sound(animal: Animal) -> str:\n",
    "    return animal.speak()\n",
    "\n",
    "print(animal_sound(Dog()))\n",
    "print(animal_sound(Cat()))"
   ]
  }
 ],
 "metadata": {
  "kernelspec": {
   "display_name": "py-12",
   "language": "python",
   "name": "python3"
  },
  "language_info": {
   "codemirror_mode": {
    "name": "ipython",
    "version": 3
   },
   "file_extension": ".py",
   "mimetype": "text/x-python",
   "name": "python",
   "nbconvert_exporter": "python",
   "pygments_lexer": "ipython3",
   "version": "3.12.0"
  }
 },
 "nbformat": 4,
 "nbformat_minor": 2
}
