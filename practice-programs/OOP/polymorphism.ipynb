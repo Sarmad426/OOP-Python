{
 "cells": [
  {
   "cell_type": "markdown",
   "metadata": {},
   "source": [
    "# Polymorphism\n",
    "\n",
    "Polymorphism is a fundamental concept in object-oriented programming that allows objects of different classes to be treated as objects of a common superclass. It enables the same method or operation to be performed in different ways depending on the specific object type.\n",
    "\n",
    "Real-world example:\n",
    "Consider a real-world scenario of a music player application. The application has a `play` method that can be invoked on different types of audio files, such as MP3, WAV, and FLAC. Each audio file type has its own implementation of the `play` method, but the application can treat all these audio files as a common type (e.g., `AudioFile`) and call the `play` method without knowing the specific file type.\n",
    "\n",
    "Python code snippet:"
   ]
  },
  {
   "cell_type": "code",
   "execution_count": 1,
   "metadata": {},
   "outputs": [
    {
     "name": "stdout",
     "output_type": "stream",
     "text": [
      "Playing MP3 file\n",
      "Playing WAV file\n",
      "Playing FLAC file\n"
     ]
    }
   ],
   "source": [
    "class AudioFile:\n",
    "    def play(self):\n",
    "        raise NotImplementedError(\"play method not implemented\")\n",
    "\n",
    "class MP3(AudioFile):\n",
    "    def play(self):\n",
    "        print(\"Playing MP3 file\")\n",
    "\n",
    "class WAV(AudioFile):\n",
    "    def play(self):\n",
    "        print(\"Playing WAV file\")\n",
    "\n",
    "class FLAC(AudioFile):\n",
    "    def play(self):\n",
    "        print(\"Playing FLAC file\")\n",
    "\n",
    "# Polymorphic behavior\n",
    "audio_files = [MP3(), WAV(), FLAC()]\n",
    "\n",
    "for audio_file in audio_files:\n",
    "    audio_file.play()"
   ]
  },
  {
   "cell_type": "markdown",
   "metadata": {},
   "source": [
    "In this example, we define an `AudioFile` superclass with a `play` method that raises a \n",
    "`NotImplementedError` since it should not be invoked directly. Then, we create three \n",
    "subclasses (`MP3`, `WAV`, and `FLAC`) that inherit from `AudioFile` and provide their own\n",
    " implementation of the `play` method.\n",
    "\n",
    "We create a list of different audio files and iterate over them. Even though the objects in \n",
    "the list have different types (`MP3`, `WAV`, and `FLAC`), they are treated as objects of the\n",
    " common superclass `AudioFile`. When we invoke the `play` method on each object, polymorphism \n",
    " ensures that the appropriate implementation of `play` is called based on the actual object type."
   ]
  }
 ],
 "metadata": {
  "kernelspec": {
   "display_name": "py-12",
   "language": "python",
   "name": "python3"
  },
  "language_info": {
   "codemirror_mode": {
    "name": "ipython",
    "version": 3
   },
   "file_extension": ".py",
   "mimetype": "text/x-python",
   "name": "python",
   "nbconvert_exporter": "python",
   "pygments_lexer": "ipython3",
   "version": "3.12.0"
  }
 },
 "nbformat": 4,
 "nbformat_minor": 2
}
