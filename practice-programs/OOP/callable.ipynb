{
 "cells": [
  {
   "cell_type": "markdown",
   "metadata": {},
   "source": [
    "# Callable class method in OOP"
   ]
  },
  {
   "cell_type": "markdown",
   "metadata": {},
   "source": [
    "The `__call__()` method in Python's object-oriented programming is a special method that allows an object to be called as if it were a function. It enables instances of a class to be callable, just like a regular function.\n",
    "\n",
    "Use cases for the `__call__()` method include implementing callable objects, creating function-like classes, and defining classes that need to be invoked as if they were functions.\n",
    "\n",
    "Here's a real-world example to illustrate the use of `__call__()` with static typing:"
   ]
  },
  {
   "cell_type": "code",
   "execution_count": 6,
   "metadata": {},
   "outputs": [
    {
     "name": "stdout",
     "output_type": "stream",
     "text": [
      "24\n"
     ]
    }
   ],
   "source": [
    "from typing import Callable\n",
    "\n",
    "\n",
    "class Multiplier:\n",
    "    def __init__(self, factor: int) -> None:\n",
    "        self.factor = factor\n",
    "\n",
    "    def __call__(self, num: int) -> int:\n",
    "        return self.factor * num\n",
    "\n",
    "\n",
    "double = Multiplier(2)\n",
    "\n",
    "# Invoking the instance as if it were a function\n",
    "result = double(8)\n",
    "print(result)"
   ]
  },
  {
   "cell_type": "markdown",
   "metadata": {},
   "source": [
    "In this example, we define a `Multiplier` class that takes a `factor` as an argument during initialization. The `__call__()` method is implemented to perform the multiplication operation by multiplying the `factor` with the given number.\n",
    "\n",
    "By creating an instance of the `Multiplier` class and invoking it with an argument, we can use the instance as if it were a function. In the example, `double` is called with the argument `5`, resulting in the multiplication `2 * 5`, which gives the output `10`."
   ]
  }
 ],
 "metadata": {
  "kernelspec": {
   "display_name": "py-12",
   "language": "python",
   "name": "python3"
  },
  "language_info": {
   "codemirror_mode": {
    "name": "ipython",
    "version": 3
   },
   "file_extension": ".py",
   "mimetype": "text/x-python",
   "name": "python",
   "nbconvert_exporter": "python",
   "pygments_lexer": "ipython3",
   "version": "3.12.0"
  }
 },
 "nbformat": 4,
 "nbformat_minor": 2
}
