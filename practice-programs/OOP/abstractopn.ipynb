{
 "cells": [
  {
   "cell_type": "markdown",
   "metadata": {},
   "source": [
    "# Abstraction in Programming\n",
    "\n",
    "**Abstraction** is one of the fundamental concepts in programming and design, especially in object-oriented programming. It involves simplifying complex reality by modeling classes based on the essential attributes and behaviors. Abstraction allows you to focus on what an object does rather than how it does it, hiding the unnecessary details of the implementation.\n",
    "\n",
    "Abstraction is often achieved through abstract classes and methods, which provide a blueprint for derived classes to implement. Abstract classes cannot be instantiated themselves, but they define a common interface for their subclasses.\n"
   ]
  },
  {
   "cell_type": "markdown",
   "metadata": {},
   "source": [
    "### 1. Simple Abstraction (Concept Explanation)\n"
   ]
  },
  {
   "cell_type": "code",
   "execution_count": 4,
   "metadata": {},
   "outputs": [
    {
     "name": "stdout",
     "output_type": "stream",
     "text": [
      "Circle Area: 78.5\n"
     ]
    }
   ],
   "source": [
    "from abc import ABC, abstractmethod\n",
    "\n",
    "class Shape(ABC):\n",
    "    @abstractmethod\n",
    "    def area(self) -> float:\n",
    "        pass\n",
    "\n",
    "class Circle(Shape):\n",
    "    def __init__(self, radius: float):\n",
    "        self.radius = radius\n",
    "\n",
    "    def area(self) -> float:\n",
    "        return 3.14 * self.radius ** 2\n",
    "\n",
    "# Usage:\n",
    "circle = Circle(5)\n",
    "print(f\"Circle Area: {circle.area()}\")\n"
   ]
  },
  {
   "cell_type": "markdown",
   "metadata": {},
   "source": [
    "In this example, we define an abstract class `Shape` with an abstract method `area()`. The `Circle` class inherits from `Shape` and implements the `area()` method, demonstrating the concept of abstraction."
   ]
  },
  {
   "cell_type": "markdown",
   "metadata": {},
   "source": [
    "### 2. Abstraction for a Real-World Problem"
   ]
  },
  {
   "cell_type": "code",
   "execution_count": 5,
   "metadata": {},
   "outputs": [
    {
     "name": "stdout",
     "output_type": "stream",
     "text": [
      "Toyota Camry is starting the engine.\n",
      "Toyota Camry is stopping the engine.\n",
      "Honda CBR is kickstarting the engine.\n",
      "Honda CBR is turning off the engine.\n"
     ]
    }
   ],
   "source": [
    "from abc import ABC, abstractmethod\n",
    "\n",
    "class Vehicle(ABC):\n",
    "    def __init__(self, make: str, model: str):\n",
    "        self.make = make\n",
    "        self.model = model\n",
    "\n",
    "    @abstractmethod\n",
    "    def start(self) -> None:\n",
    "        pass\n",
    "\n",
    "    @abstractmethod\n",
    "    def stop(self) -> None:\n",
    "        pass\n",
    "\n",
    "class Car(Vehicle):\n",
    "    def start(self) -> None:\n",
    "        print(f\"{self.make} {self.model} is starting the engine.\")\n",
    "\n",
    "    def stop(self) -> None:\n",
    "        print(f\"{self.make} {self.model} is stopping the engine.\")\n",
    "\n",
    "class Motorcycle(Vehicle):\n",
    "    def start(self) -> None:\n",
    "        print(f\"{self.make} {self.model} is kickstarting the engine.\")\n",
    "\n",
    "    def stop(self) -> None:\n",
    "        print(f\"{self.make} {self.model} is turning off the engine.\")\n",
    "\n",
    "# Usage:\n",
    "car = Car(\"Toyota\", \"Camry\")\n",
    "motorcycle = Motorcycle(\"Honda\", \"CBR\")\n",
    "\n",
    "car.start()\n",
    "car.stop()\n",
    "\n",
    "motorcycle.start()\n",
    "motorcycle.stop()\n"
   ]
  },
  {
   "cell_type": "markdown",
   "metadata": {},
   "source": [
    "In this example, we use abstraction to model different types of vehicles using an abstract class Vehicle. Concrete classes Car and Motorcycle inherit from Vehicle and implement the `start()` and `stop()` methods, demonstrating abstraction in the context of a real-world problem."
   ]
  },
  {
   "cell_type": "markdown",
   "metadata": {},
   "source": [
    "### 3. Interview-Style Abstraction Question\n",
    "\n",
    "**Question:** Implement an abstract class `Shape` with an abstract method `area()`. Create two concrete classes, `Rectangle` and `Triangle`, that inherit from `Shape` and implement the `area()` method to calculate the area of a rectangle and a triangle, respectively. Provide an example of using these classes to calculate and print the areas of a rectangle and a triangle.\n",
    "\n",
    "**Answer:**"
   ]
  },
  {
   "cell_type": "code",
   "execution_count": 6,
   "metadata": {},
   "outputs": [
    {
     "name": "stdout",
     "output_type": "stream",
     "text": [
      "Rectangle Area: 24\n",
      "Triangle Area: 7.5\n"
     ]
    }
   ],
   "source": [
    "from abc import ABC, abstractmethod\n",
    "\n",
    "class Shape(ABC):\n",
    "    @abstractmethod\n",
    "    def area(self) -> float:\n",
    "        pass\n",
    "\n",
    "class Rectangle(Shape):\n",
    "    def __init__(self, width: float, height: float):\n",
    "        self.width = width\n",
    "        self.height = height\n",
    "\n",
    "    def area(self) -> float:\n",
    "        return self.width * self.height\n",
    "\n",
    "class Triangle(Shape):\n",
    "    def __init__(self, base: float, height: float):\n",
    "        self.base = base\n",
    "        self.height = height\n",
    "\n",
    "    def area(self) -> float:\n",
    "        return 0.5 * self.base * self.height\n",
    "\n",
    "# Usage:\n",
    "rectangle = Rectangle(4, 6)\n",
    "triangle = Triangle(3, 5)\n",
    "\n",
    "print(f\"Rectangle Area: {rectangle.area()}\")\n",
    "print(f\"Triangle Area: {triangle.area()}\")"
   ]
  },
  {
   "cell_type": "markdown",
   "metadata": {},
   "source": [
    "This code snippet demonstrates the use of abstract classes and concrete implementations to calculate and print the areas of a rectangle and a triangle, answering an interview-style question on abstraction."
   ]
  }
 ],
 "metadata": {
  "kernelspec": {
   "display_name": "py-12",
   "language": "python",
   "name": "python3"
  },
  "language_info": {
   "codemirror_mode": {
    "name": "ipython",
    "version": 3
   },
   "file_extension": ".py",
   "mimetype": "text/x-python",
   "name": "python",
   "nbconvert_exporter": "python",
   "pygments_lexer": "ipython3",
   "version": "3.12.0"
  }
 },
 "nbformat": 4,
 "nbformat_minor": 2
}
