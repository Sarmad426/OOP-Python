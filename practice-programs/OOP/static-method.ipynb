{
 "cells": [
  {
   "cell_type": "markdown",
   "metadata": {},
   "source": [
    "# Static Method and Static Variable\n",
    "\n",
    "\n",
    "In Python, the `@staticmethod` decorator is used to define a static method within a class. A static method belongs to the class itself and not to any specific instance of the class. It can be called on the class directly, without creating an object of the class.\n",
    "\n",
    "The main use cases of `@staticmethod` in object-oriented programming are:\n",
    "\n",
    "1. Utility methods: Static methods can be used to define helper functions or utility methods that are not dependent on any instance or instance-specific data.\n",
    "\n",
    "2. Class-level operations: Static methods can perform operations that are related to the class as a whole, rather than any specific instance. For example, calculating some statistics or performing operations on class-level variables.\n",
    "\n",
    "Here's an easy Python code snippet to demonstrate the usage of `@staticmethod` with static typing:"
   ]
  },
  {
   "cell_type": "code",
   "execution_count": 1,
   "metadata": {},
   "outputs": [
    {
     "name": "stdout",
     "output_type": "stream",
     "text": [
      "8\n"
     ]
    }
   ],
   "source": [
    "class MathUtils:\n",
    "    @staticmethod\n",
    "    def add_numbers(a: int, b: int) -> int:\n",
    "        return a + b\n",
    "\n",
    "\n",
    "# Calling the static method without creating an object\n",
    "result = MathUtils.add_numbers(5, 3)\n",
    "print(result)"
   ]
  },
  {
   "cell_type": "markdown",
   "metadata": {},
   "source": [
    "In the above example, the `add_numbers` method is defined as a static method using the `@staticmethod` decorator. It takes two integer arguments and returns their sum. As it is a static method, it can be directly called on the class itself, without creating an instance of the class."
   ]
  },
  {
   "cell_type": "code",
   "execution_count": 2,
   "metadata": {},
   "outputs": [
    {
     "name": "stdout",
     "output_type": "stream",
     "text": [
      "Addition: 30\n",
      "Multiplication: 200\n",
      "Static variable or Class variable PIAIC\n"
     ]
    }
   ],
   "source": [
    "class MathOperations:\n",
    "\n",
    "    counter: int = 100\n",
    "    organization: str = \"PIAIC\"\n",
    "\n",
    "    @staticmethod\n",
    "    def add(x: int, y: int) -> int:\n",
    "        \"\"\"Add two numbers.\"\"\"\n",
    "        return x + y\n",
    "\n",
    "    @staticmethod\n",
    "    def multiply(x: int, y: int) -> int:\n",
    "        \"\"\"Multiply two numbers.\"\"\"\n",
    "        return x * y\n",
    "\n",
    "\n",
    "# Using the static methods\n",
    "result_add = MathOperations.add(10, 20)\n",
    "result_multiply = MathOperations.multiply(10, 20)\n",
    "\n",
    "print(\"Addition:\", result_add)\n",
    "print(\"Multiplication:\", result_multiply)\n",
    "\n",
    "print(\"Static variable or Class variable\", MathOperations.organization)"
   ]
  }
 ],
 "metadata": {
  "kernelspec": {
   "display_name": "py-12",
   "language": "python",
   "name": "python3"
  },
  "language_info": {
   "codemirror_mode": {
    "name": "ipython",
    "version": 3
   },
   "file_extension": ".py",
   "mimetype": "text/x-python",
   "name": "python",
   "nbconvert_exporter": "python",
   "pygments_lexer": "ipython3",
   "version": "3.12.0"
  }
 },
 "nbformat": 4,
 "nbformat_minor": 2
}
