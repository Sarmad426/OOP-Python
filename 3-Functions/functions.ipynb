{
 "cells": [
  {
   "cell_type": "markdown",
   "metadata": {},
   "source": [
    "## Python Functions"
   ]
  },
  {
   "cell_type": "code",
   "execution_count": 2,
   "metadata": {},
   "outputs": [
    {
     "data": {
      "text/plain": [
       "'Hi, Sarmad'"
      ]
     },
     "execution_count": 2,
     "metadata": {},
     "output_type": "execute_result"
    }
   ],
   "source": [
    "def greet(name: str) -> str:\n",
    "    return f\"Hi, {name}\"\n",
    "\n",
    "\n",
    "greet(\"Sarmad\")"
   ]
  },
  {
   "cell_type": "code",
   "execution_count": 3,
   "metadata": {},
   "outputs": [
    {
     "data": {
      "text/plain": [
       "24"
      ]
     },
     "execution_count": 3,
     "metadata": {},
     "output_type": "execute_result"
    }
   ],
   "source": [
    "# Factorial function (5 * 4 * 3 * 2 * 1) = 120\n",
    "\n",
    "\n",
    "def factorial(num: int) -> int:\n",
    "    \"\"\"\n",
    "    Returns factorial of the number\n",
    "    \"\"\"\n",
    "    count = num - 1\n",
    "    while count > 1:\n",
    "        num = num * count\n",
    "        count -= 1\n",
    "    return num\n",
    "\n",
    "\n",
    "factorial(4)"
   ]
  },
  {
   "cell_type": "markdown",
   "metadata": {},
   "source": [
    "## Recursion\n",
    "\n",
    "A function calling itself recursively (again & again) until a particular condition breaks the function."
   ]
  },
  {
   "cell_type": "code",
   "execution_count": 4,
   "metadata": {},
   "outputs": [
    {
     "data": {
      "text/plain": [
       "120"
      ]
     },
     "execution_count": 4,
     "metadata": {},
     "output_type": "execute_result"
    }
   ],
   "source": [
    "# Factorial function using Recursion\n",
    "\n",
    "\n",
    "def factorial(num: int) -> int:\n",
    "    \"\"\"\n",
    "    Returns factorial using Recursion\n",
    "    \"\"\"\n",
    "    if num == 1:\n",
    "        return 1\n",
    "    else:\n",
    "        return num * factorial(num - 1)\n",
    "\n",
    "\n",
    "factorial(5)"
   ]
  },
  {
   "cell_type": "markdown",
   "metadata": {},
   "source": [
    "## Lambda function\n",
    "\n",
    "Lambda functions, also known as anonymous functions, are small, unnamed functions defined using the `lambda` keyword. They are typically used for short-term operations where a full function definition is not necessary. Lambda functions can take any number of arguments but can only have one expression."
   ]
  },
  {
   "cell_type": "code",
   "execution_count": 5,
   "metadata": {},
   "outputs": [
    {
     "data": {
      "text/plain": [
       "8"
      ]
     },
     "execution_count": 5,
     "metadata": {},
     "output_type": "execute_result"
    }
   ],
   "source": [
    "# Basic Lambda function\n",
    "\n",
    "from typing import Callable\n",
    "\n",
    "add: Callable[[int, int], int] = lambda x, y: x + y\n",
    "add(5, 3)"
   ]
  },
  {
   "cell_type": "markdown",
   "metadata": {},
   "source": [
    "### Lamda function examples"
   ]
  },
  {
   "cell_type": "code",
   "execution_count": 6,
   "metadata": {},
   "outputs": [
    {
     "data": {
      "text/plain": [
       "'WelCome'"
      ]
     },
     "execution_count": 6,
     "metadata": {},
     "output_type": "execute_result"
    }
   ],
   "source": [
    "# Example 2: Lambda function with strings\n",
    "concat_strings: Callable[[str, str], str] = lambda s1, s2: s1 + s2\n",
    "result_str: str = concat_strings(\"Wel\", \"come\".capitalize())\n",
    "result_str"
   ]
  },
  {
   "cell_type": "code",
   "execution_count": 7,
   "metadata": {},
   "outputs": [
    {
     "name": "stdout",
     "output_type": "stream",
     "text": [
      "7.5\n"
     ]
    }
   ],
   "source": [
    "# Example 3: Lambda function with floats\n",
    "multiply_floats: Callable[[float, float], float] = lambda a, b: a * b\n",
    "result_float: float = multiply_floats(2.5, 3.0)\n",
    "print(result_float)"
   ]
  },
  {
   "cell_type": "markdown",
   "metadata": {},
   "source": [
    "### `*args` and `*kwargs`"
   ]
  },
  {
   "cell_type": "markdown",
   "metadata": {},
   "source": [
    "#### `*args`\n",
    "\n",
    "`*args` is used as function parameter when the number of parameters are unpredictable. It gets the number of parameters as a **tuple**. And if no parameters are passed it just gets an empty tuple. It can be called anything but with single `*` asterisk."
   ]
  },
  {
   "cell_type": "code",
   "execution_count": 8,
   "metadata": {},
   "outputs": [
    {
     "name": "stdout",
     "output_type": "stream",
     "text": [
      "User: ('Sarmad', 'sarmad@email.com', 19)\n"
     ]
    }
   ],
   "source": [
    "def user(*args) -> None:\n",
    "    \"\"\"\n",
    "    Simple function to print user details\n",
    "\n",
    "    Args:\n",
    "        `*args`: n number of parameters\n",
    "    Returns:\n",
    "        None\n",
    "    \"\"\"\n",
    "    print(f\"User: {args}\")\n",
    "\n",
    "\n",
    "user(\"Sarmad\", \"sarmad@email.com\", 19)"
   ]
  },
  {
   "cell_type": "markdown",
   "metadata": {},
   "source": [
    "#### `**kwargs`\n",
    "\n",
    "`**kwargs` stands for **Keyword args**. It is used as function parameter where named parameters are passed and also when the number of parameters are unpredictable. It gets the named parameters as a **dictionary**. And if no parameters are passed it just gets an empty dictionary. It can be called anything but with single `**` asterisk."
   ]
  },
  {
   "cell_type": "code",
   "execution_count": 1,
   "metadata": {},
   "outputs": [
    {
     "name": "stdout",
     "output_type": "stream",
     "text": [
      "User: {'name': 'Sarmad', 'email': 'sarmad@email.com', 'age': 20}\n"
     ]
    }
   ],
   "source": [
    "def user(**kwargs) -> None:\n",
    "    \"\"\"\n",
    "    Simple function to print user details\n",
    "\n",
    "    Args:\n",
    "        `**kwargs`: n number of parameters\n",
    "    Returns:\n",
    "        None\n",
    "    \"\"\"\n",
    "    print(f\"User: {kwargs}\")\n",
    "\n",
    "\n",
    "user(name=\"Sarmad\", email=\"sarmad@email.com\", age=20)"
   ]
  },
  {
   "cell_type": "code",
   "execution_count": 11,
   "metadata": {},
   "outputs": [
    {
     "name": "stdout",
     "output_type": "stream",
     "text": [
      "Sarmad\tKamran\tImran\tNawaz\t"
     ]
    }
   ],
   "source": [
    "def users(*users_list):\n",
    "    \"\"\"\n",
    "    Simple function to print user details\n",
    "\n",
    "    Args:\n",
    "        `*args`: n number of parameters\n",
    "    Returns:\n",
    "        None\n",
    "    \"\"\"\n",
    "    for user in users_list:\n",
    "        print(user, end=\"\\t\")\n",
    "\n",
    "\n",
    "users(\"Sarmad\", \"Kamran\", \"Imran\", \"Nawaz\")"
   ]
  },
  {
   "cell_type": "code",
   "execution_count": 3,
   "metadata": {},
   "outputs": [
    {
     "name": "stdout",
     "output_type": "stream",
     "text": [
      "Name: Sarmad\n",
      "Email: sarmad@email.com\n",
      "Age: 20\n"
     ]
    }
   ],
   "source": [
    "def user(**kwargs):\n",
    "    \"\"\"\n",
    "    Simple function to print user details\n",
    "\n",
    "    Args:\n",
    "        `**kwargs`: n number of parameters\n",
    "    Returns:\n",
    "        None\n",
    "    \"\"\"\n",
    "    print(f\"Name: {kwargs['name']}\")\n",
    "    print(f\"Email: {kwargs['email']}\")\n",
    "    print(f\"Age: {kwargs['age']}\")\n",
    "\n",
    "\n",
    "user(name=\"Sarmad\", email=\"sarmad@email.com\", age=20)"
   ]
  },
  {
   "cell_type": "code",
   "execution_count": 4,
   "metadata": {},
   "outputs": [
    {
     "name": "stdout",
     "output_type": "stream",
     "text": [
      "args: ('Sarmad', 'Male')\n",
      "kwargs: {'email': 'sarmad@email.com', 'age': 20}\n"
     ]
    }
   ],
   "source": [
    "def user(*args, **kwargs):\n",
    "    \"\"\"\n",
    "    Function with named and unnamed parameters `*args` & `**kwargs`\n",
    "\n",
    "    Prints the `args` tuple and `kwargs` dictionary\n",
    "\n",
    "    Args:\n",
    "        `*args` (tuple): Unnamed arguments\n",
    "        `**kwargs` (dict): Keyword arguments\n",
    "    Returns:\n",
    "        None\n",
    "    \"\"\"\n",
    "    print(f\"args: {args}\")\n",
    "    print(f\"kwargs: {kwargs}\")\n",
    "\n",
    "\n",
    "user(\"Sarmad\", \"Male\", email=\"sarmad@email.com\", age=20)"
   ]
  },
  {
   "cell_type": "markdown",
   "metadata": {},
   "source": [
    "## Built in functions\n",
    "\n",
    "So far we have just build our own functions from scratch, these functions are called **user defined functions**. There are other functions that comes with python, these functions are called **built-in functions**. There are functions like `sorted()` that sorts a list or a tuple, there is `filter()` that filters values based on a certain criteria."
   ]
  },
  {
   "cell_type": "markdown",
   "metadata": {},
   "source": [
    "### Filter function `filter`"
   ]
  },
  {
   "cell_type": "code",
   "execution_count": 10,
   "metadata": {},
   "outputs": [
    {
     "name": "stdout",
     "output_type": "stream",
     "text": [
      "{'name': 'Sarmad', 'province': 'punjab'}\n",
      "{'name': 'Ahmad', 'province': 'punjab'}\n",
      "{'name': 'Nawaz', 'province': 'punjab'}\n",
      "{'name': 'Ismail', 'province': 'punjab'}\n"
     ]
    }
   ],
   "source": [
    "# Filtering punjab users\n",
    "users: list[dict[str, str]] = [\n",
    "    {\"name\": \"Sarmad\", \"province\": \"punjab\"},\n",
    "    {\"name\": \"Kamran\", \"province\": \"sindh\"},\n",
    "    {\"name\": \"Ahmad\", \"province\": \"punjab\"},\n",
    "    {\n",
    "        \"name\": \"Ali\",\n",
    "        \"province\": \"balochistan\",\n",
    "    },\n",
    "    {\n",
    "        \"name\": \"Nawaz\",\n",
    "        \"province\": \"punjab\",\n",
    "    },\n",
    "    {\n",
    "        \"name\": \"junaid\",\n",
    "        \"province\": \"kpk\",\n",
    "    },\n",
    "    {\n",
    "        \"name\": \"Ismail\",\n",
    "        \"province\": \"punjab\",\n",
    "    },\n",
    "]\n",
    "\n",
    "\n",
    "def filter_punjab_users(user: dict[str, str]) -> bool:\n",
    "    \"\"\"\n",
    "    Returns true if user is from punjab\n",
    "    \"\"\"\n",
    "    return user[\"province\"] == \"punjab\"\n",
    "\n",
    "\n",
    "punjab_users = filter(filter_punjab_users, users)\n",
    "\n",
    "for user in punjab_users:\n",
    "    print(user)"
   ]
  },
  {
   "cell_type": "code",
   "execution_count": 15,
   "metadata": {},
   "outputs": [
    {
     "name": "stdout",
     "output_type": "stream",
     "text": [
      "{'name': 'Sarmad', 'province': 'punjab'}\n",
      "{'name': 'Ahmad', 'province': 'punjab'}\n",
      "{'name': 'Nawaz', 'province': 'punjab'}\n",
      "{'name': 'Ismail', 'province': 'punjab'}\n"
     ]
    }
   ],
   "source": [
    "# using a lambda function to filter\n",
    "\n",
    "punjab_users = filter(lambda user: user[\"province\"] == \"punjab\", users)\n",
    "\n",
    "for user in punjab_users:\n",
    "    print(user)"
   ]
  },
  {
   "cell_type": "markdown",
   "metadata": {},
   "source": [
    "### Sorted function"
   ]
  },
  {
   "cell_type": "code",
   "execution_count": 13,
   "metadata": {},
   "outputs": [
    {
     "name": "stdout",
     "output_type": "stream",
     "text": [
      "{'name': 'Ahmad', 'province': 'punjab'}\n",
      "{'name': 'Ali', 'province': 'balochistan'}\n",
      "{'name': 'Ismail', 'province': 'punjab'}\n",
      "{'name': 'Kamran', 'province': 'sindh'}\n",
      "{'name': 'Nawaz', 'province': 'punjab'}\n",
      "{'name': 'Sarmad', 'province': 'punjab'}\n",
      "{'name': 'junaid', 'province': 'kpk'}\n"
     ]
    }
   ],
   "source": [
    "# Sorting the users by their name\n",
    "\n",
    "for user in sorted(\n",
    "    users, key=lambda user: user[\"name\"]\n",
    "):  # lambda function determining key to sort\n",
    "    print(user)"
   ]
  }
 ],
 "metadata": {
  "kernelspec": {
   "display_name": "venv",
   "language": "python",
   "name": "python3"
  },
  "language_info": {
   "codemirror_mode": {
    "name": "ipython",
    "version": 3
   },
   "file_extension": ".py",
   "mimetype": "text/x-python",
   "name": "python",
   "nbconvert_exporter": "python",
   "pygments_lexer": "ipython3",
   "version": "3.12.4"
  }
 },
 "nbformat": 4,
 "nbformat_minor": 2
}
