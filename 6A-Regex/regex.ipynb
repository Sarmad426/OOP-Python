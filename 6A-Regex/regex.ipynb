{
 "cells": [
  {
   "cell_type": "markdown",
   "metadata": {},
   "source": [
    "## Regex Programs"
   ]
  },
  {
   "cell_type": "markdown",
   "metadata": {},
   "source": [
    "### Password Validator program.\n",
    "\n",
    "Password Requirements.\n",
    "\n",
    "- must have Upper-case letters\n",
    "- must have special characters or numbers\n",
    "- must be 6 characters or long"
   ]
  },
  {
   "cell_type": "code",
   "execution_count": 4,
   "metadata": {},
   "outputs": [
    {
     "name": "stdout",
     "output_type": "stream",
     "text": [
      "Valid password.\n"
     ]
    }
   ],
   "source": [
    "import re\n",
    "\n",
    "def validate_password(password: str) -> bool:\n",
    "    \"\"\"\n",
    "    Validates a password using regex.\n",
    "\n",
    "    Parameters:\n",
    "        password (str): The password to be validated.\n",
    "\n",
    "    Returns:\n",
    "        bool: True if the password is valid, False otherwise.\n",
    "    \"\"\"\n",
    "    # Password must have at least one uppercase character,\n",
    "    # one special character or number, and a length of 6 or greater.\n",
    "    pattern = re.compile(r'^(?=.*[A-Z])(?=.*[!@#$%^&*()_+\\-=\\[\\]{};:\\'\",.<>/?0-9]).{6,}$')\n",
    "    return bool(pattern.match(password))\n",
    "\n",
    "def password_validation_example():\n",
    "    user_password = input(\"Enter your password: \")\n",
    "\n",
    "    if validate_password(user_password):\n",
    "        print(\"Valid password.\")\n",
    "    else:\n",
    "        print(\"Invalid password. Add Uppercase letter, special characters or numbers.\")\n",
    "\n",
    "# Example usage\n",
    "password_validation_example()\n"
   ]
  },
  {
   "cell_type": "markdown",
   "metadata": {},
   "source": [
    "### UMT Email Validator Program\n",
    "\n",
    "Password ends with **@umt.edu.pk**"
   ]
  },
  {
   "cell_type": "code",
   "execution_count": 5,
   "metadata": {},
   "outputs": [
    {
     "name": "stdout",
     "output_type": "stream",
     "text": [
      "Valid UMT university email.\n"
     ]
    }
   ],
   "source": [
    "def validate_umt_email(email: str) -> bool:\n",
    "    \"\"\"\n",
    "    Validates a UMT university email address.\n",
    "\n",
    "    Parameters:\n",
    "        email (str): The email address to be validated.\n",
    "\n",
    "    Returns:\n",
    "        bool: True if the email is a UMT university email, False otherwise.\n",
    "    \"\"\"\n",
    "    # UMT email must have \"@umt.edu.pk\" in it.\n",
    "    umt_domain = \"@umt.edu.pk\"\n",
    "    return umt_domain in email\n",
    "\n",
    "\n",
    "def umt_email_validation_example():\n",
    "    user_email = input(\"Enter your email address: \")\n",
    "\n",
    "    if validate_umt_email(user_email):\n",
    "        print(\"Valid UMT university email.\")\n",
    "    else:\n",
    "        print(\"Invalid email. Please use a UMT university email address.\")\n",
    "\n",
    "\n",
    "# Example usage\n",
    "umt_email_validation_example()"
   ]
  },
  {
   "cell_type": "markdown",
   "metadata": {},
   "source": [
    "### Strict UMT Email Validation Program\n",
    "\n",
    "The last program has a bug. Even if the user just type `@umt.edu.pk` it is going to pass the validation.\n",
    "\n",
    "This is more protected and reliable program."
   ]
  },
  {
   "cell_type": "code",
   "execution_count": 8,
   "metadata": {},
   "outputs": [
    {
     "name": "stdout",
     "output_type": "stream",
     "text": [
      "Valid UMT university email.\n"
     ]
    }
   ],
   "source": [
    "def validate_umt_email(username: str, email: str) -> bool:\n",
    "    \"\"\"\n",
    "    Validates a UMT university email address.\n",
    "\n",
    "    Parameters:\n",
    "        username (str): The user name.\n",
    "        email (str): The email address to be validated.\n",
    "\n",
    "    Returns:\n",
    "        bool: True if the email is a UMT university email, False otherwise.\n",
    "    \"\"\"\n",
    "    # UMT email must have \"@umt.edu.pk\" in it and a non-empty user name.\n",
    "    umt_domain = \"@umt.edu.pk\"\n",
    "\n",
    "    # Ensure the user name is not empty and the email ends with \"@umt.edu.pk\".\n",
    "    return bool(username) and email.endswith(umt_domain)\n",
    "\n",
    "\n",
    "def umt_email_validation_example():\n",
    "    user_name = input(\"Enter your user name: \")\n",
    "    user_email = input(\"Enter your email address: \")\n",
    "\n",
    "    if validate_umt_email(user_name, user_email):\n",
    "        print(\"Valid UMT university email.\")\n",
    "    else:\n",
    "        print(\n",
    "            \"Invalid email or user name. Please provide a valid UMT university email address.\"\n",
    "        )\n",
    "\n",
    "\n",
    "# Example usage\n",
    "umt_email_validation_example()"
   ]
  }
 ],
 "metadata": {
  "kernelspec": {
   "display_name": "py-12",
   "language": "python",
   "name": "python3"
  },
  "language_info": {
   "codemirror_mode": {
    "name": "ipython",
    "version": 3
   },
   "file_extension": ".py",
   "mimetype": "text/x-python",
   "name": "python",
   "nbconvert_exporter": "python",
   "pygments_lexer": "ipython3",
   "version": "3.12.0"
  }
 },
 "nbformat": 4,
 "nbformat_minor": 2
}
