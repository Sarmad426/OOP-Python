{
 "cells": [
  {
   "cell_type": "markdown",
   "metadata": {},
   "source": [
    "# Python File Handling"
   ]
  },
  {
   "cell_type": "markdown",
   "metadata": {},
   "source": [
    "### Writing the file"
   ]
  },
  {
   "cell_type": "code",
   "execution_count": 2,
   "metadata": {},
   "outputs": [],
   "source": [
    "name,name1,name2 = 'Kamran',\"Nawaz\", \"Imran\"\n",
    "\n",
    "# Opening python file in write mode\n",
    "\n",
    "file = open(\"file.txt\",'w')\n",
    "\n",
    "file.write(f\"{name}\\n\")\n",
    "file.close()"
   ]
  },
  {
   "cell_type": "markdown",
   "metadata": {},
   "source": [
    "### Write mode\n",
    "\n",
    "In the last code we have used the write method to write something to the file.\n",
    "This method recreates the file and replaces the contents every time the program is executed.\n",
    "\n",
    "\n",
    "### Append method\n",
    "\n",
    "Append method adds new content after the old content.However it does not add a line break between the old and new content."
   ]
  },
  {
   "cell_type": "code",
   "execution_count": 3,
   "metadata": {},
   "outputs": [],
   "source": [
    "file = open('file.txt','a')\n",
    "\n",
    "file.write(f\"{name1}\\n\")\n",
    "\n",
    "file.close()"
   ]
  },
  {
   "cell_type": "markdown",
   "metadata": {},
   "source": [
    "### with Keyword\n",
    "\n",
    "`with` keyword automatically closes the open file."
   ]
  },
  {
   "cell_type": "code",
   "execution_count": 4,
   "metadata": {},
   "outputs": [],
   "source": [
    "with open(\"file.txt\",'a') as file:\n",
    "    file.write(f\"{name2}\\n\")"
   ]
  },
  {
   "cell_type": "markdown",
   "metadata": {},
   "source": [
    "### Reading the file"
   ]
  },
  {
   "cell_type": "code",
   "execution_count": 26,
   "metadata": {},
   "outputs": [
    {
     "name": "stdout",
     "output_type": "stream",
     "text": [
      "Kamran\n",
      "Nawaz\n",
      "Imran\n"
     ]
    }
   ],
   "source": [
    "with open(\"file.txt\",'r') as file:\n",
    "    for line in file:\n",
    "        print(line.rstrip())\n",
    "\n",
    "# rstrip() function removes line space"
   ]
  },
  {
   "cell_type": "markdown",
   "metadata": {},
   "source": [
    "#### Store file data in a list and sort them"
   ]
  },
  {
   "cell_type": "code",
   "execution_count": 27,
   "metadata": {},
   "outputs": [
    {
     "name": "stdout",
     "output_type": "stream",
     "text": [
      "Imran\n",
      "Kamran\n",
      "Nawaz\n"
     ]
    }
   ],
   "source": [
    "names : list[str] = []\n",
    "\n",
    "with open(\"file.txt\") as file:\n",
    "    for line in file:\n",
    "        names.append(line.rstrip())\n",
    "\n",
    "for name in sorted(names):\n",
    "    print(name)"
   ]
  },
  {
   "cell_type": "markdown",
   "metadata": {},
   "source": [
    "### Simplified and Short version of the last code"
   ]
  },
  {
   "cell_type": "code",
   "execution_count": 30,
   "metadata": {},
   "outputs": [
    {
     "name": "stdout",
     "output_type": "stream",
     "text": [
      "Imran\n",
      "Kamran\n",
      "Nawaz\n"
     ]
    }
   ],
   "source": [
    "with open(\"file.txt\") as file:\n",
    "    for line in sorted(file):\n",
    "        print(line.rstrip())"
   ]
  },
  {
   "cell_type": "markdown",
   "metadata": {},
   "source": [
    "## To Sort data in descending order\n",
    "\n",
    "```python\n",
    "sorted(names,reverse=True)\n",
    "```"
   ]
  },
  {
   "cell_type": "markdown",
   "metadata": {},
   "source": [
    "### Writing a CSV file"
   ]
  },
  {
   "cell_type": "code",
   "execution_count": 6,
   "metadata": {},
   "outputs": [],
   "source": [
    "import csv \n",
    "\n",
    "name = \"Nawaz\"\n",
    "home = \"Karachi\"\n",
    "\n",
    "with open(\"students.csv\",'a') as file:\n",
    "    writer = csv.DictWriter(file,fieldnames=['name','home'])\n",
    "    writer.writerow({'name':name,'home':home})"
   ]
  },
  {
   "cell_type": "markdown",
   "metadata": {},
   "source": [
    "### Read a CSV file"
   ]
  },
  {
   "cell_type": "code",
   "execution_count": 9,
   "metadata": {},
   "outputs": [
    {
     "name": "stdout",
     "output_type": "stream",
     "text": [
      "Sarmad is from Lahore\n",
      "Nawaz is from Ravenclaw\n",
      "Mubashir is from Karachi\n"
     ]
    }
   ],
   "source": [
    "from typing import List, Tuple\n",
    "import csv\n",
    "\n",
    "\n",
    "def write_user_info_to_csv(file_path: str, user_data: List[Tuple[str, str]]) -> None:\n",
    "    \"\"\"\n",
    "    Writes user information (name and house) to a CSV file.\n",
    "\n",
    "    Parameters:\n",
    "        file_path (str): The path to the CSV file.\n",
    "        user_data (List[Tuple[str, str]]): A list of tuples containing user information (name, house).\n",
    "    \"\"\"\n",
    "    with open(file_path, mode=\"w\", newline=\"\") as csv_file:\n",
    "        writer = csv.writer(csv_file)\n",
    "        writer.writerow([\"Name\", \"House\"])  # Writing header row\n",
    "        writer.writerows(user_data)\n",
    "\n",
    "\n",
    "def read_user_info_from_csv(file_path: str) -> List[Tuple[str, str]]:\n",
    "    \"\"\"\n",
    "    Reads user information (name and house) from a CSV file.\n",
    "\n",
    "    Parameters:\n",
    "        file_path (str): The path to the CSV file.\n",
    "\n",
    "    Returns:\n",
    "        List[Tuple[str, str]]: A list of tuples containing user information (name, house).\n",
    "    \"\"\"\n",
    "    user_data : List[Tuple[str,str]] = []\n",
    "    with open(file_path, mode=\"r\") as csv_file:\n",
    "        reader = csv.reader(csv_file)\n",
    "        next(reader)  # Skip the header row\n",
    "        for row in reader:\n",
    "            user_data.append((row[0], row[1]))\n",
    "    return user_data\n",
    "\n",
    "\n",
    "file_path = \"students.csv\"\n",
    "\n",
    "users_to_write : List[Tuple[str,str]] = [(\"Sarmad\", \"Lahore\"), (\"Nawaz\", \"Ravenclaw\"),(\"Mubashir\",\"Karachi\")]\n",
    "\n",
    "write_user_info_to_csv(file_path, users_to_write)\n",
    "\n",
    "\n",
    "users_read = read_user_info_from_csv(file_path)\n",
    "\n",
    "for row in users_read:\n",
    "    print(f\"{row[0]} is from {row[1]}\")"
   ]
  }
 ],
 "metadata": {
  "kernelspec": {
   "display_name": "py-12",
   "language": "python",
   "name": "python3"
  },
  "language_info": {
   "codemirror_mode": {
    "name": "ipython",
    "version": 3
   },
   "file_extension": ".py",
   "mimetype": "text/x-python",
   "name": "python",
   "nbconvert_exporter": "python",
   "pygments_lexer": "ipython3",
   "version": "3.12.0"
  }
 },
 "nbformat": 4,
 "nbformat_minor": 2
}
