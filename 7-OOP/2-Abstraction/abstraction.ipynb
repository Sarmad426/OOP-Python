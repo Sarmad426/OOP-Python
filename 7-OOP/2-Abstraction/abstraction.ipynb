{
 "cells": [
  {
   "cell_type": "markdown",
   "metadata": {},
   "source": [
    "## Abstraction"
   ]
  },
  {
   "cell_type": "code",
   "execution_count": 3,
   "metadata": {},
   "outputs": [],
   "source": [
    "# imports\n",
    "from abc import ABC, abstractmethod"
   ]
  },
  {
   "cell_type": "markdown",
   "metadata": {},
   "source": [
    "#### Abstract Base Class (ABC) with Abstract Method"
   ]
  },
  {
   "cell_type": "code",
   "execution_count": 4,
   "metadata": {},
   "outputs": [
    {
     "name": "stdout",
     "output_type": "stream",
     "text": [
      "Area of the square: 25\n"
     ]
    }
   ],
   "source": [
    "class Shape(ABC):\n",
    "    \"\"\"Abstract base class representing a shape.\"\"\"\n",
    "\n",
    "    @abstractmethod\n",
    "    def area(self) -> float:\n",
    "        \"\"\"Calculate the area of the shape.\"\"\"\n",
    "        pass\n",
    "\n",
    "\n",
    "class Square(Shape):\n",
    "    \"\"\"Class representing a square.\"\"\"\n",
    "\n",
    "    def __init__(self, side_length: float) -> None:\n",
    "        self.side_length = side_length\n",
    "\n",
    "    def area(self) -> float:\n",
    "        \"\"\"Calculate the area of the square.\"\"\"\n",
    "        return self.side_length**2\n",
    "\n",
    "\n",
    "square = Square(5)\n",
    "print(\"Area of the square:\", square.area())"
   ]
  },
  {
   "cell_type": "markdown",
   "metadata": {},
   "source": [
    "#### Abstract Property"
   ]
  },
  {
   "cell_type": "code",
   "execution_count": 9,
   "metadata": {},
   "outputs": [
    {
     "name": "stdout",
     "output_type": "stream",
     "text": [
      "Max speed of the car: 240\n"
     ]
    }
   ],
   "source": [
    "class Vehicle(ABC):\n",
    "    \"\"\"Abstract base class representing a vehicle.\"\"\"\n",
    "\n",
    "    @property\n",
    "    @abstractmethod\n",
    "    def max_speed(self) -> float:\n",
    "        \"\"\"Maximum speed of the vehicle.\"\"\"\n",
    "        pass\n",
    "\n",
    "\n",
    "class Car(Vehicle):\n",
    "    \"\"\"Class representing a car.\"\"\"\n",
    "\n",
    "    def __init__(self, max_speed: float) -> None:\n",
    "        \"\"\"Initialize a car with a given maximum speed.\"\"\"\n",
    "        self._max_speed = max_speed\n",
    "\n",
    "    @property\n",
    "    def max_speed(self) -> float:\n",
    "        \"\"\"Return the maximum speed of the car.\"\"\"\n",
    "        return self._max_speed\n",
    "\n",
    "\n",
    "my_car = Car(240)\n",
    "print(\"Max speed of the car:\", my_car.max_speed)"
   ]
  },
  {
   "cell_type": "markdown",
   "metadata": {},
   "source": [
    "#### Abstract Class with Concrete Methods"
   ]
  },
  {
   "cell_type": "code",
   "execution_count": 6,
   "metadata": {},
   "outputs": [
    {
     "name": "stdout",
     "output_type": "stream",
     "text": [
      "Woof!\n",
      "The animal moves.\n"
     ]
    }
   ],
   "source": [
    "class Animal(ABC):\n",
    "    \"\"\"Abstract base class representing an animal.\"\"\"\n",
    "\n",
    "    @abstractmethod\n",
    "    def sound(self) -> str:\n",
    "        \"\"\"Produce the sound of the animal.\"\"\"\n",
    "        pass\n",
    "\n",
    "    def move(self) -> str:\n",
    "        \"\"\"Describe how the animal moves.\"\"\"\n",
    "        return \"The animal moves.\"\n",
    "\n",
    "\n",
    "class Dog(Animal):\n",
    "    \"\"\"Class representing a dog.\"\"\"\n",
    "\n",
    "    def sound(self) -> str:\n",
    "        return \"Woof!\"\n",
    "\n",
    "\n",
    "dog = Dog()\n",
    "print(dog.sound())\n",
    "print(dog.move())"
   ]
  },
  {
   "cell_type": "markdown",
   "metadata": {},
   "source": [
    "#### Interface Abstraction"
   ]
  },
  {
   "cell_type": "code",
   "execution_count": 7,
   "metadata": {},
   "outputs": [
    {
     "name": "stdout",
     "output_type": "stream",
     "text": [
      "Processing payment of $100 via PayPal.\n",
      "True\n",
      "Processing payment of $150 via Stripe.\n",
      "True\n"
     ]
    }
   ],
   "source": [
    "class PaymentGateway(ABC):\n",
    "    \"\"\"Interface for payment gateways.\"\"\"\n",
    "\n",
    "    @abstractmethod\n",
    "    def process_payment(self, amount: float) -> bool:\n",
    "        \"\"\"Process a payment.\"\"\"\n",
    "        pass\n",
    "\n",
    "\n",
    "class PayPal(PaymentGateway):\n",
    "    \"\"\"Class representing the PayPal payment gateway.\"\"\"\n",
    "\n",
    "    def process_payment(self, amount: float) -> bool:\n",
    "        \"\"\"Process a payment using PayPal.\"\"\"\n",
    "        print(f\"Processing payment of ${amount} via PayPal.\")\n",
    "        return True\n",
    "\n",
    "\n",
    "class Stripe(PaymentGateway):\n",
    "    \"\"\"Class representing the Stripe payment gateway.\"\"\"\n",
    "\n",
    "    def process_payment(self, amount: float) -> bool:\n",
    "        \"\"\"Process a payment using Stripe.\"\"\"\n",
    "        print(f\"Processing payment of ${amount} via Stripe.\")\n",
    "        return True\n",
    "\n",
    "\n",
    "paypal_gateway = PayPal()\n",
    "stripe_gateway = Stripe()\n",
    "\n",
    "print(paypal_gateway.process_payment(100))\n",
    "print(stripe_gateway.process_payment(150))"
   ]
  }
 ],
 "metadata": {
  "kernelspec": {
   "display_name": "Python 3",
   "language": "python",
   "name": "python3"
  },
  "language_info": {
   "codemirror_mode": {
    "name": "ipython",
    "version": 3
   },
   "file_extension": ".py",
   "mimetype": "text/x-python",
   "name": "python",
   "nbconvert_exporter": "python",
   "pygments_lexer": "ipython3",
   "version": "3.12.6"
  }
 },
 "nbformat": 4,
 "nbformat_minor": 2
}
