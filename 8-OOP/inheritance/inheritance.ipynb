{
 "cells": [
  {
   "cell_type": "markdown",
   "metadata": {},
   "source": [
    "## Inheritance\n",
    "\n",
    "Inheritance a concept in which one `class` inherits all the properties of other class. The class whose properties are being inherited is called **Super** or Parent class, and the one that is inheriting is called the **Child** class. "
   ]
  },
  {
   "cell_type": "code",
   "execution_count": 2,
   "metadata": {},
   "outputs": [
    {
     "name": "stdout",
     "output_type": "stream",
     "text": [
      "Sarmad is 19 years old.\n",
      "Professor Kamran teaches Computer Science\n"
     ]
    }
   ],
   "source": [
    "class Person:\n",
    "    \"\"\"\n",
    "    Person class with name, email and age\n",
    "    \"\"\"\n",
    "\n",
    "    def __init__(self, name:str, age:int):\n",
    "        self.name = name\n",
    "        self.age = age\n",
    "\n",
    "    def __str__(self):\n",
    "        return f\"{self.name} is {self.age} years old.\"\n",
    "\n",
    "\n",
    "class Professor(Person):\n",
    "    \"\"\"\n",
    "    Professor class inheriting `Person` class and having a `Subject` field.\n",
    "    \"\"\"\n",
    "\n",
    "    def __init__(self, name:str, age:int, subject:str):\n",
    "        super().__init__(name, age)\n",
    "        self.subject = subject\n",
    "\n",
    "    def __str__(self):\n",
    "        return f\"Professor {self.name} teaches {self.subject}\"\n",
    "\n",
    "\n",
    "person = Person(\"Sarmad\", 19)\n",
    "\n",
    "professor = Professor(\"Kamran\", 26, \"Computer Science\")\n",
    "\n",
    "print(person)\n",
    "print(professor)"
   ]
  },
  {
   "cell_type": "markdown",
   "metadata": {},
   "source": [
    "### Multiple Inheritance\n",
    "\n",
    "\n",
    "Multiple inheritance refers to the ability of a class to inherit attributes and methods from more than one parent class. In other words, a subclass can inherit from multiple superclasses. This means that the subclass has access to all the methods and attributes of each of its parent classes. However, multiple inheritance can lead to complex class hierarchies and potential issues such as the diamond problem, where the same method is inherited from two different parent classes. Python supports multiple inheritance, but it requires careful design to avoid such issues."
   ]
  },
  {
   "cell_type": "code",
   "execution_count": 3,
   "metadata": {},
   "outputs": [
    {
     "name": "stdout",
     "output_type": "stream",
     "text": [
      "Professor Kamran teaches Computer Science in Engineering department.\n"
     ]
    }
   ],
   "source": [
    "class Person:\n",
    "    \"\"\"\n",
    "    Person class with name and age\n",
    "    \"\"\"\n",
    "\n",
    "    def __init__(self, name: str, age: int):\n",
    "        self.name = name\n",
    "        self.age = age\n",
    "\n",
    "    def __str__(self) -> str:\n",
    "        return f\"{self.name} is {self.age} years old.\"\n",
    "\n",
    "\n",
    "class Employee:\n",
    "    \"\"\"\n",
    "    Employee class with department\n",
    "    \"\"\"\n",
    "\n",
    "    def __init__(self, department: str):\n",
    "        self.department = department\n",
    "\n",
    "\n",
    "class Professor(Person, Employee):\n",
    "    \"\"\"\n",
    "    Professor class inheriting from `Person` and `Employee` classes and having a `Subject` field.\n",
    "    \"\"\"\n",
    "\n",
    "    def __init__(self, name: str, age: int, subject: str, department: str):\n",
    "        super().__init__(name, age)\n",
    "        Employee.__init__(self, department)\n",
    "        self.subject = subject\n",
    "\n",
    "    def __str__(self) -> str:\n",
    "        return f\"Professor {self.name} teaches {self.subject} in {self.department} department.\"\n",
    "\n",
    "\n",
    "person = Person(\"Sarmad\", 19)\n",
    "\n",
    "professor = Professor(\"Kamran\", 26, \"Computer Science\", \"Engineering\")\n",
    "\n",
    "print(professor)"
   ]
  },
  {
   "cell_type": "markdown",
   "metadata": {},
   "source": [
    "#### Multi-level Inheritance\n",
    "\n",
    "Multi-level inheritance, refers to a situation where a class inherits from another class, and then another class inherits from this derived class. This creates a hierarchical relationship between classes, where each subsequent class adds more specific attributes or behavior to the hierarchy. It is a simpler form of inheritance compared to multiple inheritance, as there is only one direct parent class for each subclass. This hierarchy can be seen as a chain of classes, with each link representing a level of inheritance. Multi-level inheritance is commonly used to model real-world relationships where subclasses specialize or refine the behavior of their parent classes."
   ]
  },
  {
   "cell_type": "code",
   "execution_count": 4,
   "metadata": {},
   "outputs": [
    {
     "name": "stdout",
     "output_type": "stream",
     "text": [
      "Professor Kamran teaches Computer Science in Engineering department and majors in Electrical Engineering.\n"
     ]
    }
   ],
   "source": [
    "class Person:\n",
    "    \"\"\"\n",
    "    Person class with name, email and age\n",
    "    \"\"\"\n",
    "\n",
    "    def __init__(self, name: str, age: int):\n",
    "        self.name = name\n",
    "        self.age = age\n",
    "\n",
    "    def __str__(self) -> str:\n",
    "        return f\"{self.name} is {self.age} years old.\"\n",
    "\n",
    "\n",
    "class Student(Person):\n",
    "    \"\"\"\n",
    "    Student class inheriting from `Person` class and having a `major` field.\n",
    "    \"\"\"\n",
    "\n",
    "    def __init__(self, name: str, age: int, major: str):\n",
    "        super().__init__(name, age)\n",
    "        self.major = major\n",
    "\n",
    "    def __str__(self) -> str:\n",
    "        return (\n",
    "            f\"Student {self.name} is {self.age} years old and majoring in {self.major}.\"\n",
    "        )\n",
    "\n",
    "\n",
    "class Employee:\n",
    "    \"\"\"\n",
    "    Employee class with department\n",
    "    \"\"\"\n",
    "\n",
    "    def __init__(self, department: str):\n",
    "        self.department = department\n",
    "\n",
    "\n",
    "class Professor(Employee, Student):\n",
    "    \"\"\"\n",
    "    Professor class inheriting from `Employee` and `Student` classes and having a `Subject` field.\n",
    "    \"\"\"\n",
    "\n",
    "    def __init__(self, name: str, age: int, subject: str, department: str, major: str):\n",
    "        Person.__init__(self, name, age)\n",
    "        Employee.__init__(self, department)\n",
    "        Student.__init__(self, name, age, major)\n",
    "        self.subject = subject\n",
    "\n",
    "    def __str__(self) -> str:\n",
    "        return f\"Professor {self.name} teaches {self.subject} in {self.department} department and majors in {self.major}.\"\n",
    "\n",
    "\n",
    "person = Person(\"Sarmad\", 19)\n",
    "\n",
    "student = Student(\"John\", 21, \"Physics\")\n",
    "\n",
    "professor = Professor(\n",
    "    \"Kamran\", 26, \"Computer Science\", \"Engineering\", \"Electrical Engineering\"\n",
    ")\n",
    "\n",
    "print(professor)"
   ]
  }
 ],
 "metadata": {
  "kernelspec": {
   "display_name": "py-12",
   "language": "python",
   "name": "python3"
  },
  "language_info": {
   "codemirror_mode": {
    "name": "ipython",
    "version": 3
   },
   "file_extension": ".py",
   "mimetype": "text/x-python",
   "name": "python",
   "nbconvert_exporter": "python",
   "pygments_lexer": "ipython3",
   "version": "3.12.0"
  }
 },
 "nbformat": 4,
 "nbformat_minor": 2
}
