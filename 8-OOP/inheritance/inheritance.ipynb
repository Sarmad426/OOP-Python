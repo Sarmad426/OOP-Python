{
 "cells": [
  {
   "cell_type": "markdown",
   "metadata": {},
   "source": [
    "## Inheritance\n",
    "\n",
    "Inheritance a concept in which one `class` inherits all the properties of other class. The class whose properties are being inherited is called **Super** or Parent class, and the one that is inheriting is called the **Child** class. "
   ]
  },
  {
   "cell_type": "code",
   "execution_count": 2,
   "metadata": {},
   "outputs": [
    {
     "name": "stdout",
     "output_type": "stream",
     "text": [
      "Sarmad is 19 years old.\n",
      "Professor Kamran teaches Computer Science\n"
     ]
    }
   ],
   "source": [
    "class Person:\n",
    "    \"\"\"\n",
    "    Person class with name, email and age\n",
    "    \"\"\"\n",
    "\n",
    "    def __init__(self, name:str, age:int):\n",
    "        self.name = name\n",
    "        self.age = age\n",
    "\n",
    "    def __str__(self):\n",
    "        return f\"{self.name} is {self.age} years old.\"\n",
    "\n",
    "\n",
    "class Professor(Person):\n",
    "    \"\"\"\n",
    "    Professor class inheriting `Person` class and having a `Subject` field.\n",
    "    \"\"\"\n",
    "\n",
    "    def __init__(self, name:str, age:int, subject:str):\n",
    "        super().__init__(name, age)\n",
    "        self.subject = subject\n",
    "\n",
    "    def __str__(self):\n",
    "        return f\"Professor {self.name} teaches {self.subject}\"\n",
    "\n",
    "\n",
    "person = Person(\"Sarmad\", 19)\n",
    "\n",
    "professor = Professor(\"Kamran\", 26, \"Computer Science\")\n",
    "\n",
    "print(person)\n",
    "print(professor)\n"
   ]
  }
 ],
 "metadata": {
  "kernelspec": {
   "display_name": "py-12",
   "language": "python",
   "name": "python3"
  },
  "language_info": {
   "codemirror_mode": {
    "name": "ipython",
    "version": 3
   },
   "file_extension": ".py",
   "mimetype": "text/x-python",
   "name": "python",
   "nbconvert_exporter": "python",
   "pygments_lexer": "ipython3",
   "version": "3.12.0"
  }
 },
 "nbformat": 4,
 "nbformat_minor": 2
}
