{
 "cells": [
  {
   "cell_type": "markdown",
   "metadata": {},
   "source": [
    "## Inheritance\n",
    "\n",
    "Inheritance a concept in which one `class` inherits all the properties of other class. The class whose properties are being inherited is called **Super** or Parent class, and the one that is inheriting is called the **Child** class. "
   ]
  },
  {
   "cell_type": "code",
   "execution_count": null,
   "metadata": {},
   "outputs": [],
   "source": [
    "class Person:\n",
    "    \"\"\"\n",
    "    Person class with name, email and age\n",
    "    \"\"\"\n",
    "\n",
    "    def __init__(self, name, age):\n",
    "        self.name = name\n",
    "        self.age = age\n",
    "\n",
    "    def __str__(self):\n",
    "        return f\"{self.name} is {self.age} years old.\"\n",
    "\n",
    "\n",
    "class Professor(Person):\n",
    "    \"\"\"\n",
    "    Professor class inheriting `Person` class and having a `Subject` field.\n",
    "    \"\"\"\n",
    "\n",
    "    def __init__(self, name, age, subject):\n",
    "        super().__init__(name, age)\n",
    "        self.subject = subject\n",
    "\n",
    "    def __str__(self):\n",
    "        return f\"Professor {self.name} teaches {self.subject}\"\n",
    "\n",
    "\n",
    "person = Person(\"Sarmad\", 19)\n",
    "\n",
    "professor = Professor(\"Kamran\", 26, \"Computer Science\")\n",
    "\n",
    "print(person)\n",
    "print(professor)\n"
   ]
  }
 ],
 "metadata": {
  "language_info": {
   "name": "python"
  }
 },
 "nbformat": 4,
 "nbformat_minor": 2
}
