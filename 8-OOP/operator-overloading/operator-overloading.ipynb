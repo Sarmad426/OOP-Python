{
 "cells": [
  {
   "cell_type": "markdown",
   "metadata": {},
   "source": [
    "## Operator Overloading"
   ]
  },
  {
   "cell_type": "markdown",
   "metadata": {},
   "source": [
    "#### Simple Operator Overloading Program (Easy level)"
   ]
  },
  {
   "cell_type": "code",
   "execution_count": 2,
   "metadata": {},
   "outputs": [
    {
     "name": "stdout",
     "output_type": "stream",
     "text": [
      "Total Points: (147)\n"
     ]
    }
   ],
   "source": [
    "class Person:\n",
    "    def __init__(self, points: int):\n",
    "        self.points = points\n",
    "\n",
    "    def __add__(self, other: \"Person\") -> \"Person\":\n",
    "        return Person(self.points + other.points)\n",
    "\n",
    "sarmad_points = Person(78)\n",
    "kamran_points = Person(69)\n",
    "\n",
    "total = sarmad_points + kamran_points\n",
    "\n",
    "print(f\"Total Points: ({total.points})\")"
   ]
  },
  {
   "cell_type": "markdown",
   "metadata": {},
   "source": [
    "#### Medium Level"
   ]
  },
  {
   "cell_type": "code",
   "execution_count": 1,
   "metadata": {},
   "outputs": [
    {
     "name": "stdout",
     "output_type": "stream",
     "text": [
      "True\n"
     ]
    }
   ],
   "source": [
    "class Point:\n",
    "    def __init__(self, x: int, y: int):\n",
    "        self.x = x\n",
    "        self.y = y\n",
    "    \n",
    "    def __eq__(self, other :'Point') -> bool:\n",
    "        return self.x == other.x and self.y == other.y\n",
    "\n",
    "point1 = Point(1, 2)\n",
    "point2 = Point(1, 2)\n",
    "print(point1 == point2)"
   ]
  },
  {
   "cell_type": "markdown",
   "metadata": {},
   "source": [
    "#### Hard Level"
   ]
  },
  {
   "cell_type": "code",
   "execution_count": 3,
   "metadata": {},
   "outputs": [
    {
     "name": "stdout",
     "output_type": "stream",
     "text": [
      "[2, 4, 6]\n",
      "[3, 6, 9]\n"
     ]
    }
   ],
   "source": [
    "from typing import List\n",
    "\n",
    "\n",
    "class Vector:\n",
    "    def __init__(self, values: List[float]):\n",
    "        self.values = values\n",
    "\n",
    "    def __mul__(self, scalar: float) -> \"Vector\":\n",
    "        return Vector([x * scalar for x in self.values])\n",
    "\n",
    "    def __rmul__(self, scalar: float) -> \"Vector\":  # handles scalar * vector\n",
    "        return self * scalar\n",
    "\n",
    "vec = Vector([1, 2, 3])\n",
    "result1 = vec * 2\n",
    "result2 = 3 * vec\n",
    "print(result1.values)\n",
    "print(result2.values)"
   ]
  }
 ],
 "metadata": {
  "kernelspec": {
   "display_name": "py-12",
   "language": "python",
   "name": "python3"
  },
  "language_info": {
   "codemirror_mode": {
    "name": "ipython",
    "version": 3
   },
   "file_extension": ".py",
   "mimetype": "text/x-python",
   "name": "python",
   "nbconvert_exporter": "python",
   "pygments_lexer": "ipython3",
   "version": "3.12.0"
  }
 },
 "nbformat": 4,
 "nbformat_minor": 2
}
