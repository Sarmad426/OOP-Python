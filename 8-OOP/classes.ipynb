{
 "cells": [
  {
   "cell_type": "markdown",
   "metadata": {},
   "source": [
    "## Object Oriented Programming (OOP)"
   ]
  },
  {
   "cell_type": "code",
   "execution_count": 10,
   "metadata": {},
   "outputs": [
    {
     "name": "stdout",
     "output_type": "stream",
     "text": [
      "Name: Sarmad \n",
      "Email: sarmad@email.com \n",
      "Age: 19\n"
     ]
    }
   ],
   "source": [
    "\n",
    "class User:\n",
    "    def __init__(self,name:str,email:str,age:int):\n",
    "        self.name = name\n",
    "        self.email = email\n",
    "        self.age = age\n",
    "    \n",
    "    def user_details(self) -> str:\n",
    "        \"\"\"\n",
    "        Returns User Details\n",
    "        \"\"\"\n",
    "        return f\"Name: {self.name} \\nEmail: {self.email} \\nAge: {self.age}\"\n",
    "\n",
    "    def __str__(self):\n",
    "        return self.name\n",
    "\n",
    "user1 : User = User(\"Sarmad\",\"sarmad@email.com\",19)\n",
    "\n",
    "DATA = user1.user_details()\n",
    "\n",
    "print(DATA)"
   ]
  },
  {
   "cell_type": "markdown",
   "metadata": {},
   "source": [
    "### Properties (Getters and Setters)\n",
    "\n",
    "**Getter** and **Setters** in python are represented by `decorators`. Whereas decorators are just functions that alter the behavior of other functions.\n",
    "\n",
    "```py\n",
    "# Getter \n",
    "@property\n",
    "\n",
    "# Setter\n",
    "@name.setter\n",
    "```\n",
    "\n",
    "Setter is represented by just `@property` whereas a setter is represented by the name of the variable followed by a `.` and word `setter`.\n",
    "\n",
    "> Getter returns the value of the variable\n",
    "\n",
    "> Setter sets the value of the variable"
   ]
  },
  {
   "cell_type": "code",
   "execution_count": 7,
   "metadata": {},
   "outputs": [
    {
     "name": "stdout",
     "output_type": "stream",
     "text": [
      "Sarmad is from Punjab\n",
      "Kamran is from Kpk\n"
     ]
    }
   ],
   "source": [
    "class Citizen:\n",
    "    \"\"\"\n",
    "    Citizen class with name, and Province\n",
    "\n",
    "    Represents the concept of `getters` and `setters` in python class.\n",
    "    \"\"\"\n",
    "\n",
    "    def __init__(self, name: str, province: str) -> None:\n",
    "        self.name = name\n",
    "        self.province = province\n",
    "\n",
    "    @property\n",
    "    def province(self) -> str:\n",
    "        \"\"\"Getter -> Returns the province\"\"\"\n",
    "\n",
    "        return self._province\n",
    "\n",
    "    @province.setter\n",
    "    def province(self, province: str) -> None:\n",
    "        \"\"\"Setter -> Sets the province\"\"\"\n",
    "\n",
    "        if province.lower() not in [\"punjab\", \"sindh\", \"kpk\", \"balochistan\"]:\n",
    "            raise ValueError(f\"Province is not valid: {province}\")\n",
    "        self._province = province\n",
    "\n",
    "    def __str__(self):\n",
    "        return f\"{self.name} is from {self.province.capitalize()}\"\n",
    "\n",
    "\n",
    "citizen = Citizen(\"Sarmad\", \"Punjab\")\n",
    "citizen1 = Citizen(\"Kamran\",\"KPK\")\n",
    "\n",
    "print(citizen)\n",
    "print(citizen1)"
   ]
  },
  {
   "cell_type": "markdown",
   "metadata": {},
   "source": [
    "### `@classmethod` Program\n",
    "\n",
    "`@classmethod` is a decorator used to define a method within a class that operates on the class itself rather than on instances of the class. This means that the method can access and modify class-level variables, perform operations related to the class, and even create new instances of the class. The method receives the class itself as its first argument, traditionally named cls, instead of the instance."
   ]
  },
  {
   "cell_type": "code",
   "execution_count": 6,
   "metadata": {},
   "outputs": [
    {
     "data": {
      "text/plain": [
       "'Sarmad from Sindh'"
      ]
     },
     "execution_count": 6,
     "metadata": {},
     "output_type": "execute_result"
    }
   ],
   "source": [
    "import random\n",
    "\n",
    "class Citizen:\n",
    "    provinces = ['Punjab','KPK','Sindh','Balochistan']\n",
    "\n",
    "    @classmethod\n",
    "    def find_provinces(cls,name:str):\n",
    "        return f\"{name} from {random.choice(cls.provinces)}\"\n",
    "\n",
    "Citizen.find_provinces(\"Sarmad\")"
   ]
  },
  {
   "cell_type": "markdown",
   "metadata": {},
   "source": [
    "## Adding `@classmethod` to Citizen class program"
   ]
  },
  {
   "cell_type": "code",
   "execution_count": 1,
   "metadata": {},
   "outputs": [
    {
     "name": "stdout",
     "output_type": "stream",
     "text": [
      "Sarmad is from Punjab\n",
      "Kamran is from Kpk\n"
     ]
    }
   ],
   "source": [
    "\n",
    "class Citizen:\n",
    "    \"\"\"\n",
    "    Citizen class with name, and Province\n",
    "\n",
    "    Represents the concept of `getters` and `setters` in python class.\n",
    "    \"\"\"\n",
    "\n",
    "    def __init__(self, name: str, province: str) -> None:\n",
    "        self.name = name\n",
    "        self.province = province\n",
    "\n",
    "    @classmethod\n",
    "    def get_citizen(cls):\n",
    "        name = input(\"Name: \")\n",
    "        province = input(\"Province: \")\n",
    "        return cls(name,province)\n",
    "\n",
    "    @property\n",
    "    def province(self) -> str:\n",
    "        \"\"\"Getter -> Returns the province\"\"\"\n",
    "\n",
    "        return self._province\n",
    "\n",
    "    @province.setter\n",
    "    def province(self, province: str) -> None:\n",
    "        \"\"\"Setter -> Sets the province\"\"\"\n",
    "\n",
    "        if province.lower() not in [\"punjab\", \"sindh\", \"kpk\", \"balochistan\"]:\n",
    "            raise ValueError(f\"Province is not valid: {province}\")\n",
    "        self._province = province\n",
    "\n",
    "    def __str__(self):\n",
    "        return f\"{self.name} is from {self.province.capitalize()}\"\n",
    "\n",
    "\n",
    "citizen = Citizen.get_citizen()\n",
    "citizen1 = Citizen.get_citizen()\n",
    "\n",
    "print(citizen)\n",
    "print(citizen1)"
   ]
  }
 ],
 "metadata": {
  "kernelspec": {
   "display_name": "py-12",
   "language": "python",
   "name": "python3"
  },
  "language_info": {
   "codemirror_mode": {
    "name": "ipython",
    "version": 3
   },
   "file_extension": ".py",
   "mimetype": "text/x-python",
   "name": "python",
   "nbconvert_exporter": "python",
   "pygments_lexer": "ipython3",
   "version": "3.12.0"
  }
 },
 "nbformat": 4,
 "nbformat_minor": 2
}
