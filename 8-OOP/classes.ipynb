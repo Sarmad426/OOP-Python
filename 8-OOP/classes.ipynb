{
 "cells": [
  {
   "cell_type": "markdown",
   "metadata": {},
   "source": [
    "### Object Oriented Programming (OOP)"
   ]
  },
  {
   "cell_type": "code",
   "execution_count": 9,
   "metadata": {},
   "outputs": [
    {
     "name": "stdout",
     "output_type": "stream",
     "text": [
      "Name: Sarmad \n",
      "Email: sarmad@email.com \n",
      "Age: 19\n"
     ]
    }
   ],
   "source": [
    "\n",
    "class User:\n",
    "    def __init__(self,name:str,email:str,age:int):\n",
    "        self.name = name\n",
    "        self.email = email\n",
    "        self.age = age\n",
    "    \n",
    "    def user_details(self) -> str:\n",
    "        \"\"\"\n",
    "        Returns User Details\n",
    "        \"\"\"\n",
    "        return f\"Name: {self.name} \\nEmail: {self.email} \\nAge: {self.age}\"\n",
    "\n",
    "    def __str__(self):\n",
    "        return self.name\n",
    "\n",
    "user1 : User = User(\"Sarmad\",\"sarmad@email.com\",19)\n",
    "\n",
    "data = user1.user_details()\n",
    "\n",
    "print(data)"
   ]
  }
 ],
 "metadata": {
  "kernelspec": {
   "display_name": "py-12",
   "language": "python",
   "name": "python3"
  },
  "language_info": {
   "codemirror_mode": {
    "name": "ipython",
    "version": 3
   },
   "file_extension": ".py",
   "mimetype": "text/x-python",
   "name": "python",
   "nbconvert_exporter": "python",
   "pygments_lexer": "ipython3",
   "version": "3.12.0"
  }
 },
 "nbformat": 4,
 "nbformat_minor": 2
}
