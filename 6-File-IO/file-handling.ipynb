{
 "cells": [
  {
   "cell_type": "markdown",
   "metadata": {},
   "source": [
    "# Python File Handling"
   ]
  },
  {
   "cell_type": "markdown",
   "metadata": {},
   "source": [
    "### Writing the file"
   ]
  },
  {
   "cell_type": "code",
   "execution_count": 2,
   "metadata": {},
   "outputs": [],
   "source": [
    "name, name1, name2 = \"Kamran\", \"Nawaz\", \"Imran\"\n",
    "\n",
    "# Opening python file in write mode\n",
    "\n",
    "file = open(\"file.txt\", \"w\")\n",
    "\n",
    "file.write(f\"{name}\\n\")\n",
    "file.close()"
   ]
  },
  {
   "cell_type": "markdown",
   "metadata": {},
   "source": [
    "### Write mode\n",
    "\n",
    "In the last code we have used the write method to write something to the file.\n",
    "This method recreates the file and replaces the contents every time the program is executed.\n",
    "\n",
    "\n",
    "### Append method\n",
    "\n",
    "Append method adds new content after the old content.However it does not add a line break between the old and new content.Hence the old content and new content string gets concatenated."
   ]
  },
  {
   "cell_type": "code",
   "execution_count": 3,
   "metadata": {},
   "outputs": [],
   "source": [
    "file = open(\"file.txt\", \"a\")\n",
    "\n",
    "file.write(f\"{name1}\\n\")\n",
    "\n",
    "file.close()"
   ]
  },
  {
   "cell_type": "markdown",
   "metadata": {},
   "source": [
    "### with Keyword\n",
    "\n",
    "`with` keyword automatically closes the open file."
   ]
  },
  {
   "cell_type": "code",
   "execution_count": 4,
   "metadata": {},
   "outputs": [],
   "source": [
    "with open(\"file.txt\", \"a\") as file:\n",
    "    file.write(f\"{name2}\\n\")"
   ]
  },
  {
   "cell_type": "markdown",
   "metadata": {},
   "source": [
    "### Reading the file"
   ]
  },
  {
   "cell_type": "code",
   "execution_count": 26,
   "metadata": {},
   "outputs": [
    {
     "name": "stdout",
     "output_type": "stream",
     "text": [
      "Kamran\n",
      "Nawaz\n",
      "Imran\n"
     ]
    }
   ],
   "source": [
    "with open(\"file.txt\", \"r\") as file:\n",
    "    for line in file:\n",
    "        print(line.rstrip())\n",
    "\n",
    "# rstrip() function removes line space"
   ]
  },
  {
   "cell_type": "markdown",
   "metadata": {},
   "source": [
    "#### Store file data in a list and sort them"
   ]
  },
  {
   "cell_type": "code",
   "execution_count": 27,
   "metadata": {},
   "outputs": [
    {
     "name": "stdout",
     "output_type": "stream",
     "text": [
      "Imran\n",
      "Kamran\n",
      "Nawaz\n"
     ]
    }
   ],
   "source": [
    "names: list[str] = []\n",
    "\n",
    "with open(\"file.txt\") as file:\n",
    "    for line in file:\n",
    "        names.append(line.rstrip())\n",
    "\n",
    "for name in sorted(names):\n",
    "    print(name)"
   ]
  },
  {
   "cell_type": "markdown",
   "metadata": {},
   "source": [
    "### Simplified and Short version of the last code"
   ]
  },
  {
   "cell_type": "code",
   "execution_count": 30,
   "metadata": {},
   "outputs": [
    {
     "name": "stdout",
     "output_type": "stream",
     "text": [
      "Imran\n",
      "Kamran\n",
      "Nawaz\n"
     ]
    }
   ],
   "source": [
    "with open(\"file.txt\") as file:\n",
    "    for line in sorted(file):\n",
    "        print(line.rstrip())"
   ]
  },
  {
   "cell_type": "markdown",
   "metadata": {},
   "source": [
    "## To Sort data in descending order\n",
    "\n",
    "```python\n",
    "sorted(names,reverse=True)\n",
    "```"
   ]
  },
  {
   "cell_type": "markdown",
   "metadata": {},
   "source": [
    "#### Greet user by writing and reading to a file"
   ]
  },
  {
   "cell_type": "code",
   "execution_count": 16,
   "metadata": {},
   "outputs": [
    {
     "name": "stdout",
     "output_type": "stream",
     "text": [
      "Welcome, Sarmad\n"
     ]
    }
   ],
   "source": [
    "import sys\n",
    "from typing import Callable\n",
    "\n",
    "get_input_name: Callable[[], str] = lambda: str(input(\"Name: \")).strip()\n",
    "\n",
    "\n",
    "def validate_input(name: str) -> str:\n",
    "    \"\"\"\n",
    "    Validates user input name.\n",
    "\n",
    "    if input name exist, it returns the name, otherwise it exits the program with an error message\n",
    "    \"\"\"\n",
    "    if not name:\n",
    "        sys.exit(\"Name is required\")\n",
    "\n",
    "    return name\n",
    "\n",
    "\n",
    "def write_file(name: str) -> None:\n",
    "    \"\"\"\n",
    "    Writes a name into a file.\n",
    "\n",
    "    Takes one parameter `name` writes it to a file\n",
    "\n",
    "    it returns nothing\n",
    "    \"\"\"\n",
    "\n",
    "    with open(\"practice.txt\", \"w\", encoding=\"utf-8\") as file:\n",
    "        file.write(name)\n",
    "\n",
    "\n",
    "# Reading the name from the file\n",
    "\n",
    "\n",
    "def read_file() -> str:\n",
    "    \"\"\"\n",
    "    Reads the name from the file\n",
    "\n",
    "    Takes no parameters\n",
    "\n",
    "    returns the contents of the file\n",
    "    \"\"\"\n",
    "    with open(\"practice.txt\", \"r\", encoding=\"utf-8\") as file:\n",
    "        return file.read()\n",
    "\n",
    "\n",
    "def greet_user(name: str) -> None:\n",
    "    \"\"\"\n",
    "    Greets the user\n",
    "\n",
    "    Parameters (1) name of type string \\n\n",
    "    name : str\n",
    "    \"\"\"\n",
    "    print(f\"Welcome, {name}\")\n",
    "\n",
    "\n",
    "def main():\n",
    "    \"\"\"\n",
    "    Main function to execute all the functions.\\n\n",
    "    It doesn't take any parameters neither returns anything\n",
    "    \"\"\"\n",
    "    name = get_input_name()\n",
    "    validate_input(name)\n",
    "    write_file(name)\n",
    "    name = read_file()\n",
    "    greet_user(name)\n",
    "\n",
    "\n",
    "if __name__ == \"__main__\":\n",
    "    main()"
   ]
  },
  {
   "cell_type": "markdown",
   "metadata": {},
   "source": [
    "### Writing a CSV file"
   ]
  },
  {
   "cell_type": "code",
   "execution_count": 6,
   "metadata": {},
   "outputs": [],
   "source": [
    "import csv\n",
    "\n",
    "name = \"Nawaz\"\n",
    "home = \"Karachi\"\n",
    "\n",
    "with open(\"students.csv\", \"a\") as file:\n",
    "    writer = csv.DictWriter(file, fieldnames=[\"name\", \"home\"])\n",
    "    writer.writerow({\"name\": name, \"home\": home})"
   ]
  },
  {
   "cell_type": "markdown",
   "metadata": {},
   "source": [
    "### Read and Write a CSV file"
   ]
  },
  {
   "cell_type": "code",
   "execution_count": 11,
   "metadata": {},
   "outputs": [
    {
     "name": "stdout",
     "output_type": "stream",
     "text": [
      "Sarmad with email (sarmad@email.com) is 19 years old.\n",
      "Nawaz with email (nawaz@email.com) is 23 years old.\n",
      "Mubashir with email (mubashir@email.com) is 17 years old.\n"
     ]
    }
   ],
   "source": [
    "import csv\n",
    "from typing import Any, List, Tuple, Union\n",
    "\n",
    "\n",
    "type_user_data = Union[List[Tuple[str, str, int]], Any]\n",
    "\n",
    "\n",
    "def write_csv(file_path: str, user_data: type_user_data) -> None:\n",
    "    \"\"\"\n",
    "    Write User info to csv file\n",
    "\n",
    "    It takes two parameters\n",
    "        file_path : type string, refers to the csv file path\n",
    "        user_data : type dictionary, refer to the user details\n",
    "    \"\"\"\n",
    "    COLUMNS: List[str] = [\"Name\", \"Email\", \"Age\"]\n",
    "    with open(file_path, \"w\", encoding=\"utf-8\", newline=\"\") as file:\n",
    "        writer = csv.writer(file)\n",
    "        writer.writerow(COLUMNS)\n",
    "        writer.writerows(user_data)\n",
    "\n",
    "\n",
    "def read_csv(file_path: str) -> type_user_data:\n",
    "    \"\"\"\n",
    "    Reads the CSV file\n",
    "\n",
    "    It takes one argument\n",
    "    file_path: type string, refers to the csv file path\n",
    "    returns a list of tuples\n",
    "    \"\"\"\n",
    "\n",
    "    user_data: type_user_data = []\n",
    "\n",
    "    with open(file_path, \"r\", encoding=\"utf-8\") as file:\n",
    "        reader = csv.reader(file)\n",
    "        next(reader)  # Skip the header row\n",
    "        for row in reader:\n",
    "            user_data.append((row[0], row[1], int(row[2])))\n",
    "\n",
    "    return user_data\n",
    "\n",
    "\n",
    "FILE_PATH: str = \"./users.csv\"\n",
    "\n",
    "USER_DATA: type_user_data = [\n",
    "    (\"Sarmad\", \"sarmad@email.com\", 19),\n",
    "    (\"Nawaz\", \"nawaz@email.com\", 23),\n",
    "    (\"Mubashir\", \"mubashir@email.com\", 17),\n",
    "]\n",
    "\n",
    "\n",
    "write_csv(FILE_PATH, USER_DATA)\n",
    "\n",
    "data = read_csv(FILE_PATH)\n",
    "\n",
    "for name, email, age in data:\n",
    "    print(f\"{name} with email ({email}) is {age} years old.\")"
   ]
  }
 ],
 "metadata": {
  "kernelspec": {
   "display_name": "py-12",
   "language": "python",
   "name": "python3"
  },
  "language_info": {
   "codemirror_mode": {
    "name": "ipython",
    "version": 3
   },
   "file_extension": ".py",
   "mimetype": "text/x-python",
   "name": "python",
   "nbconvert_exporter": "python",
   "pygments_lexer": "ipython3",
   "version": "3.12.0"
  }
 },
 "nbformat": 4,
 "nbformat_minor": 2
}
