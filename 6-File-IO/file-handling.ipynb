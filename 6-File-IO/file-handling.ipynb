{
 "cells": [
  {
   "cell_type": "markdown",
   "metadata": {},
   "source": [
    "# Python File Handling"
   ]
  },
  {
   "cell_type": "markdown",
   "metadata": {},
   "source": [
    "### Writing the file"
   ]
  },
  {
   "cell_type": "code",
   "execution_count": 4,
   "metadata": {},
   "outputs": [],
   "source": [
    "name, name1, name2 = \"Kamran\", \"Nawaz\", \"Imran\"\n",
    "\n",
    "# Opening python file in write mode\n",
    "\n",
    "file = open(\"file.txt\", \"w\", encoding=\"utf-8\")\n",
    "\n",
    "file.write(f\"{name}\\n\")\n",
    "file.close()"
   ]
  },
  {
   "cell_type": "markdown",
   "metadata": {},
   "source": [
    "### Write mode\n",
    "\n",
    "In the last code we have used the write method to write something to the file.\n",
    "This method recreates the file and replaces the contents every time the program is executed.\n",
    "\n",
    "\n",
    "### Append method\n",
    "\n",
    "Append method adds new content after the old content. However it does not add a line break between the old and new content. Hence the old content and new content string gets concatenated."
   ]
  },
  {
   "cell_type": "code",
   "execution_count": 5,
   "metadata": {},
   "outputs": [],
   "source": [
    "file = open(\"file.txt\", \"a\", encoding=\"utf-8\")\n",
    "\n",
    "file.write(f\"{name1}\\n\")\n",
    "\n",
    "file.close()"
   ]
  },
  {
   "cell_type": "markdown",
   "metadata": {},
   "source": [
    "### with Keyword\n",
    "\n",
    "`with` keyword automatically closes the open file."
   ]
  },
  {
   "cell_type": "code",
   "execution_count": 6,
   "metadata": {},
   "outputs": [],
   "source": [
    "with open(\"file.txt\", \"a\", encoding=\"utf-8\") as file:\n",
    "    file.write(f\"{name2}\\n\")"
   ]
  },
  {
   "cell_type": "markdown",
   "metadata": {},
   "source": [
    "### Reading the file"
   ]
  },
  {
   "cell_type": "code",
   "execution_count": 8,
   "metadata": {},
   "outputs": [
    {
     "name": "stdout",
     "output_type": "stream",
     "text": [
      "Kamran\n",
      "Nawaz\n",
      "Imran\n"
     ]
    }
   ],
   "source": [
    "with open(\"file.txt\", \"r\", encoding=\"utf-8\") as file:\n",
    "    for line in file:\n",
    "        print(line.rstrip())"
   ]
  },
  {
   "cell_type": "markdown",
   "metadata": {},
   "source": [
    "#### Store file data in a list and sort them"
   ]
  },
  {
   "cell_type": "code",
   "execution_count": 27,
   "metadata": {},
   "outputs": [
    {
     "name": "stdout",
     "output_type": "stream",
     "text": [
      "Imran\n",
      "Kamran\n",
      "Nawaz\n"
     ]
    }
   ],
   "source": [
    "names: list[str] = []\n",
    "\n",
    "with open(\"file.txt\") as file:\n",
    "    for line in file:\n",
    "        names.append(line.rstrip())\n",
    "\n",
    "for name in sorted(names):\n",
    "    print(name)"
   ]
  },
  {
   "cell_type": "markdown",
   "metadata": {},
   "source": [
    "### Simplified and Short version of the last code"
   ]
  },
  {
   "cell_type": "code",
   "execution_count": 30,
   "metadata": {},
   "outputs": [
    {
     "name": "stdout",
     "output_type": "stream",
     "text": [
      "Imran\n",
      "Kamran\n",
      "Nawaz\n"
     ]
    }
   ],
   "source": [
    "with open(\"file.txt\") as file:\n",
    "    for line in sorted(file):\n",
    "        print(line.rstrip())"
   ]
  },
  {
   "cell_type": "markdown",
   "metadata": {},
   "source": [
    "**To Sort data in descending order**\n",
    "\n",
    "```python\n",
    "sorted(names,reverse=True)\n",
    "```"
   ]
  },
  {
   "cell_type": "markdown",
   "metadata": {},
   "source": [
    "### Writing a CSV file"
   ]
  },
  {
   "cell_type": "code",
   "execution_count": 2,
   "metadata": {},
   "outputs": [],
   "source": [
    "import csv\n",
    "\n",
    "(name, home) = (\"Sarmad\", \"Lahore\")\n",
    "\n",
    "# Opening file in append mode\n",
    "with open(\"students.csv\", \"a\") as file:\n",
    "    writer = csv.DictWriter(file, fieldnames=[\"name\", \"home\"])\n",
    "    writer.writerow({\"name\": name, \"home\": home})"
   ]
  },
  {
   "cell_type": "markdown",
   "metadata": {},
   "source": [
    "### Read and Write a CSV file"
   ]
  },
  {
   "cell_type": "code",
   "execution_count": 5,
   "metadata": {},
   "outputs": [
    {
     "name": "stdout",
     "output_type": "stream",
     "text": [
      "Type <class 'list'>\n",
      "Sarmad with email (sarmad@email.com) is 20 years old.\n",
      "Nawaz with email (nawaz@email.com) is 23 years old.\n",
      "Mubashir with email (mubashir@email.com) is 17 years old.\n"
     ]
    }
   ],
   "source": [
    "from typing import Any, List, Tuple, Union\n",
    "\n",
    "\n",
    "TypeUserData = Union[List[Tuple[str, str, int]], Any]\n",
    "\n",
    "\n",
    "def write_csv(file_path: str, user_data: TypeUserData) -> None:\n",
    "    \"\"\"\n",
    "    Write User info to csv file\n",
    "\n",
    "    Args:\n",
    "        file_path (string): csv file path\n",
    "        user_data (dictionary): user details\n",
    "    \"\"\"\n",
    "    COLUMNS: List[str] = [\"Name\", \"Email\", \"Age\"]\n",
    "    with open(file_path, \"w\", encoding=\"utf-8\", newline=\"\") as file:\n",
    "        writer = csv.writer(file)\n",
    "        writer.writerow(COLUMNS)\n",
    "        writer.writerows(user_data)\n",
    "\n",
    "\n",
    "def read_csv(file_path: str) -> TypeUserData:\n",
    "    \"\"\"\n",
    "    Reads the CSV file\n",
    "\n",
    "    Args:\n",
    "        file_path (string): csv file path\n",
    "\n",
    "    Returns:\n",
    "        list of tuples\n",
    "    \"\"\"\n",
    "\n",
    "    user_data: TypeUserData = []\n",
    "\n",
    "    with open(file_path, \"r\", encoding=\"utf-8\") as file:\n",
    "        reader = csv.reader(file)\n",
    "        next(reader)  # Skip the header row\n",
    "        for row in reader:\n",
    "            user_data.append((row[0], row[1], int(row[2])))\n",
    "\n",
    "    return user_data\n",
    "\n",
    "\n",
    "FILE_PATH: str = \"./users.csv\"\n",
    "\n",
    "USER_DATA: TypeUserData = [\n",
    "    (\"Sarmad\", \"sarmad@email.com\", 20),\n",
    "    (\"Nawaz\", \"nawaz@email.com\", 23),\n",
    "    (\"Mubashir\", \"mubashir@email.com\", 17),\n",
    "]\n",
    "\n",
    "\n",
    "write_csv(FILE_PATH, USER_DATA)\n",
    "\n",
    "data = read_csv(FILE_PATH)\n",
    "\n",
    "for name, email, age in data:\n",
    "    print(f\"{name} with email ({email}) is {age} years old.\")"
   ]
  }
 ],
 "metadata": {
  "kernelspec": {
   "display_name": "py-12",
   "language": "python",
   "name": "python3"
  },
  "language_info": {
   "codemirror_mode": {
    "name": "ipython",
    "version": 3
   },
   "file_extension": ".py",
   "mimetype": "text/x-python",
   "name": "python",
   "nbconvert_exporter": "python",
   "pygments_lexer": "ipython3",
   "version": "3.12.6"
  }
 },
 "nbformat": 4,
 "nbformat_minor": 2
}
