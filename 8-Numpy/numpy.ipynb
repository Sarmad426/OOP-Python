{
 "cells": [
  {
   "cell_type": "markdown",
   "metadata": {},
   "source": [
    "# Numpy\n",
    "\n",
    "**Numpy** stands for **Numerical Python**. It is extensivly used in machine learning projects. Some key concepts of numpy are\n",
    "\n",
    "1. Scalars\n",
    "2. Vectors\n",
    "3. Matrices\n",
    "4. Tensors"
   ]
  },
  {
   "cell_type": "code",
   "execution_count": 2,
   "metadata": {},
   "outputs": [],
   "source": [
    "import numpy as np\n",
    "from nptyping import NDArray, Shape, Int64, Bool\n",
    "from typing import Any"
   ]
  },
  {
   "cell_type": "code",
   "execution_count": 3,
   "metadata": {
    "scrolled": true
   },
   "outputs": [
    {
     "data": {
      "text/plain": [
       "array(100)"
      ]
     },
     "metadata": {},
     "output_type": "display_data"
    },
    {
     "data": {
      "text/plain": [
       "'Shape of the array ()'"
      ]
     },
     "metadata": {},
     "output_type": "display_data"
    },
    {
     "data": {
      "text/plain": [
       "'Size of the array 1'"
      ]
     },
     "metadata": {},
     "output_type": "display_data"
    },
    {
     "data": {
      "text/plain": [
       "'Number of Dimensions 0'"
      ]
     },
     "metadata": {},
     "output_type": "display_data"
    },
    {
     "data": {
      "text/plain": [
       "'Data type of the array int32'"
      ]
     },
     "metadata": {},
     "output_type": "display_data"
    },
    {
     "data": {
      "text/plain": [
       "'No. of items in the array 4'"
      ]
     },
     "metadata": {},
     "output_type": "display_data"
    }
   ],
   "source": [
    "arr: np.ndarray = np.array(100)\n",
    "\n",
    "display(arr)\n",
    "display(f\"Shape of the array {arr.shape}\")\n",
    "display(f\"Size of the array {arr.size}\")\n",
    "display(f\"Number of Dimensions {arr.ndim}\")\n",
    "display(f\"Data type of the array {arr.dtype}\")\n",
    "display(f\"No. of items in the array {arr.itemsize}\")"
   ]
  },
  {
   "cell_type": "markdown",
   "metadata": {},
   "source": [
    "## Vectors"
   ]
  },
  {
   "cell_type": "code",
   "execution_count": 5,
   "metadata": {
    "scrolled": true
   },
   "outputs": [
    {
     "name": "stdout",
     "output_type": "stream",
     "text": [
      "arr2: [ 6  7  8  9 10 17 13 11]\n",
      "arr3: [ 0.84147098  0.90929743  0.14112001 -0.7568025  -0.95892427 -0.53657292\n",
      "  0.98935825 -0.2794155 ]\n",
      "Shape of vector: (8,)\n",
      "arr4: [ 1  2  3  4  5 12  8  6  6  7  8  9 10 17 13 11]\n",
      "5.125\n",
      "12\n"
     ]
    }
   ],
   "source": [
    "# Vector\n",
    "arr: np.ndarray = np.array([1, 2, 3, 4, 5, 12, 8, 6])\n",
    "\n",
    "# Perform mathematical operations on arrays\n",
    "arr2: np.ndarray = arr + 5  # Add 5 to each element of the array 'arr'\n",
    "arr3: np.ndarray = np.sin(arr)  # Calculate the sine of each element of the array 'arr'\n",
    "\n",
    "print(f\"arr2: {arr2}\")\n",
    "print(f\"arr3: {arr3}\")\n",
    "\n",
    "print(f\"Shape of vector: {arr.shape}\")\n",
    "\n",
    "# Perform array operations\n",
    "arr4: np.ndarray = np.concatenate(\n",
    "    (arr, arr2)\n",
    ")  # Concatenate 'arr' and 'arr2' to create a new array\n",
    "\n",
    "print(f\"arr4: {arr4}\")\n",
    "# Perform array computations\n",
    "mean = print(np.mean(arr))  # Calculate the mean (average) of the elements in 'arr'\n",
    "max_value = print(np.max(arr))  # Find the maximum value in 'arr'"
   ]
  },
  {
   "cell_type": "code",
   "execution_count": 7,
   "metadata": {},
   "outputs": [
    {
     "name": "stdout",
     "output_type": "stream",
     "text": [
      "[0. 0. 0. 0. 0.]\n",
      "[1. 1. 1. 1. 1.]\n"
     ]
    }
   ],
   "source": [
    "zero_vector = np.zeros(5)\n",
    "ones_vector = np.ones(5)\n",
    "\n",
    "print(zero_vector)\n",
    "print(ones_vector)"
   ]
  },
  {
   "cell_type": "markdown",
   "metadata": {},
   "source": [
    "\n",
    "### Explanation\n",
    "\n",
    "In the first code snippet, we import the NumPy library as `np` and create a NumPy array called `arr` with the elements `[1, 2, 3, 4, 5]`. We then perform several operations on this array:\n",
    "\n",
    "1. `arr2` is created by adding 5 to each element of `arr`.\n",
    "2. `arr3` is created by calculating the sine of each element in `arr`.\n",
    "3. `arr4` is created by concatenating `arr` and `arr2`.\n",
    "\n",
    "Additionally, we perform some array computations:\n",
    "\n",
    "- We calculate the mean (average) of the elements in `arr` and store it in the variable `mean`.\n",
    "- We find the maximum value in `arr` and store it in the variable `max_value`.\n",
    "\n"
   ]
  },
  {
   "cell_type": "markdown",
   "metadata": {},
   "source": [
    "### Explanation\n",
    "\n",
    "In the second code snippet, we import the NumPy library and create a NumPy array called `arr` with the elements `[1, 2, 3, 4, 5]`. This time, we use static typing to specify the type of `arr` as `np.ndarray`.\n",
    "\n",
    "We then display various properties of the array using the `display` function:\n",
    "\n",
    "- `arr` is printed, showing the array itself.\n",
    "- `arr.shape` is printed, displaying the shape of the array.\n",
    "- `arr.dtype` is printed, showing the data type of the array.\n",
    "- `arr.ndim` is printed, indicating the number of dimensions of the array.\n",
    "- `arr.size` is printed, revealing the number of elements in the array.\n",
    "- `arr.itemsize` is printed, indicating the item size of the array.\n",
    "\n",
    "Static typing is applied to the `arr` variable by specifying its type as `np.ndarray` to improve code clarity and maintainability.\n"
   ]
  },
  {
   "cell_type": "code",
   "execution_count": 6,
   "metadata": {},
   "outputs": [
    {
     "name": "stdout",
     "output_type": "stream",
     "text": [
      "<class 'numpy.ndarray'>\n"
     ]
    }
   ],
   "source": [
    "array: np.ndarray = np.ndarray\n",
    "\n",
    "print(array)"
   ]
  },
  {
   "cell_type": "markdown",
   "metadata": {},
   "source": [
    "## Vector Matrix"
   ]
  },
  {
   "cell_type": "code",
   "execution_count": 6,
   "metadata": {},
   "outputs": [
    {
     "data": {
      "text/plain": [
       "'Object  [[1 2 3]\\n [4 5 6]\\n [7 8 9]]'"
      ]
     },
     "metadata": {},
     "output_type": "display_data"
    },
    {
     "data": {
      "text/plain": [
       "'Shape of the object:  (3, 3)'"
      ]
     },
     "metadata": {},
     "output_type": "display_data"
    },
    {
     "data": {
      "text/plain": [
       "'Size of the array 9'"
      ]
     },
     "metadata": {},
     "output_type": "display_data"
    },
    {
     "data": {
      "text/plain": [
       "'Size of the array 4'"
      ]
     },
     "metadata": {},
     "output_type": "display_data"
    },
    {
     "data": {
      "text/plain": [
       "'Number of dimensions 2'"
      ]
     },
     "metadata": {},
     "output_type": "display_data"
    }
   ],
   "source": [
    "array: np.ndarray = np.array([[1, 2, 3], [4, 5, 6], [7, 8, 9]])\n",
    "\n",
    "display(f\"Object  {array}\")\n",
    "display(f\"Shape of the object:  {array.shape}\")\n",
    "display(f\"Size of the array {array.size}\")\n",
    "display(f\"Size of the array {array.itemsize}\")\n",
    "display(f\"Number of dimensions {array.ndim}\")"
   ]
  },
  {
   "cell_type": "markdown",
   "metadata": {},
   "source": [
    "## Numpy with NDarray typing Support"
   ]
  },
  {
   "cell_type": "code",
   "execution_count": 7,
   "metadata": {},
   "outputs": [
    {
     "data": {
      "text/plain": [
       "array([ 1,  2,  3,  4,  5,  6,  7,  8,  9, 10])"
      ]
     },
     "metadata": {},
     "output_type": "display_data"
    },
    {
     "name": "stdout",
     "output_type": "stream",
     "text": [
      "CPU times: total: 0 ns\n",
      "Wall time: 0 ns\n"
     ]
    },
    {
     "data": {
      "text/plain": [
       "array([ 6,  7,  8,  9, 10, 11, 12, 13, 14, 15])"
      ]
     },
     "execution_count": 7,
     "metadata": {},
     "output_type": "execute_result"
    }
   ],
   "source": [
    "%%time\n",
    "# To check the time status of program execution.\n",
    "\n",
    "from nptyping import NDArray, Shape, UInt64\n",
    "\n",
    "data: NDArray[Shape[\"10\"], UInt64] = np.arange(1, 11)\n",
    "\n",
    "display(data)\n",
    "data + 5  # Adding 5 to each element of the array"
   ]
  },
  {
   "cell_type": "code",
   "execution_count": 8,
   "metadata": {},
   "outputs": [
    {
     "data": {
      "text/plain": [
       "[6, 7, 8, 9, 10, 11, 12, 13, 14, 15]"
      ]
     },
     "execution_count": 8,
     "metadata": {},
     "output_type": "execute_result"
    }
   ],
   "source": [
    "# Doing the same thing with python list using list comprehension\n",
    "list1: list[int] = [1, 2, 3, 4, 5, 6, 7, 8, 9, 10]\n",
    "[i + 5 for i in list1]\n",
    "\n",
    "# Numpy makes it easy like you are performing an operation between two operands."
   ]
  },
  {
   "cell_type": "markdown",
   "metadata": {},
   "source": [
    "## numpy advanced operations vs list operations"
   ]
  },
  {
   "cell_type": "code",
   "execution_count": 26,
   "metadata": {},
   "outputs": [
    {
     "name": "stdout",
     "output_type": "stream",
     "text": [
      "[ 1  2  3  4  5  6  7  8  9 10 11 12 13 14 15 16 17 18 19 20]\n",
      "[ 6  7  8  9 10 11]\n",
      "[  1   2   3   4   5 100 100 100   9  10  11  12  13  14  15  16  17  18\n",
      "  19  20]\n"
     ]
    }
   ],
   "source": [
    "array: NDArray[Shape[\"20\"], Any] = np.arange(1, 21)\n",
    "\n",
    "print(array)\n",
    "print(array[5:11])\n",
    "array[5:8] = 100\n",
    "print(array)"
   ]
  },
  {
   "cell_type": "markdown",
   "metadata": {},
   "source": [
    "## Boolean Search numpy"
   ]
  },
  {
   "cell_type": "code",
   "execution_count": 10,
   "metadata": {},
   "outputs": [
    {
     "data": {
      "text/plain": [
       "array([False, False,  True,  True])"
      ]
     },
     "execution_count": 10,
     "metadata": {},
     "output_type": "execute_result"
    }
   ],
   "source": [
    "state_bank: NDArray[Shape[\"10\"], UInt64] = np.array([1, 7, 8, 10])\n",
    "\n",
    "state_bank % 2 == 0"
   ]
  },
  {
   "cell_type": "code",
   "execution_count": 11,
   "metadata": {},
   "outputs": [
    {
     "data": {
      "text/plain": [
       "array([ 8, 10])"
      ]
     },
     "execution_count": 11,
     "metadata": {},
     "output_type": "execute_result"
    }
   ],
   "source": [
    "state_bank[state_bank % 2 == 0]"
   ]
  },
  {
   "cell_type": "markdown",
   "metadata": {},
   "source": [
    "## Numpy 1D functions"
   ]
  },
  {
   "cell_type": "code",
   "execution_count": 12,
   "metadata": {},
   "outputs": [
    {
     "data": {
      "text/plain": [
       "array([1, 7])"
      ]
     },
     "execution_count": 12,
     "metadata": {},
     "output_type": "execute_result"
    }
   ],
   "source": [
    "from nptyping import Bool\n",
    "\n",
    "\n",
    "state_bank: NDArray[Shape[\"10\"], UInt64] = np.array([1, 2, 5, 7, 10])\n",
    "\n",
    "select: NDArray[Shape[\"10\"], Bool] = np.array([True, False, False, True, False])\n",
    "\n",
    "state_bank[select]"
   ]
  },
  {
   "cell_type": "code",
   "execution_count": 13,
   "metadata": {},
   "outputs": [
    {
     "data": {
      "text/plain": [
       "array([ 2,  4,  8, 12, 16])"
      ]
     },
     "execution_count": 13,
     "metadata": {},
     "output_type": "execute_result"
    }
   ],
   "source": [
    "state_bank: NDArray[Shape[\"10\"], UInt64] = np.array([1, 2, 3, 4, 8, 12, 7, 16])\n",
    "\n",
    "state_bank[state_bank % 2 == 0]"
   ]
  },
  {
   "cell_type": "markdown",
   "metadata": {},
   "source": [
    "## Random number Numpy"
   ]
  },
  {
   "cell_type": "code",
   "execution_count": 14,
   "metadata": {},
   "outputs": [
    {
     "data": {
      "text/plain": [
       "array([12, 28, 46, 77, 53])"
      ]
     },
     "metadata": {},
     "output_type": "display_data"
    },
    {
     "data": {
      "text/plain": [
       "array([84, 92, 80, 74, 12, 81, 79, 55,  9, 32,  1, 13, 44, 14, 77, 96,  9,\n",
       "       35, 83, 27])"
      ]
     },
     "metadata": {},
     "output_type": "display_data"
    }
   ],
   "source": [
    "state_bank: NDArray[Shape[\"10\"], UInt64] = np.array([12, 28, 46, 77, 53])\n",
    "\n",
    "ubl_bank: NDArray[Shape[\"10\"], UInt64] = np.random.randint(1, 100, 20)\n",
    "\n",
    "display(state_bank)\n",
    "display(ubl_bank)\n",
    "\n",
    "# random.randint(1,100,20) is a random value generator function.\n",
    "# It takes three parameters\n",
    "# - 1st parameter is the starting point\n",
    "# - 2nd parameter is the end point\n",
    "# - 3rd parameter is the number of random values"
   ]
  },
  {
   "cell_type": "code",
   "execution_count": 15,
   "metadata": {
    "scrolled": true
   },
   "outputs": [
    {
     "data": {
      "text/plain": [
       "array([12, 28, 46, 77, 53])"
      ]
     },
     "metadata": {},
     "output_type": "display_data"
    },
    {
     "data": {
      "text/plain": [
       "array([84, 92, 80, 74, 12, 81, 79, 55,  9, 32,  1, 13, 44, 14, 77, 96,  9,\n",
       "       35, 83, 27])"
      ]
     },
     "metadata": {},
     "output_type": "display_data"
    },
    {
     "data": {
      "text/plain": [
       "array([ True, False, False,  True, False])"
      ]
     },
     "execution_count": 15,
     "metadata": {},
     "output_type": "execute_result"
    }
   ],
   "source": [
    "display(state_bank)\n",
    "display(ubl_bank)\n",
    "\n",
    "#        5 items       search 20 items\n",
    "np.in1d(state_bank, ubl_bank)"
   ]
  },
  {
   "cell_type": "markdown",
   "metadata": {},
   "source": [
    "#### Code Explanation\n",
    "Test whether each element of a 1-D array is also present in a second array.\n",
    "\n",
    "Returns a boolean array the same length as ar1 that is True where an element of ar1 is in ar2 and False otherwise."
   ]
  },
  {
   "cell_type": "code",
   "execution_count": 16,
   "metadata": {
    "scrolled": true
   },
   "outputs": [
    {
     "data": {
      "text/plain": [
       "array([12, 77])"
      ]
     },
     "execution_count": 16,
     "metadata": {},
     "output_type": "execute_result"
    }
   ],
   "source": [
    "np.intersect1d(state_bank, ubl_bank)\n",
    "\n",
    "# Find the intersection of two arrays.\n",
    "\n",
    "# Return the sorted, unique values that are in both of the input arrays."
   ]
  },
  {
   "cell_type": "code",
   "execution_count": 17,
   "metadata": {},
   "outputs": [
    {
     "data": {
      "text/plain": [
       "array([  1,   3,   4,   5, 120])"
      ]
     },
     "metadata": {},
     "output_type": "display_data"
    },
    {
     "data": {
      "text/plain": [
       "array([  6,   3,   2,   5, 100])"
      ]
     },
     "metadata": {},
     "output_type": "display_data"
    },
    {
     "data": {
      "text/plain": [
       "array([  6,   3,   4,   5, 120])"
      ]
     },
     "execution_count": 17,
     "metadata": {},
     "output_type": "execute_result"
    }
   ],
   "source": [
    "arr1: NDArray[Shape[\"5\"], UInt64] = np.array([1, 3, 4, 5, 120])\n",
    "arr2: NDArray[Shape[\"5\"], UInt64] = np.array([6, 3, 2, 5, 100])\n",
    "\n",
    "display(arr1)\n",
    "display(arr2)\n",
    "np.where(arr1 > arr2, arr1, arr2)"
   ]
  },
  {
   "cell_type": "markdown",
   "metadata": {},
   "source": [
    "#### Code Explanation\n",
    "\n",
    "`np.where` compares the values of `arr1` and `arr2` and selects the maximum values element-wise."
   ]
  },
  {
   "cell_type": "markdown",
   "metadata": {},
   "source": [
    "## Create Numpy 2D arrays"
   ]
  },
  {
   "cell_type": "code",
   "execution_count": 18,
   "metadata": {},
   "outputs": [
    {
     "name": "stdout",
     "output_type": "stream",
     "text": [
      "[[1 2 3]\n",
      " [4 5 6]]\n",
      "[[1 2]\n",
      " [4 5]]\n",
      "[['A']\n",
      " ['B']]\n"
     ]
    }
   ],
   "source": [
    "from typing import Any\n",
    "\n",
    "a: NDArray[Shape[\"Size, Size\"], Any] = np.array([[1, 2, 3], [4, 5, 6]])\n",
    "print(a)\n",
    "\n",
    "a: NDArray[Shape[\"Size, Size\"], Any] = np.array([[1, 2], [4, 5]])\n",
    "print(a)\n",
    "\n",
    "a: NDArray[Shape[\"Size, Size\"], Any] = np.array([[\"A\"], [\"B\"]])\n",
    "print(a)"
   ]
  },
  {
   "cell_type": "markdown",
   "metadata": {},
   "source": [
    "### Explanation\n",
    "\n",
    "`NDArray[Shape[\"Size, Size\"], Any]`\n",
    "\n",
    "`[\"Size\", \"Size]` means that it can have any type of size. We are not explicitly describing this.\n",
    "\n",
    "**Alternatively**\n",
    "\n",
    "We could have `NDArray[Shape[\"*\", \"*\"], Any]`\n",
    "\n",
    "we can use a `*` to tell that it has any size."
   ]
  },
  {
   "cell_type": "code",
   "execution_count": 19,
   "metadata": {},
   "outputs": [
    {
     "name": "stdout",
     "output_type": "stream",
     "text": [
      "[[1 2 3]\n",
      " [4 5 6]]\n",
      "[[1 2]\n",
      " [4 5]]\n",
      "[['A']\n",
      " ['B']]\n"
     ]
    }
   ],
   "source": [
    "a: NDArray[Shape[\"*, *\"], Any] = np.array([[1, 2, 3], [4, 5, 6]])\n",
    "print(a)\n",
    "\n",
    "a: NDArray[Shape[\"*, *\"], Any] = np.array([[1, 2], [4, 5]])\n",
    "print(a)\n",
    "\n",
    "a: NDArray[Shape[\"*, *\"], Any] = np.array([[\"A\"], [\"B\"]])\n",
    "print(a)"
   ]
  },
  {
   "cell_type": "code",
   "execution_count": 20,
   "metadata": {},
   "outputs": [
    {
     "name": "stdout",
     "output_type": "stream",
     "text": [
      "Name            Shape            Bytes            Type\n",
      "===========================================================\n",
      "\n",
      "_               5                20               int32\n",
      "__              2                8                int32\n",
      "___             5                5                bool\n",
      "arr             8                32               int32\n",
      "arr2            5                20               int32\n",
      "arr3            8                64               float64\n",
      "arr4            16               64               int32\n",
      "array           20               80               int32\n",
      "data            10               40               int32\n",
      "_7              10               40               int32\n",
      "state_bank      5                20               int32\n",
      "_10             4                4                bool\n",
      "_11             2                8                int32\n",
      "select          5                5                bool\n",
      "_12             2                8                int32\n",
      "_13             5                20               int32\n",
      "ubl_bank        20               80               int32\n",
      "_15 (___)       5                5                bool\n",
      "_16 (__)        2                8                int32\n",
      "arr1            5                20               int32\n",
      "_17 (_)         5                20               int32\n",
      "a               2 x 1            8                str32\n",
      "\n",
      "Upper bound on total bytes  =       546\n"
     ]
    }
   ],
   "source": [
    "np.who()"
   ]
  },
  {
   "cell_type": "markdown",
   "metadata": {},
   "source": [
    "## np.who()\n",
    "\n",
    "Print the NumPy arrays in the given dictionary.\n",
    "\n",
    "If there is no dictionary passed in or vardict is None then returns NumPy arrays in the globals() dictionary (all NumPy arrays in the namespace)."
   ]
  },
  {
   "cell_type": "markdown",
   "metadata": {},
   "source": [
    "## Any Dimensional array"
   ]
  },
  {
   "cell_type": "code",
   "execution_count": 21,
   "metadata": {},
   "outputs": [
    {
     "name": "stdout",
     "output_type": "stream",
     "text": [
      "[1 2 3 4]\n",
      "[1 2 3 4 5 6 7 8 9]\n"
     ]
    }
   ],
   "source": [
    "a: NDArray[Shape[\"Size\"], Any] = np.arange(1, 5)\n",
    "print(a)\n",
    "a: NDArray[Shape[\"Size\"], Any] = np.arange(1, 10)\n",
    "print(a)"
   ]
  },
  {
   "cell_type": "code",
   "execution_count": 22,
   "metadata": {},
   "outputs": [
    {
     "name": "stdout",
     "output_type": "stream",
     "text": [
      "[[0 1 2]\n",
      " [3 4 5]\n",
      " [6 7 8]]\n",
      "[[ 0  1  2]\n",
      " [ 3  4  5]\n",
      " [ 6  7  8]\n",
      " [ 9 10 11]\n",
      " [12 13 14]]\n"
     ]
    }
   ],
   "source": [
    "a: NDArray[Shape[\"Size, Size\"], Any] = np.arange(3 * 3).reshape(3, 3)\n",
    "print(a)\n",
    "a: NDArray[Shape[\"Size, Size\"], Any] = np.arange(5 * 3).reshape(5, 3)\n",
    "print(a)"
   ]
  },
  {
   "cell_type": "code",
   "execution_count": 23,
   "metadata": {},
   "outputs": [
    {
     "name": "stdout",
     "output_type": "stream",
     "text": [
      "[[[ 0  1  2]\n",
      "  [ 3  4  5]\n",
      "  [ 6  7  8]]\n",
      "\n",
      " [[ 9 10 11]\n",
      "  [12 13 14]\n",
      "  [15 16 17]]]\n",
      "=======\n"
     ]
    },
    {
     "data": {
      "text/plain": [
       "array([[[ 0,  1],\n",
       "        [ 2,  3]],\n",
       "\n",
       "       [[ 4,  5],\n",
       "        [ 6,  7]],\n",
       "\n",
       "       [[ 8,  9],\n",
       "        [10, 11]],\n",
       "\n",
       "       [[12, 13],\n",
       "        [14, 15]],\n",
       "\n",
       "       [[16, 17],\n",
       "        [18, 19]]])"
      ]
     },
     "execution_count": 23,
     "metadata": {},
     "output_type": "execute_result"
    }
   ],
   "source": [
    "a: NDArray[Shape[\"Size, Size, Size\"], Any] = np.arange(2 * 3 * 3).reshape(2, 3, 3)\n",
    "print(a)\n",
    "print(\"=======\")\n",
    "a: NDArray[Shape[\"Size, Size, Size\"], Any] = np.arange(5 * 2 * 2).reshape(5, 2, 2)\n",
    "a"
   ]
  },
  {
   "cell_type": "code",
   "execution_count": 28,
   "metadata": {},
   "outputs": [
    {
     "data": {
      "text/plain": [
       "array([ 0,  2,  4,  6,  8, 10, 12, 14, 16, 18])"
      ]
     },
     "execution_count": 28,
     "metadata": {},
     "output_type": "execute_result"
    }
   ],
   "source": [
    "a: NDArray[Shape[\"Size, Size, Size\"], Any] = np.arange(5 * 2 * 2).reshape(5, 2, 2)\n",
    "a[a % 2 == 0]"
   ]
  },
  {
   "cell_type": "code",
   "execution_count": 25,
   "metadata": {},
   "outputs": [
    {
     "data": {
      "text/plain": [
       "array([1, 4, 5, 6, 3])"
      ]
     },
     "execution_count": 25,
     "metadata": {},
     "output_type": "execute_result"
    }
   ],
   "source": [
    "np.asarray([1, 4, 5, 6, 3])"
   ]
  },
  {
   "cell_type": "code",
   "execution_count": 26,
   "metadata": {},
   "outputs": [
    {
     "data": {
      "text/plain": [
       "array([0., 0., 0., 0., 0., 0., 0., 0., 0., 0.])"
      ]
     },
     "execution_count": 26,
     "metadata": {},
     "output_type": "execute_result"
    }
   ],
   "source": [
    "np.zeros(10)"
   ]
  },
  {
   "cell_type": "code",
   "execution_count": 27,
   "metadata": {},
   "outputs": [
    {
     "data": {
      "text/plain": [
       "array([[0., 0., 0.],\n",
       "       [0., 0., 0.]])"
      ]
     },
     "execution_count": 27,
     "metadata": {},
     "output_type": "execute_result"
    }
   ],
   "source": [
    "np.zeros([2, 3])"
   ]
  },
  {
   "cell_type": "code",
   "execution_count": 28,
   "metadata": {},
   "outputs": [
    {
     "data": {
      "text/plain": [
       "array([[1., 1.],\n",
       "       [1., 1.],\n",
       "       [1., 1.]])"
      ]
     },
     "execution_count": 28,
     "metadata": {},
     "output_type": "execute_result"
    }
   ],
   "source": [
    "np.ones([3, 2])"
   ]
  },
  {
   "cell_type": "code",
   "execution_count": 29,
   "metadata": {},
   "outputs": [
    {
     "data": {
      "text/plain": [
       "array([[[1, 1],\n",
       "        [1, 1]],\n",
       "\n",
       "       [[1, 1],\n",
       "        [1, 1]],\n",
       "\n",
       "       [[1, 1],\n",
       "        [1, 1]],\n",
       "\n",
       "       [[1, 1],\n",
       "        [1, 1]],\n",
       "\n",
       "       [[1, 1],\n",
       "        [1, 1]]])"
      ]
     },
     "execution_count": 29,
     "metadata": {},
     "output_type": "execute_result"
    }
   ],
   "source": [
    "np.ones_like(a)\n",
    "# Return an array of ones with the same shape and type as a given array."
   ]
  },
  {
   "cell_type": "code",
   "execution_count": 30,
   "metadata": {},
   "outputs": [
    {
     "name": "stdout",
     "output_type": "stream",
     "text": [
      "[ 1  2  3  4  5  6  7  8  9 10 11 12 13 14 15 16 17 18 19 20]\n",
      "Minimum value: 1\n",
      "Maximum value: 20\n",
      "Arg Max: 19\n",
      "Arg Min: 0\n",
      "Mean value: 10.5\n",
      "Standard value: 5.766281297335398\n",
      "Sum of list: 210\n",
      "Cumsum [  1   3   6  10  15  21  28  36  45  55  66  78  91 105 120 136 153 171\n",
      " 190 210]\n",
      "[ 1  2  3  4  5  6  7  8  9 10 11 12 13 14 15 16 17 18 19 20]\n"
     ]
    }
   ],
   "source": [
    "ndata: NDArray[Shape[\"20\"], Any] = np.arange(1, 21)\n",
    "\n",
    "print(ndata)\n",
    "print(f\"Minimum value: {ndata.min()}\")\n",
    "print(f\"Maximum value: {ndata.max()}\")\n",
    "print(f\"Arg Max: {ndata.argmax()}\")\n",
    "print(f\"Arg Min: {ndata.argmin()}\")\n",
    "print(f\"Mean value: {ndata.mean()}\")\n",
    "print(f\"Standard value: {ndata.std()}\")\n",
    "print(f\"Sum of list: {ndata.sum()}\")\n",
    "print(f\"Cumsum {ndata.cumsum()}\")\n",
    "print(ndata)"
   ]
  },
  {
   "cell_type": "markdown",
   "metadata": {},
   "source": [
    "# Tensors"
   ]
  },
  {
   "cell_type": "code",
   "execution_count": 10,
   "metadata": {},
   "outputs": [
    {
     "name": "stdout",
     "output_type": "stream",
     "text": [
      "[[[[ 1]\n",
      "   [ 2]]\n",
      "\n",
      "  [[ 3]\n",
      "   [ 4]]\n",
      "\n",
      "  [[ 5]\n",
      "   [ 6]]]\n",
      "\n",
      "\n",
      " [[[ 7]\n",
      "   [ 8]]\n",
      "\n",
      "  [[ 9]\n",
      "   [10]]\n",
      "\n",
      "  [[11]\n",
      "   [12]]]\n",
      "\n",
      "\n",
      " [[[13]\n",
      "   [14]]\n",
      "\n",
      "  [[15]\n",
      "   [16]]\n",
      "\n",
      "  [[17]\n",
      "   [18]]]]\n"
     ]
    }
   ],
   "source": [
    "tensor = np.array(\n",
    "    [\n",
    "        [[[1], [2]], [[3], [4]], [[5], [6]]],\n",
    "        [[[7], [8]], [[9], [10]], [[11], [12]]],\n",
    "        [[[13], [14]], [[15], [16]], [[17], [18]]],\n",
    "    ]\n",
    ")\n",
    "\n",
    "print(tensor)"
   ]
  },
  {
   "cell_type": "code",
   "execution_count": 11,
   "metadata": {},
   "outputs": [
    {
     "name": "stdout",
     "output_type": "stream",
     "text": [
      "(3, 3, 2, 1)\n"
     ]
    }
   ],
   "source": [
    "print(tensor.shape)"
   ]
  },
  {
   "cell_type": "code",
   "execution_count": 12,
   "metadata": {},
   "outputs": [
    {
     "name": "stdout",
     "output_type": "stream",
     "text": [
      "16\n"
     ]
    }
   ],
   "source": [
    "print(tensor[2][1][1][0])"
   ]
  },
  {
   "cell_type": "code",
   "execution_count": 15,
   "metadata": {},
   "outputs": [
    {
     "name": "stdout",
     "output_type": "stream",
     "text": [
      "(3, 2, 1)\n"
     ]
    }
   ],
   "source": [
    "tensor1 = np.array([[[1], [2]], [[3], [4]], [[5], [6]]])\n",
    "\n",
    "print(tensor1.shape)"
   ]
  },
  {
   "cell_type": "markdown",
   "metadata": {},
   "source": [
    "## Changing Shapes"
   ]
  },
  {
   "cell_type": "code",
   "execution_count": 17,
   "metadata": {},
   "outputs": [
    {
     "name": "stdout",
     "output_type": "stream",
     "text": [
      "(4,)\n"
     ]
    }
   ],
   "source": [
    "arr = np.array([1, 2, 3, 4])\n",
    "\n",
    "print(arr.shape)"
   ]
  },
  {
   "cell_type": "code",
   "execution_count": 24,
   "metadata": {},
   "outputs": [
    {
     "name": "stdout",
     "output_type": "stream",
     "text": [
      "[[1 2]\n",
      " [3 4]]\n"
     ]
    }
   ],
   "source": [
    "arr = arr.reshape(2, 2)\n",
    "\n",
    "print(arr)"
   ]
  },
  {
   "cell_type": "code",
   "execution_count": 25,
   "metadata": {},
   "outputs": [
    {
     "name": "stdout",
     "output_type": "stream",
     "text": [
      "[[1]\n",
      " [2]\n",
      " [3]\n",
      " [4]]\n"
     ]
    }
   ],
   "source": [
    "arr = arr.reshape(4, 1)\n",
    "\n",
    "print(arr)"
   ]
  }
 ],
 "metadata": {
  "kernelspec": {
   "display_name": "Python 3 (ipykernel)",
   "language": "python",
   "name": "python3"
  },
  "language_info": {
   "codemirror_mode": {
    "name": "ipython",
    "version": 3
   },
   "file_extension": ".py",
   "mimetype": "text/x-python",
   "name": "python",
   "nbconvert_exporter": "python",
   "pygments_lexer": "ipython3",
   "version": "3.12.4"
  }
 },
 "nbformat": 4,
 "nbformat_minor": 4
}
