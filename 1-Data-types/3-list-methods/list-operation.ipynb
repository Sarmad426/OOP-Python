{
 "cells": [
  {
   "cell_type": "markdown",
   "metadata": {},
   "source": [
    "### Python List Operations"
   ]
  },
  {
   "cell_type": "code",
   "execution_count": 122,
   "metadata": {},
   "outputs": [
    {
     "name": "stdout",
     "output_type": "stream",
     "text": [
      "[13, 3, 4, 7, 18, 14, 7, 10, 20, 6]\n"
     ]
    }
   ],
   "source": [
    "# List of random numbers upto 20\n",
    "import random\n",
    "\n",
    "# Create a list of random numbers\n",
    "random_numbers: list[int] = [random.randint(1, 20) for _ in range(10)]\n",
    "\n",
    "print(random_numbers)"
   ]
  },
  {
   "cell_type": "code",
   "execution_count": 123,
   "metadata": {},
   "outputs": [
    {
     "data": {
      "text/plain": [
       "[7, 18, 14]"
      ]
     },
     "execution_count": 123,
     "metadata": {},
     "output_type": "execute_result"
    }
   ],
   "source": [
    "random_numbers[3:6]"
   ]
  },
  {
   "cell_type": "markdown",
   "metadata": {},
   "source": [
    "### Add an Element in list"
   ]
  },
  {
   "cell_type": "code",
   "execution_count": 124,
   "metadata": {},
   "outputs": [
    {
     "data": {
      "text/plain": [
       "[13, 3, 4, 7, 18, 14, 7, 10, 20, 6, 9]"
      ]
     },
     "execution_count": 124,
     "metadata": {},
     "output_type": "execute_result"
    }
   ],
   "source": [
    "# append() is used to insert an item at the end of array\n",
    "random_numbers.append(9)\n",
    "\n",
    "random_numbers"
   ]
  },
  {
   "cell_type": "markdown",
   "metadata": {},
   "source": [
    "### Remove all items from list"
   ]
  },
  {
   "cell_type": "code",
   "execution_count": 125,
   "metadata": {},
   "outputs": [
    {
     "data": {
      "text/plain": [
       "[]"
      ]
     },
     "execution_count": 125,
     "metadata": {},
     "output_type": "execute_result"
    }
   ],
   "source": [
    "nums: list[int] = [random.randint(1, 7) for i in range(4)]\n",
    "\n",
    "nums\n",
    "\n",
    "nums.clear()\n",
    "\n",
    "nums"
   ]
  },
  {
   "cell_type": "markdown",
   "metadata": {},
   "source": [
    "### Create a Copy of List"
   ]
  },
  {
   "cell_type": "code",
   "execution_count": 126,
   "metadata": {},
   "outputs": [
    {
     "data": {
      "text/plain": [
       "[13, 3, 4, 7, 18, 14, 7, 10, 20, 6, 9]"
      ]
     },
     "execution_count": 126,
     "metadata": {},
     "output_type": "execute_result"
    }
   ],
   "source": [
    "# copy() creates a shallow copy of the list\n",
    "list_copy: list[int] = random_numbers.copy()\n",
    "\n",
    "list_copy"
   ]
  },
  {
   "cell_type": "markdown",
   "metadata": {},
   "source": [
    "### Count Item appearance in list"
   ]
  },
  {
   "cell_type": "code",
   "execution_count": 127,
   "metadata": {},
   "outputs": [
    {
     "data": {
      "text/plain": [
       "0"
      ]
     },
     "execution_count": 127,
     "metadata": {},
     "output_type": "execute_result"
    }
   ],
   "source": [
    "# count() counts the number of times an item appears in the list\n",
    "random_numbers.count(15)"
   ]
  },
  {
   "cell_type": "markdown",
   "metadata": {},
   "source": [
    "### Insert item at given position"
   ]
  },
  {
   "cell_type": "code",
   "execution_count": 128,
   "metadata": {},
   "outputs": [
    {
     "data": {
      "text/plain": [
       "[13, 3, 4, 4, 7, 18, 14, 7, 10, 20, 6, 9]"
      ]
     },
     "execution_count": 128,
     "metadata": {},
     "output_type": "execute_result"
    }
   ],
   "source": [
    "random_numbers.insert(2, 4)\n",
    "# Where 2 is the index and 4 is the item to be inserted\n",
    "\n",
    "random_numbers"
   ]
  },
  {
   "cell_type": "markdown",
   "metadata": {},
   "source": [
    "### Remove Last Item"
   ]
  },
  {
   "cell_type": "code",
   "execution_count": 129,
   "metadata": {},
   "outputs": [
    {
     "data": {
      "text/plain": [
       "9"
      ]
     },
     "execution_count": 129,
     "metadata": {},
     "output_type": "execute_result"
    }
   ],
   "source": [
    "# Remove and return an item at a given position. If no index is specified, removes and returns the last item in the list.\n",
    "random_numbers.pop()"
   ]
  },
  {
   "cell_type": "markdown",
   "metadata": {},
   "source": [
    "### Remove the first occurrence of an item from the list"
   ]
  },
  {
   "cell_type": "code",
   "execution_count": 130,
   "metadata": {},
   "outputs": [
    {
     "data": {
      "text/plain": [
       "[3, 4, 11, 5, 6]"
      ]
     },
     "execution_count": 130,
     "metadata": {},
     "output_type": "execute_result"
    }
   ],
   "source": [
    "new_list = [3, 4, 5, 11, 5, 6]\n",
    "new_list.remove(5)\n",
    "\n",
    "new_list"
   ]
  },
  {
   "cell_type": "code",
   "execution_count": 131,
   "metadata": {},
   "outputs": [
    {
     "data": {
      "text/plain": [
       "2"
      ]
     },
     "metadata": {},
     "output_type": "display_data"
    },
    {
     "name": "stdout",
     "output_type": "stream",
     "text": [
      "True\n"
     ]
    }
   ],
   "source": [
    "index = new_list.index(11)\n",
    "\n",
    "display(index)\n",
    "\n",
    "## Alternatively use the `in` method\n",
    "## It is used to check the existence of an item in the list\n",
    "\n",
    "print(5 in new_list)"
   ]
  },
  {
   "cell_type": "markdown",
   "metadata": {},
   "source": [
    "### Reverse the order of items in the list"
   ]
  },
  {
   "cell_type": "code",
   "execution_count": 132,
   "metadata": {},
   "outputs": [
    {
     "data": {
      "text/plain": [
       "[6, 20, 10, 7, 14, 18, 7, 4, 4, 3, 13]"
      ]
     },
     "execution_count": 132,
     "metadata": {},
     "output_type": "execute_result"
    }
   ],
   "source": [
    "random_numbers.reverse()\n",
    "\n",
    "random_numbers"
   ]
  },
  {
   "cell_type": "markdown",
   "metadata": {},
   "source": [
    "### Sort the List"
   ]
  },
  {
   "cell_type": "code",
   "execution_count": 133,
   "metadata": {},
   "outputs": [
    {
     "data": {
      "text/plain": [
       "[3, 4, 4, 6, 7, 7, 10, 13, 14, 18, 20]"
      ]
     },
     "execution_count": 133,
     "metadata": {},
     "output_type": "execute_result"
    }
   ],
   "source": [
    "# Sort items in ascending order by default, or in descending order if reverse=True. The optional key argument specifies a function to be called on each item before sorting.\n",
    "random_numbers.sort()\n",
    "\n",
    "random_numbers"
   ]
  },
  {
   "cell_type": "markdown",
   "metadata": {},
   "source": [
    "### Sort List in descending order"
   ]
  },
  {
   "cell_type": "code",
   "execution_count": 134,
   "metadata": {},
   "outputs": [
    {
     "name": "stdout",
     "output_type": "stream",
     "text": [
      "[20, 18, 14, 13, 10, 7, 7, 6, 4, 4, 3]\n"
     ]
    }
   ],
   "source": [
    "random_numbers.sort(reverse=True)\n",
    "print(random_numbers)"
   ]
  },
  {
   "cell_type": "code",
   "execution_count": 135,
   "metadata": {},
   "outputs": [
    {
     "data": {
      "text/plain": [
       "11"
      ]
     },
     "execution_count": 135,
     "metadata": {},
     "output_type": "execute_result"
    }
   ],
   "source": [
    "len(random_numbers)\n",
    "# Returns the length of the list"
   ]
  },
  {
   "cell_type": "markdown",
   "metadata": {},
   "source": [
    "### List Comprehension\n",
    "\n",
    "Create a list by iterating over another list or tuple."
   ]
  },
  {
   "cell_type": "code",
   "execution_count": 146,
   "metadata": {},
   "outputs": [
    {
     "data": {
      "text/plain": [
       "['Sarmad', 'Kamran', 'Ahmad', 'Nawaz']"
      ]
     },
     "execution_count": 146,
     "metadata": {},
     "output_type": "execute_result"
    }
   ],
   "source": [
    "users = (\"Sarmad\", \"Kamran\", \"Ahmad\", \"Ali\", \"Nawaz\")\n",
    "\n",
    "students: list[str] = [student for student in users if not student == \"Ali\"]\n",
    "students"
   ]
  },
  {
   "cell_type": "code",
   "execution_count": 2,
   "metadata": {},
   "outputs": [
    {
     "data": {
      "text/plain": [
       "[5, 7, 9]"
      ]
     },
     "execution_count": 2,
     "metadata": {},
     "output_type": "execute_result"
    }
   ],
   "source": [
    "# Using the zip() function\n",
    "# The zip() function returns an iterator of tuples based on the iterable objects.\n",
    "nums1 = [1, 2, 3]\n",
    "nums2 = [4, 5, 6]\n",
    "\n",
    "# Addition of two list elements\n",
    "[num + num2 for num, num2 in zip(nums1, nums2)]"
   ]
  },
  {
   "cell_type": "markdown",
   "metadata": {},
   "source": [
    "##### Conditional List Comprehension with dictionary"
   ]
  },
  {
   "cell_type": "code",
   "execution_count": 138,
   "metadata": {},
   "outputs": [
    {
     "data": {
      "text/plain": [
       "[{'name': 'Sarmad', 'province': 'punjab'},\n",
       " {'name': 'Ahmad', 'province': 'punjab'},\n",
       " {'name': 'Nawaz', 'province': 'punjab'},\n",
       " {'name': 'Ismail', 'province': 'punjab'}]"
      ]
     },
     "execution_count": 138,
     "metadata": {},
     "output_type": "execute_result"
    }
   ],
   "source": [
    "users: list[dict[str, str]] = [\n",
    "    {\"name\": \"Sarmad\", \"province\": \"punjab\"},\n",
    "    {\"name\": \"Kamran\", \"province\": \"sindh\"},\n",
    "    {\n",
    "        \"name\": \"Ahmad\",\n",
    "        \"province\": \"punjab\",\n",
    "    },\n",
    "    {\n",
    "        \"name\": \"Ali\",\n",
    "        \"province\": \"balochistan\",\n",
    "    },\n",
    "    {\n",
    "        \"name\": \"Nawaz\",\n",
    "        \"province\": \"punjab\",\n",
    "    },\n",
    "    {\n",
    "        \"name\": \"junaid\",\n",
    "        \"province\": \"kpk\",\n",
    "    },\n",
    "    {\n",
    "        \"name\": \"Ismail\",\n",
    "        \"province\": \"punjab\",\n",
    "    },\n",
    "]\n",
    "\n",
    "# Extract the users that are from punjab\n",
    "\n",
    "punjab_users = [user for user in users if user[\"province\"] == \"punjab\"]\n",
    "\n",
    "punjab_users"
   ]
  },
  {
   "cell_type": "markdown",
   "metadata": {},
   "source": [
    "## Conditional List comprehension via csv file"
   ]
  },
  {
   "cell_type": "code",
   "execution_count": 139,
   "metadata": {},
   "outputs": [],
   "source": [
    "# Write users Data to csv file\n",
    "\n",
    "import csv\n",
    "\n",
    "users: list[tuple[str, str]] = [\n",
    "    (\"Sarmad\", \"punjab\"),\n",
    "    (\"Kamran\", \"sindh\"),\n",
    "    (\"Akmal\", \"kpk\"),\n",
    "    (\"ismail\", \"punjab\"),\n",
    "    (\"Nawaz\", \"balochistan\"),\n",
    "    (\"Imran\", \"punjab\"),\n",
    "    (\"Nauman\", \"punjab\"),\n",
    "    (\"Umer\", \"Islamabad\"),\n",
    "    (\"Shoaib\", \"punjab\"),\n",
    "]\n",
    "\n",
    "COLUMNS = [\"name\", \"province\"]\n",
    "with open(\"users.csv\", \"w\", encoding=\"utf-8\") as csv_file:\n",
    "    writer = csv.writer(csv_file)\n",
    "    writer.writerow(COLUMNS)\n",
    "    writer.writerows(users)"
   ]
  },
  {
   "cell_type": "markdown",
   "metadata": {},
   "source": [
    "#### Reading a CSV file"
   ]
  },
  {
   "cell_type": "code",
   "execution_count": 140,
   "metadata": {},
   "outputs": [
    {
     "data": {
      "text/plain": [
       "[['Sarmad', 'punjab'],\n",
       " ['Kamran', 'sindh'],\n",
       " ['Akmal', 'kpk'],\n",
       " ['ismail', 'punjab'],\n",
       " ['Nawaz', 'balochistan'],\n",
       " ['Imran', 'punjab'],\n",
       " ['Nauman', 'punjab'],\n",
       " ['Umer', 'Islamabad'],\n",
       " ['Shoaib', 'punjab']]"
      ]
     },
     "execution_count": 140,
     "metadata": {},
     "output_type": "execute_result"
    }
   ],
   "source": [
    "users: list[list[str]] = []\n",
    "\n",
    "with open(\"users.csv\", \"r\", encoding=\"utf-8\") as csv_file:\n",
    "    reader = csv.reader(csv_file)\n",
    "    next(reader)  # Skip the headings\n",
    "    for row in reader:\n",
    "        if row:  # to avoid empty lines\n",
    "            users.append(row)\n",
    "\n",
    "users"
   ]
  },
  {
   "cell_type": "markdown",
   "metadata": {},
   "source": [
    "#### Extracting users that are from punjab"
   ]
  },
  {
   "cell_type": "code",
   "execution_count": 141,
   "metadata": {},
   "outputs": [
    {
     "data": {
      "text/plain": [
       "[['Sarmad', 'punjab'],\n",
       " ['ismail', 'punjab'],\n",
       " ['Imran', 'punjab'],\n",
       " ['Nauman', 'punjab'],\n",
       " ['Shoaib', 'punjab']]"
      ]
     },
     "execution_count": 141,
     "metadata": {},
     "output_type": "execute_result"
    }
   ],
   "source": [
    "punjab_users: list[list[str]] = [user for user in users if user[1] == \"punjab\"]\n",
    "\n",
    "punjab_users"
   ]
  },
  {
   "cell_type": "markdown",
   "metadata": {},
   "source": [
    "s### List unpacking\n",
    "\n",
    "Unpack a list by using a single `*` in front of the list name. for more details of **unpacking**. [Click Here](../6-IMP-Topics/topics.ipynb)"
   ]
  },
  {
   "cell_type": "code",
   "execution_count": 142,
   "metadata": {},
   "outputs": [
    {
     "name": "stdout",
     "output_type": "stream",
     "text": [
      "['Sarmad', 'punjab'] ['ismail', 'punjab'] ['Imran', 'punjab'] ['Nauman', 'punjab'] ['Shoaib', 'punjab']\n"
     ]
    }
   ],
   "source": [
    "print(*punjab_users)"
   ]
  }
 ],
 "metadata": {
  "kernelspec": {
   "display_name": "venv",
   "language": "python",
   "name": "python3"
  },
  "language_info": {
   "codemirror_mode": {
    "name": "ipython",
    "version": 3
   },
   "file_extension": ".py",
   "mimetype": "text/x-python",
   "name": "python",
   "nbconvert_exporter": "python",
   "pygments_lexer": "ipython3",
   "version": "3.12.6"
  }
 },
 "nbformat": 4,
 "nbformat_minor": 2
}
