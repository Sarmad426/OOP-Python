{
 "cells": [
  {
   "cell_type": "markdown",
   "metadata": {},
   "source": [
    "# Python String Methods"
   ]
  },
  {
   "cell_type": "code",
   "execution_count": 1,
   "metadata": {},
   "outputs": [
    {
     "data": {
      "text/plain": [
       "'Easy'"
      ]
     },
     "execution_count": 1,
     "metadata": {},
     "output_type": "execute_result"
    }
   ],
   "source": [
    "text = \"easy\"\n",
    "\n",
    "# Method: capitalize()\n",
    "# Description: Converts the first character of the string to uppercase.\n",
    "capitalized_text: str = text.capitalize()\n",
    "\n",
    "capitalized_text"
   ]
  },
  {
   "cell_type": "code",
   "execution_count": 2,
   "metadata": {},
   "outputs": [
    {
     "data": {
      "text/plain": [
       "'hard'"
      ]
     },
     "execution_count": 2,
     "metadata": {},
     "output_type": "execute_result"
    }
   ],
   "source": [
    "text = 'Hard'\n",
    "# Method: lower()\n",
    "# Description: Converts all characters in the string to lowercase.\n",
    "lowercase_text: str = text.lower()\n",
    "\n",
    "lowercase_text"
   ]
  },
  {
   "cell_type": "code",
   "execution_count": 3,
   "metadata": {},
   "outputs": [
    {
     "data": {
      "text/plain": [
       "'HARD'"
      ]
     },
     "execution_count": 3,
     "metadata": {},
     "output_type": "execute_result"
    }
   ],
   "source": [
    "# Method: upper()\n",
    "# Description: Converts all characters in the string to uppercase.\n",
    "\n",
    "uppercase_text: str = text.upper()\n",
    "\n",
    "uppercase_text"
   ]
  },
  {
   "cell_type": "code",
   "execution_count": 4,
   "metadata": {},
   "outputs": [
    {
     "data": {
      "text/plain": [
       "'hARD'"
      ]
     },
     "execution_count": 4,
     "metadata": {},
     "output_type": "execute_result"
    }
   ],
   "source": [
    "# Method: swapcase()\n",
    "# Description: Swaps the case of all characters in the string (lowercase becomes uppercase and vice versa).\n",
    "swapped_case_text: str = text.swapcase()\n",
    "\n",
    "swapped_case_text"
   ]
  },
  {
   "cell_type": "code",
   "execution_count": 5,
   "metadata": {},
   "outputs": [
    {
     "data": {
      "text/plain": [
       "'This Is Easy'"
      ]
     },
     "execution_count": 5,
     "metadata": {},
     "output_type": "execute_result"
    }
   ],
   "source": [
    "# Method: title()\n",
    "# Description: Converts the first character of each word to uppercase and the rest to lowercase.\n",
    "text = \"this is easy\"\n",
    "\n",
    "title_case_text: str = text.title()\n",
    "\n",
    "title_case_text"
   ]
  },
  {
   "cell_type": "code",
   "execution_count": 6,
   "metadata": {},
   "outputs": [
    {
     "data": {
      "text/plain": [
       "'this is easy'"
      ]
     },
     "execution_count": 6,
     "metadata": {},
     "output_type": "execute_result"
    }
   ],
   "source": [
    "# Method: strip()\n",
    "# Description: Removes leading and trailing whitespaces from the string.\n",
    "stripped_text: str = text.strip()\n",
    "\n",
    "stripped_text"
   ]
  },
  {
   "cell_type": "code",
   "execution_count": 7,
   "metadata": {},
   "outputs": [
    {
     "data": {
      "text/plain": [
       "'this is hard'"
      ]
     },
     "execution_count": 7,
     "metadata": {},
     "output_type": "execute_result"
    }
   ],
   "source": [
    "# Method: replace()\n",
    "# Description: Replaces occurrences of a specified substring with another substring.\n",
    "new_text: str = text.replace(\"easy\", \"hard\")\n",
    "\n",
    "new_text"
   ]
  },
  {
   "cell_type": "code",
   "execution_count": 8,
   "metadata": {},
   "outputs": [
    {
     "data": {
      "text/plain": [
       "8"
      ]
     },
     "execution_count": 8,
     "metadata": {},
     "output_type": "execute_result"
    }
   ],
   "source": [
    "# Method: find()\n",
    "# Description: Returns the lowest index of the substring if found, -1 otherwise.\n",
    "index: int = text.find(\"easy\")\n",
    "\n",
    "index"
   ]
  },
  {
   "cell_type": "code",
   "execution_count": 9,
   "metadata": {},
   "outputs": [
    {
     "data": {
      "text/plain": [
       "1"
      ]
     },
     "execution_count": 9,
     "metadata": {},
     "output_type": "execute_result"
    }
   ],
   "source": [
    "# Method: count()\n",
    "# Description: Returns the number of occurrences of a specified substring.\n",
    "occurrences: int = text.count(\"e\")\n",
    "\n",
    "occurrences"
   ]
  },
  {
   "cell_type": "code",
   "execution_count": 10,
   "metadata": {},
   "outputs": [
    {
     "data": {
      "text/plain": [
       "True"
      ]
     },
     "execution_count": 10,
     "metadata": {},
     "output_type": "execute_result"
    }
   ],
   "source": [
    "# Method: startswith()\n",
    "# Description: Returns True if the string starts with the specified prefix, False otherwise.\n",
    "starts_with: bool = text.startswith(\"th\")\n",
    "\n",
    "starts_with"
   ]
  },
  {
   "cell_type": "code",
   "execution_count": 11,
   "metadata": {},
   "outputs": [
    {
     "data": {
      "text/plain": [
       "False"
      ]
     },
     "execution_count": 11,
     "metadata": {},
     "output_type": "execute_result"
    }
   ],
   "source": [
    "\n",
    "# Method: endswith()\n",
    "# Description: Returns True if the string ends with the specified suffix, False otherwise.\n",
    "ends_with: bool = text.endswith(\"hard\")\n",
    "\n",
    "ends_with"
   ]
  }
 ],
 "metadata": {
  "kernelspec": {
   "display_name": "Python 3",
   "language": "python",
   "name": "python3"
  },
  "language_info": {
   "codemirror_mode": {
    "name": "ipython",
    "version": 3
   },
   "file_extension": ".py",
   "mimetype": "text/x-python",
   "name": "python",
   "nbconvert_exporter": "python",
   "pygments_lexer": "ipython3",
   "version": "3.12.6"
  }
 },
 "nbformat": 4,
 "nbformat_minor": 2
}
