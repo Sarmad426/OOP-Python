{
 "cells": [
  {
   "cell_type": "markdown",
   "metadata": {},
   "source": [
    "## Sets\n",
    "\n",
    "Set is a data type in python, that cannot have duplicates in it."
   ]
  },
  {
   "cell_type": "markdown",
   "metadata": {},
   "source": [
    "#### Declaration Syntax "
   ]
  },
  {
   "cell_type": "code",
   "execution_count": 5,
   "metadata": {},
   "outputs": [
    {
     "data": {
      "text/plain": [
       "{'Sarmad', 'sarmad@email.com'}"
      ]
     },
     "execution_count": 5,
     "metadata": {},
     "output_type": "execute_result"
    }
   ],
   "source": [
    "details: set[str] = {\"Sarmad\", \"sarmad@email.com\"}\n",
    "\n",
    "details"
   ]
  },
  {
   "cell_type": "markdown",
   "metadata": {},
   "source": [
    "##### Another way of declaring the `set`"
   ]
  },
  {
   "cell_type": "code",
   "execution_count": 6,
   "metadata": {},
   "outputs": [
    {
     "data": {
      "text/plain": [
       "{'Sarmad', 'sarmad@email.com'}"
      ]
     },
     "execution_count": 6,
     "metadata": {},
     "output_type": "execute_result"
    }
   ],
   "source": [
    "details: set[str] = set({\"Sarmad\", \"sarmad@email.com\"})\n",
    "\n",
    "details"
   ]
  },
  {
   "cell_type": "markdown",
   "metadata": {},
   "source": [
    "### Removing Duplicates using a `list`"
   ]
  },
  {
   "cell_type": "code",
   "execution_count": 10,
   "metadata": {},
   "outputs": [
    {
     "name": "stdout",
     "output_type": "stream",
     "text": [
      "['Lahore', 'Karachi', 'Peshawar']\n"
     ]
    }
   ],
   "source": [
    "# Collecting unique city entities\n",
    "\n",
    "students: list[dict[str, str]] = [\n",
    "    {\"name\": \"Sarmad\", \"city\": \"Lahore\"},\n",
    "    {\"name\": \"Salman\", \"city\": \"Karachi\"},\n",
    "    {\"name\": \"Nauman\", \"city\": \"Karachi\"},\n",
    "    {\"name\": \"Akhtar\", \"city\": \"Peshawar\"},\n",
    "    {\"name\": \"Mehboob\", \"city\": \"Lahore\"},\n",
    "]\n",
    "\n",
    "unique_cities: list[str] = []\n",
    "\n",
    "for student in students:\n",
    "    if student[\"city\"] not in unique_cities:\n",
    "        unique_cities.append(student[\"city\"])\n",
    "\n",
    "unique_cities"
   ]
  },
  {
   "cell_type": "markdown",
   "metadata": {},
   "source": [
    "#### Using Set\n",
    "\n",
    "Now using the python's built in set that cannot have duplicate entries by itself, and if it encounters duplicate entries it removes them by itself."
   ]
  },
  {
   "cell_type": "code",
   "execution_count": 16,
   "metadata": {},
   "outputs": [
    {
     "data": {
      "text/plain": [
       "{'Karachi', 'Lahore', 'Peshawar'}"
      ]
     },
     "execution_count": 16,
     "metadata": {},
     "output_type": "execute_result"
    }
   ],
   "source": [
    "students: list[dict[str, str]] = [\n",
    "    {\"name\": \"Sarmad\", \"city\": \"Lahore\"},\n",
    "    {\"name\": \"Salman\", \"city\": \"Karachi\"},\n",
    "    {\"name\": \"Nauman\", \"city\": \"Karachi\"},\n",
    "    {\"name\": \"Akhtar\", \"city\": \"Peshawar\"},\n",
    "    {\"name\": \"Mehboob\", \"city\": \"Lahore\"},\n",
    "]\n",
    "\n",
    "cities: set[str] = set()\n",
    "\n",
    "for student in students:\n",
    "    cities.add(student[\"city\"])\n",
    "\n",
    "cities"
   ]
  },
  {
   "cell_type": "markdown",
   "metadata": {},
   "source": [
    "### Set Operations"
   ]
  },
  {
   "cell_type": "code",
   "execution_count": 39,
   "metadata": {},
   "outputs": [
    {
     "name": "stdout",
     "output_type": "stream",
     "text": [
      "{'Gawadar', 'Peshawar', 'Lahore', 'Islamabad', 'Karachi'}\n"
     ]
    }
   ],
   "source": [
    "# Set of Cities (All Unique Entities)\n",
    "\n",
    "cities: set[str] = {\"Lahore\", \"Karachi\", \"Peshawar\", \"Islamabad\", \"Gawadar\"}\n",
    "\n",
    "print(cities)"
   ]
  },
  {
   "cell_type": "code",
   "execution_count": 40,
   "metadata": {},
   "outputs": [
    {
     "name": "stdout",
     "output_type": "stream",
     "text": [
      "{'Kashmir', 'Gawadar', 'Peshawar', 'Lahore', 'Islamabad', 'Karachi'}\n"
     ]
    }
   ],
   "source": [
    "# Adding an element to a set\n",
    "\n",
    "cities.add(\"Kashmir\")\n",
    "\n",
    "print(cities)"
   ]
  },
  {
   "cell_type": "code",
   "execution_count": 41,
   "metadata": {},
   "outputs": [
    {
     "name": "stdout",
     "output_type": "stream",
     "text": [
      "{'Kashmir', 'Peshawar', 'Lahore', 'Islamabad', 'Karachi'}\n"
     ]
    }
   ],
   "source": [
    "# Remove an entity from a set\n",
    "\n",
    "cities.remove(\"Gawadar\")\n",
    "\n",
    "print(cities)"
   ]
  },
  {
   "cell_type": "code",
   "execution_count": 43,
   "metadata": {},
   "outputs": [
    {
     "name": "stdout",
     "output_type": "stream",
     "text": [
      "{'Peshawar', 'Lahore', 'Islamabad', 'Karachi'}\n"
     ]
    }
   ],
   "source": [
    "# Removes the first entity from a set\n",
    "\n",
    "cities.pop()\n",
    "\n",
    "print(cities)"
   ]
  }
 ],
 "metadata": {
  "kernelspec": {
   "display_name": "py-12",
   "language": "python",
   "name": "python3"
  },
  "language_info": {
   "codemirror_mode": {
    "name": "ipython",
    "version": 3
   },
   "file_extension": ".py",
   "mimetype": "text/x-python",
   "name": "python",
   "nbconvert_exporter": "python",
   "pygments_lexer": "ipython3",
   "version": "3.12.0"
  }
 },
 "nbformat": 4,
 "nbformat_minor": 2
}
