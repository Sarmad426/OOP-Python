{
 "cells": [
  {
   "cell_type": "markdown",
   "metadata": {},
   "source": [
    "## Python Important Topics\n",
    "\n",
    "- #### Global variables (`global` keyword)\n",
    "- #### Unpacking\n",
    "  - - Tuple unpacking\n",
    "  - - List unpacking\n",
    "  - - Function Parameters unpacking \n",
    "  - - Dictionary unpacking\n",
    "- #### `*args` and `**kwargs`\n",
    "- #### filter function"
   ]
  },
  {
   "cell_type": "markdown",
   "metadata": {},
   "source": [
    "#### Global variables\n",
    "\n",
    "Global variables can be referenced by a `global` keyword in python. Used when you use the `global` statement to update a global variable. Pylint discourages its usage. That doesn't mean you cannot use it!"
   ]
  },
  {
   "cell_type": "code",
   "execution_count": 19,
   "metadata": {},
   "outputs": [
    {
     "name": "stdout",
     "output_type": "stream",
     "text": [
      "10\n",
      "10\n"
     ]
    }
   ],
   "source": [
    "# Problematic Code\n",
    "\n",
    "var = 1\n",
    "\n",
    "\n",
    "def foo():\n",
    "    global var  # [global-statement]\n",
    "    var = 10\n",
    "    print(var)\n",
    "\n",
    "\n",
    "foo()\n",
    "print(var)"
   ]
  },
  {
   "cell_type": "code",
   "execution_count": 20,
   "metadata": {},
   "outputs": [
    {
     "name": "stdout",
     "output_type": "stream",
     "text": [
      "1\n",
      "10\n"
     ]
    }
   ],
   "source": [
    "# Correct code\n",
    "\n",
    "var = 1\n",
    "\n",
    "\n",
    "def foo():\n",
    "    print(var)\n",
    "    return 10\n",
    "\n",
    "\n",
    "var = foo()\n",
    "print(var)"
   ]
  },
  {
   "cell_type": "markdown",
   "metadata": {},
   "source": [
    "### Problematic python Bank Program with global variable"
   ]
  },
  {
   "cell_type": "code",
   "execution_count": 21,
   "metadata": {},
   "outputs": [
    {
     "name": "stdout",
     "output_type": "stream",
     "text": [
      "Balance: 0\n",
      "Balance after deposit: 100\n",
      "Balance after Withdraw: 50\n"
     ]
    }
   ],
   "source": [
    "balance: int = 0\n",
    "\n",
    "def account():\n",
    "    \"\"\"\n",
    "    `deposit` and `withdraw` money\n",
    "\n",
    "    No Parameters: \\n\n",
    "    Returns Nothing.\n",
    "    \"\"\"\n",
    "    print(f\"Balance: {balance}\")\n",
    "    deposit(100)\n",
    "    print(f\"Balance after deposit: {balance}\")\n",
    "    withdraw(50)\n",
    "    print(f\"Balance after Withdraw: {balance}\")\n",
    "\n",
    "\n",
    "def deposit(amount: int) -> None:\n",
    "    \"\"\"\n",
    "    Deposit Money\n",
    "\n",
    "    Parameters:\n",
    "    - amount (int) : Deposit the money via using `global balance` variable\n",
    "\n",
    "    Returns Nothing.\n",
    "    \"\"\"\n",
    "    global balance\n",
    "    balance += amount\n",
    "\n",
    "\n",
    "def withdraw(amount: int) -> None:\n",
    "    \"\"\"\n",
    "    Withdraw Money\n",
    "\n",
    "    Parameters:\n",
    "    - amount (int) : Withdraw the money via using `global balance` variable\n",
    "\n",
    "    Returns Nothing.\n",
    "    \"\"\"\n",
    "    global balance\n",
    "    balance -= amount\n",
    "\n",
    "\n",
    "if __name__ == \"__main__\":\n",
    "    account()\n"
   ]
  },
  {
   "cell_type": "markdown",
   "metadata": {},
   "source": [
    "### Solving Problem using [OOP Program](/8-OOP/classes.ipynb) "
   ]
  },
  {
   "cell_type": "code",
   "execution_count": 22,
   "metadata": {},
   "outputs": [
    {
     "name": "stdout",
     "output_type": "stream",
     "text": [
      "Balance: 0\n",
      "Balance after Deposit: 100\n",
      "Balance after withdraw: 60\n"
     ]
    }
   ],
   "source": [
    "class Account:\n",
    "    \"\"\"\n",
    "    Account Class\n",
    "\n",
    "    Manages balance and transactions\n",
    "\n",
    "    methods:\n",
    "\n",
    "    - deposit (amount:int): deposit the amount\n",
    "    - withdraw (amount:int): withdraw the amount\n",
    "    \"\"\"\n",
    "\n",
    "    def __init__(self):\n",
    "        self._balance = 0\n",
    "\n",
    "    @property\n",
    "    def balance(self) -> int:\n",
    "        \"\"\"\n",
    "        Getter\n",
    "\n",
    "        Returns the current balance\n",
    "        \"\"\"\n",
    "        return self._balance\n",
    "\n",
    "    def deposit(self, amount: int) -> None:\n",
    "        \"\"\"\n",
    "        Deposit Money\n",
    "\n",
    "        Parameters:\n",
    "        - amount (int) : Deposit the money via using `global balance` variable\n",
    "\n",
    "        Returns Nothing.\n",
    "        \"\"\"\n",
    "        self._balance += amount\n",
    "\n",
    "    def withdraw(self, amount: int) -> None:\n",
    "        \"\"\"\n",
    "        Withdraw Money\n",
    "\n",
    "        Parameters:\n",
    "        - amount (int) : Withdraw the money via using `global balance` variable\n",
    "\n",
    "        Returns Nothing.\n",
    "        \"\"\"\n",
    "        self._balance -= amount\n",
    "\n",
    "\n",
    "account = Account()\n",
    "\n",
    "print(f\"Balance: {account.balance}\")\n",
    "\n",
    "account.deposit(100)\n",
    "\n",
    "print(f\"Balance after Deposit: {account.balance}\")\n",
    "\n",
    "account.withdraw(40)\n",
    "\n",
    "print(f\"Balance after withdraw: {account.balance}\")\n"
   ]
  },
  {
   "cell_type": "markdown",
   "metadata": {},
   "source": [
    "## Python unpacking\n",
    "\n",
    "Unpacking is a concept of extracting individual values from a data structure like, `list`, `dictionary` or a `tuple`. There is a special syntax for that. `*` is used for both \"list\" and \"tuple\", however `**` is used for a dictionary."
   ]
  },
  {
   "cell_type": "markdown",
   "metadata": {},
   "source": [
    "#### Tuple unpacking "
   ]
  },
  {
   "cell_type": "code",
   "execution_count": 23,
   "metadata": {},
   "outputs": [
    {
     "name": "stdout",
     "output_type": "stream",
     "text": [
      "User Sarmad with email (sarmad@email.com) is 19 years old.\n"
     ]
    }
   ],
   "source": [
    "def user(name: str, email: str, age: int) -> str:\n",
    "    \"\"\"\n",
    "    Takes user details and returns a string of combined details\n",
    "\n",
    "    Parameters:\n",
    "    - name (str): Name of the user`\n",
    "    - email (str) : Email of the user\n",
    "    - age (int) : Age of the user\n",
    "\n",
    "    Return type (str):\n",
    "        returns a string with user name, email and age\n",
    "    \"\"\"\n",
    "    return f\"User {name} with email ({email}) is {age} years old.\"\n",
    "\n",
    "\n",
    "\n",
    "details = (\"Sarmad\", \"sarmad@email.com\", 19)\n",
    "\n",
    "print(user(*details))\n"
   ]
  },
  {
   "cell_type": "markdown",
   "metadata": {},
   "source": [
    "#### List unpacking"
   ]
  },
  {
   "cell_type": "code",
   "execution_count": 24,
   "metadata": {},
   "outputs": [
    {
     "name": "stdout",
     "output_type": "stream",
     "text": [
      "User Sarmad with email (sarmad@email.com) is 19 years old.\n"
     ]
    }
   ],
   "source": [
    "details = [\"Sarmad\", \"sarmad@email.com\", 19]\n",
    "\n",
    "print(user(*details))"
   ]
  },
  {
   "cell_type": "code",
   "execution_count": 25,
   "metadata": {},
   "outputs": [
    {
     "name": "stdout",
     "output_type": "stream",
     "text": [
      "Sarmad Kamran Hammad Ahmad Abrar\n"
     ]
    }
   ],
   "source": [
    "users = [\"Sarmad\", \"Kamran\", \"Hammad\", \"Ahmad\", \"Abrar\"]\n",
    "\n",
    "# Simple list unpacking\n",
    "print(*users)"
   ]
  },
  {
   "cell_type": "markdown",
   "metadata": {},
   "source": [
    "\n",
    "#### Named Function parameters unpacking"
   ]
  },
  {
   "cell_type": "code",
   "execution_count": 26,
   "metadata": {},
   "outputs": [
    {
     "name": "stdout",
     "output_type": "stream",
     "text": [
      "User Kamran with email (kamran@email.com) is 24 years old.\n"
     ]
    }
   ],
   "source": [
    "print(user(name=\"Kamran\", email=\"kamran@email.com\", age=24))\n",
    "\n",
    "# Function parameters are unpacked by their names."
   ]
  },
  {
   "cell_type": "markdown",
   "metadata": {},
   "source": [
    "#### Dictionary unpacking"
   ]
  },
  {
   "cell_type": "code",
   "execution_count": 27,
   "metadata": {},
   "outputs": [
    {
     "name": "stdout",
     "output_type": "stream",
     "text": [
      "User Sarmad with email (sarmad@email.com) is 19 years old.\n"
     ]
    }
   ],
   "source": [
    "from typing import Any\n",
    "\n",
    "details: dict[str, Any] = {\n",
    "    \"name\": \"Sarmad\",\n",
    "    \"email\": \"sarmad@email.com\",\n",
    "    \"age\": 19,\n",
    "}\n",
    "\n",
    "print(user(**details))\n",
    "\n",
    "## (**) double asterisks for dictionary unpacking "
   ]
  },
  {
   "cell_type": "markdown",
   "metadata": {},
   "source": [
    "### `*args` and `*kwargs`"
   ]
  },
  {
   "cell_type": "markdown",
   "metadata": {},
   "source": [
    "#### `*args`\n",
    "\n",
    "`*args` is used as function parameter when the number of parameters are unpredictable. It gets the number of parameters as a **tuple**. And if no parameters are passed it just gets an empty tuple. It can be called anything but with single `*` asterisk."
   ]
  },
  {
   "cell_type": "code",
   "execution_count": 28,
   "metadata": {},
   "outputs": [
    {
     "name": "stdout",
     "output_type": "stream",
     "text": [
      "User: ('Sarmad', 'sarmad@email.com', 19)\n"
     ]
    }
   ],
   "source": [
    "def user(*args) -> None:\n",
    "    \"\"\"\n",
    "    Simple User function\n",
    "\n",
    "    Parameters:\n",
    "    - `*args`: n number of parameters \\n\n",
    "    Prints user details \\n\n",
    "    Returns Nothing\n",
    "    \"\"\"\n",
    "    print(f\"User: {args}\")\n",
    "\n",
    "\n",
    "user(\"Sarmad\", \"sarmad@email.com\", 19)"
   ]
  },
  {
   "cell_type": "markdown",
   "metadata": {},
   "source": [
    "#### `**kwargs`\n",
    "\n",
    "`**kwargs` stands for **Keyword args**. It is used as function parameter where named parameters are passed and also when the number of parameters are unpredictable. It gets the named parameters as a **dictionary**. And if no parameters are passed it just gets an empty dictionary. It can be called anything but with single `**` asterisk."
   ]
  },
  {
   "cell_type": "code",
   "execution_count": 29,
   "metadata": {},
   "outputs": [
    {
     "name": "stdout",
     "output_type": "stream",
     "text": [
      "User: {'name': 'Sarmad', 'email': 'sarmad@email.com'}\n"
     ]
    }
   ],
   "source": [
    "def user(**kwargs) -> None:\n",
    "    \"\"\"\n",
    "    Simple User function\n",
    "\n",
    "    Parameters:\n",
    "    - `*args`: n number of parameters \\n\n",
    "    Prints user details \\n\n",
    "    Returns Nothing\n",
    "    \"\"\"\n",
    "    print(f\"User: {kwargs}\")\n",
    "\n",
    "\n",
    "user(name=\"Sarmad\", email=\"sarmad@email.com\")"
   ]
  },
  {
   "cell_type": "code",
   "execution_count": 30,
   "metadata": {},
   "outputs": [
    {
     "name": "stdout",
     "output_type": "stream",
     "text": [
      "Sarmad\tKamran\tImran\tNawaz\t"
     ]
    }
   ],
   "source": [
    "def users(*users_list):\n",
    "    \"\"\"\n",
    "    Simple User function Loops over the tuple\n",
    "\n",
    "    Parameters:\n",
    "    - `*args`: n number of parameters \\n\n",
    "    Prints user details \\n\n",
    "    Returns Nothing\n",
    "    \"\"\"\n",
    "    for user in users_list:\n",
    "        print(user, end=\"\\t\")\n",
    "\n",
    "\n",
    "users(\"Sarmad\", \"Kamran\", \"Imran\", \"Nawaz\")\n"
   ]
  },
  {
   "cell_type": "code",
   "execution_count": 31,
   "metadata": {},
   "outputs": [
    {
     "name": "stdout",
     "output_type": "stream",
     "text": [
      "Name: Sarmad\n",
      "Email: sarmad@email.com\n"
     ]
    }
   ],
   "source": [
    "def user(**kwargs):\n",
    "    \"\"\"\n",
    "    Function with named parameters `**kwargs`\n",
    "\n",
    "    Prints the `name` and `email` from dictionary\n",
    "\n",
    "    Parameters:\n",
    "    - `**kwargs`: Keyword Arguments \\n\n",
    "    Returns nothing\n",
    "    \"\"\"\n",
    "    print(f\"Name: {kwargs['name']}\")\n",
    "    print(f\"Email: {kwargs['email']}\")\n",
    "\n",
    "user(name=\"Sarmad\",email='sarmad@email.com')"
   ]
  },
  {
   "cell_type": "code",
   "execution_count": 32,
   "metadata": {},
   "outputs": [
    {
     "name": "stdout",
     "output_type": "stream",
     "text": [
      "args: ('Sarmad', 'Male')\n",
      "kwargs: {'email': 'sarmad@email.com', 'age': 19}\n"
     ]
    }
   ],
   "source": [
    "def user(*args, **kwargs):\n",
    "    \"\"\"\n",
    "    Function with named and unnamed parameters `*args` & `**kwargs`\n",
    "\n",
    "    Prints the `args` tuple and `kwargs` dictionary\n",
    "\n",
    "    Parameters:\n",
    "    - `*args`: Unnamed arguments\\n\n",
    "    - `**kwargs`: Keyword arguments \\n\n",
    "    Returns nothing\n",
    "    \"\"\"\n",
    "    print(f\"args: {args}\")\n",
    "    print(f\"kwargs: {kwargs}\")\n",
    "\n",
    "\n",
    "user(\"Sarmad\", \"Male\", email=\"sarmad@email.com\", age=19)\n"
   ]
  },
  {
   "cell_type": "markdown",
   "metadata": {},
   "source": [
    "### Filter function `filter`"
   ]
  },
  {
   "cell_type": "code",
   "execution_count": 7,
   "metadata": {},
   "outputs": [
    {
     "name": "stdout",
     "output_type": "stream",
     "text": [
      "{'name': 'Sarmad', 'province': 'punjab'}\n",
      "{'name': 'Ahmad', 'province': 'punjab'}\n",
      "{'name': 'Nawaz', 'province': 'punjab'}\n",
      "{'name': 'Ismail', 'province': 'punjab'}\n"
     ]
    }
   ],
   "source": [
    "# Filtering punjab users\n",
    "users: list[dict[str, str]] = [\n",
    "    {\"name\": \"Sarmad\", \"province\": \"punjab\"},\n",
    "    {\"name\": \"Kamran\", \"province\": \"sindh\"},\n",
    "    {\"name\": \"Ahmad\",\"province\": \"punjab\"},\n",
    "    {\"name\": \"Ali\",\"province\": \"balochistan\",},\n",
    "    {\"name\": \"Nawaz\",\"province\": \"punjab\",},\n",
    "    {\"name\": \"junaid\",\"province\": \"kpk\",},\n",
    "    {\"name\": \"Ismail\",\"province\": \"punjab\",},\n",
    "]\n",
    "\n",
    "def filter_punjab_users(user:dict[str,str]) -> bool:\n",
    "    return user['province'] == \"punjab\"\n",
    "\n",
    "punjab_users = filter(filter_punjab_users,users)\n",
    "\n",
    "for user in punjab_users:\n",
    "    print(user)"
   ]
  },
  {
   "cell_type": "markdown",
   "metadata": {},
   "source": [
    "### Sorted function"
   ]
  },
  {
   "cell_type": "code",
   "execution_count": 11,
   "metadata": {},
   "outputs": [
    {
     "name": "stdout",
     "output_type": "stream",
     "text": [
      "{'name': 'Ahmad', 'province': 'punjab'}\n",
      "{'name': 'Ali', 'province': 'balochistan'}\n",
      "{'name': 'Ismail', 'province': 'punjab'}\n",
      "{'name': 'Kamran', 'province': 'sindh'}\n",
      "{'name': 'Nawaz', 'province': 'punjab'}\n",
      "{'name': 'Sarmad', 'province': 'punjab'}\n",
      "{'name': 'junaid', 'province': 'kpk'}\n"
     ]
    }
   ],
   "source": [
    "# Sorting the users by their name\n",
    "\n",
    "for user in sorted(users, key=lambda user: user['name']): # lambda function determining key to sort\n",
    "    print(user)"
   ]
  }
 ],
 "metadata": {
  "kernelspec": {
   "display_name": "py-12",
   "language": "python",
   "name": "python3"
  },
  "language_info": {
   "codemirror_mode": {
    "name": "ipython",
    "version": 3
   },
   "file_extension": ".py",
   "mimetype": "text/x-python",
   "name": "python",
   "nbconvert_exporter": "python",
   "pygments_lexer": "ipython3",
   "version": "3.12.0"
  }
 },
 "nbformat": 4,
 "nbformat_minor": 2
}
