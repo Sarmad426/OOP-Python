{
 "cells": [
  {
   "cell_type": "markdown",
   "metadata": {},
   "source": [
    "## Python Important Topics\n",
    "\n",
    "- #### Global variables (`global` keyword)\n",
    "- #### Unpacking\n",
    "  - - Tuple unpacking\n",
    "  - - List unpacking\n",
    "  - - Function Parameters unpacking \n",
    "  - - Dictionary unpacking"
   ]
  },
  {
   "cell_type": "markdown",
   "metadata": {},
   "source": [
    "#### Global variables\n",
    "\n",
    "Global variables can be referenced by a `global` keyword in python. Used when you use the `global` statement to update a global variable. Pylint discourages its usage. That doesn't mean you cannot use it!"
   ]
  },
  {
   "cell_type": "code",
   "execution_count": 19,
   "metadata": {},
   "outputs": [
    {
     "name": "stdout",
     "output_type": "stream",
     "text": [
      "10\n",
      "10\n"
     ]
    }
   ],
   "source": [
    "# Problematic Code\n",
    "\n",
    "var = 1\n",
    "\n",
    "\n",
    "def foo():\n",
    "    global var  # [global-statement]\n",
    "    var = 10\n",
    "    print(var)\n",
    "\n",
    "\n",
    "foo()\n",
    "print(var)"
   ]
  },
  {
   "cell_type": "code",
   "execution_count": 20,
   "metadata": {},
   "outputs": [
    {
     "name": "stdout",
     "output_type": "stream",
     "text": [
      "1\n",
      "10\n"
     ]
    }
   ],
   "source": [
    "# Correct code\n",
    "\n",
    "var = 1\n",
    "\n",
    "\n",
    "def foo():\n",
    "    print(var)\n",
    "    return 10\n",
    "\n",
    "\n",
    "var = foo()\n",
    "print(var)"
   ]
  },
  {
   "cell_type": "markdown",
   "metadata": {},
   "source": [
    "### Problematic python Bank Program with global variable"
   ]
  },
  {
   "cell_type": "code",
   "execution_count": 21,
   "metadata": {},
   "outputs": [
    {
     "name": "stdout",
     "output_type": "stream",
     "text": [
      "Balance: 0\n",
      "Balance after deposit: 100\n",
      "Balance after Withdraw: 50\n"
     ]
    }
   ],
   "source": [
    "balance: int = 0\n",
    "\n",
    "def account():\n",
    "    \"\"\"\n",
    "    `deposit` and `withdraw` money\n",
    "\n",
    "    No Parameters: \\n\n",
    "    Returns Nothing.\n",
    "    \"\"\"\n",
    "    print(f\"Balance: {balance}\")\n",
    "    deposit(100)\n",
    "    print(f\"Balance after deposit: {balance}\")\n",
    "    withdraw(50)\n",
    "    print(f\"Balance after Withdraw: {balance}\")\n",
    "\n",
    "\n",
    "def deposit(amount: int) -> None:\n",
    "    \"\"\"\n",
    "    Deposit Money\n",
    "\n",
    "    Parameters:\n",
    "    - amount (int) : Deposit the money via using `global balance` variable\n",
    "\n",
    "    Returns Nothing.\n",
    "    \"\"\"\n",
    "    global balance\n",
    "    balance += amount\n",
    "\n",
    "\n",
    "def withdraw(amount: int) -> None:\n",
    "    \"\"\"\n",
    "    Withdraw Money\n",
    "\n",
    "    Parameters:\n",
    "    - amount (int) : Withdraw the money via using `global balance` variable\n",
    "\n",
    "    Returns Nothing.\n",
    "    \"\"\"\n",
    "    global balance\n",
    "    balance -= amount\n",
    "\n",
    "\n",
    "if __name__ == \"__main__\":\n",
    "    account()\n"
   ]
  },
  {
   "cell_type": "markdown",
   "metadata": {},
   "source": [
    "### Solving Problem using [OOP Program](/8-OOP/classes.ipynb) "
   ]
  },
  {
   "cell_type": "code",
   "execution_count": 22,
   "metadata": {},
   "outputs": [
    {
     "name": "stdout",
     "output_type": "stream",
     "text": [
      "Balance: 0\n",
      "Balance after Deposit: 100\n",
      "Balance after withdraw: 60\n"
     ]
    }
   ],
   "source": [
    "class Account:\n",
    "    \"\"\"\n",
    "    Account Class\n",
    "\n",
    "    Manages balance and transactions\n",
    "\n",
    "    methods:\n",
    "\n",
    "    - deposit (amount:int): deposit the amount\n",
    "    - withdraw (amount:int): withdraw the amount\n",
    "    \"\"\"\n",
    "\n",
    "    def __init__(self):\n",
    "        self._balance = 0\n",
    "\n",
    "    @property\n",
    "    def balance(self) -> int:\n",
    "        \"\"\"\n",
    "        Getter\n",
    "\n",
    "        Returns the current balance\n",
    "        \"\"\"\n",
    "        return self._balance\n",
    "\n",
    "    def deposit(self, amount: int) -> None:\n",
    "        \"\"\"\n",
    "        Deposit Money\n",
    "\n",
    "        Parameters:\n",
    "        - amount (int) : Deposit the money via using `global balance` variable\n",
    "\n",
    "        Returns Nothing.\n",
    "        \"\"\"\n",
    "        self._balance += amount\n",
    "\n",
    "    def withdraw(self, amount: int) -> None:\n",
    "        \"\"\"\n",
    "        Withdraw Money\n",
    "\n",
    "        Parameters:\n",
    "        - amount (int) : Withdraw the money via using `global balance` variable\n",
    "\n",
    "        Returns Nothing.\n",
    "        \"\"\"\n",
    "        self._balance -= amount\n",
    "\n",
    "\n",
    "account = Account()\n",
    "\n",
    "print(f\"Balance: {account.balance}\")\n",
    "\n",
    "account.deposit(100)\n",
    "\n",
    "print(f\"Balance after Deposit: {account.balance}\")\n",
    "\n",
    "account.withdraw(40)\n",
    "\n",
    "print(f\"Balance after withdraw: {account.balance}\")\n"
   ]
  },
  {
   "cell_type": "markdown",
   "metadata": {},
   "source": [
    "## Python unpacking\n",
    "\n",
    "Unpacking is a concept of extracting individual values from a data structure like, `list`, `dictionary` or a `tuple`. There is a special syntax for that. `*` is used for both \"list\" and \"tuple\", however `**` is used for a dictionary."
   ]
  },
  {
   "cell_type": "markdown",
   "metadata": {},
   "source": [
    "#### Tuple unpacking "
   ]
  },
  {
   "cell_type": "code",
   "execution_count": 23,
   "metadata": {},
   "outputs": [
    {
     "name": "stdout",
     "output_type": "stream",
     "text": [
      "User Sarmad with email (sarmad@email.com) is 19 years old.\n"
     ]
    }
   ],
   "source": [
    "def user(name: str, email: str, age: int) -> str:\n",
    "    \"\"\"\n",
    "    Takes user details and returns a string of combined details\n",
    "\n",
    "    Parameters:\n",
    "    - name (str): Name of the user`\n",
    "    - email (str) : Email of the user\n",
    "    - age (int) : Age of the user\n",
    "\n",
    "    Return type (str):\n",
    "        returns a string with user name, email and age\n",
    "    \"\"\"\n",
    "    return f\"User {name} with email ({email}) is {age} years old.\"\n",
    "\n",
    "\n",
    "\n",
    "details = (\"Sarmad\", \"sarmad@email.com\", 19)\n",
    "\n",
    "print(user(*details))\n"
   ]
  },
  {
   "cell_type": "markdown",
   "metadata": {},
   "source": [
    "#### List unpacking"
   ]
  },
  {
   "cell_type": "code",
   "execution_count": 24,
   "metadata": {},
   "outputs": [
    {
     "name": "stdout",
     "output_type": "stream",
     "text": [
      "User Sarmad with email (sarmad@email.com) is 19 years old.\n"
     ]
    }
   ],
   "source": [
    "details = [\"Sarmad\", \"sarmad@email.com\", 19]\n",
    "\n",
    "print(user(*details))"
   ]
  },
  {
   "cell_type": "code",
   "execution_count": 25,
   "metadata": {},
   "outputs": [
    {
     "name": "stdout",
     "output_type": "stream",
     "text": [
      "Sarmad Kamran Hammad Ahmad Abrar\n"
     ]
    }
   ],
   "source": [
    "users = [\"Sarmad\", \"Kamran\", \"Hammad\", \"Ahmad\", \"Abrar\"]\n",
    "\n",
    "# Simple list unpacking\n",
    "print(*users)"
   ]
  },
  {
   "cell_type": "markdown",
   "metadata": {},
   "source": [
    "\n",
    "#### Named Function parameters unpacking"
   ]
  },
  {
   "cell_type": "code",
   "execution_count": 26,
   "metadata": {},
   "outputs": [
    {
     "name": "stdout",
     "output_type": "stream",
     "text": [
      "User Kamran with email (kamran@email.com) is 24 years old.\n"
     ]
    }
   ],
   "source": [
    "print(user(name=\"Kamran\", email=\"kamran@email.com\", age=24))\n",
    "\n",
    "# Function parameters are unpacked by their names."
   ]
  },
  {
   "cell_type": "markdown",
   "metadata": {},
   "source": [
    "#### Dictionary unpacking"
   ]
  },
  {
   "cell_type": "code",
   "execution_count": 27,
   "metadata": {},
   "outputs": [
    {
     "name": "stdout",
     "output_type": "stream",
     "text": [
      "User Sarmad with email (sarmad@email.com) is 19 years old.\n"
     ]
    }
   ],
   "source": [
    "from typing import Any\n",
    "\n",
    "details: dict[str, Any] = {\n",
    "    \"name\": \"Sarmad\",\n",
    "    \"email\": \"sarmad@email.com\",\n",
    "    \"age\": 19,\n",
    "}\n",
    "\n",
    "print(user(**details))\n",
    "\n",
    "## (**) double asterisks for dictionary unpacking "
   ]
  }
 ],
 "metadata": {
  "kernelspec": {
   "display_name": "py-12",
   "language": "python",
   "name": "python3"
  },
  "language_info": {
   "codemirror_mode": {
    "name": "ipython",
    "version": 3
   },
   "file_extension": ".py",
   "mimetype": "text/x-python",
   "name": "python",
   "nbconvert_exporter": "python",
   "pygments_lexer": "ipython3",
   "version": "3.12.0"
  }
 },
 "nbformat": 4,
 "nbformat_minor": 2
}
