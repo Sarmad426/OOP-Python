{
 "cells": [
  {
   "cell_type": "markdown",
   "metadata": {},
   "source": [
    "## Python Important Topics\n",
    "\n",
    "- #### Global variables (`global` keyword)\n",
    "- #### Unpacking\n",
    "  - - Tuple unpacking\n",
    "  - - List unpacking\n",
    "  - - Function Parameters unpacking \n",
    "  - - Dictionary unpacking\n",
    "- #### `args` and `kwargs` "
   ]
  },
  {
   "cell_type": "markdown",
   "metadata": {},
   "source": [
    "#### Global variables\n",
    "\n",
    "Global variables can be referenced by a `global` keyword in python. Used when you use the `global` statement to update a global variable. Pylint discourages its usage. That doesn't mean you cannot use it!"
   ]
  },
  {
   "cell_type": "code",
   "execution_count": null,
   "metadata": {},
   "outputs": [],
   "source": [
    "# Problematic Code\n",
    "\n",
    "var = 1\n",
    "\n",
    "\n",
    "def foo():\n",
    "    global var  # [global-statement]\n",
    "    var = 10\n",
    "    print(var)\n",
    "\n",
    "\n",
    "foo()\n",
    "print(var)"
   ]
  },
  {
   "cell_type": "code",
   "execution_count": null,
   "metadata": {},
   "outputs": [],
   "source": [
    "# Correct code\n",
    "\n",
    "var = 1\n",
    "\n",
    "\n",
    "def foo():\n",
    "    print(var)\n",
    "    return 10\n",
    "\n",
    "\n",
    "var = foo()\n",
    "print(var)"
   ]
  },
  {
   "cell_type": "markdown",
   "metadata": {},
   "source": [
    "### Problematic python Bank Program with global variable"
   ]
  },
  {
   "cell_type": "code",
   "execution_count": null,
   "metadata": {},
   "outputs": [],
   "source": [
    "balance: int = 0\n",
    "\n",
    "def account():\n",
    "    \"\"\"\n",
    "    `deposit` and `withdraw` money\n",
    "\n",
    "    No Parameters: \\n\n",
    "    Returns Nothing.\n",
    "    \"\"\"\n",
    "    print(f\"Balance: {balance}\")\n",
    "    deposit(100)\n",
    "    print(f\"Balance after deposit: {balance}\")\n",
    "    withdraw(50)\n",
    "    print(f\"Balance after Withdraw: {balance}\")\n",
    "\n",
    "\n",
    "def deposit(amount: int) -> None:\n",
    "    \"\"\"\n",
    "    Deposit Money\n",
    "\n",
    "    Parameters:\n",
    "    - amount (int) : Deposit the money via using `global balance` variable\n",
    "\n",
    "    Returns Nothing.\n",
    "    \"\"\"\n",
    "    global balance\n",
    "    balance += amount\n",
    "\n",
    "\n",
    "def withdraw(amount: int) -> None:\n",
    "    \"\"\"\n",
    "    Withdraw Money\n",
    "\n",
    "    Parameters:\n",
    "    - amount (int) : Withdraw the money via using `global balance` variable\n",
    "\n",
    "    Returns Nothing.\n",
    "    \"\"\"\n",
    "    global balance\n",
    "    balance -= amount\n",
    "\n",
    "\n",
    "if __name__ == \"__main__\":\n",
    "    account()\n"
   ]
  },
  {
   "cell_type": "markdown",
   "metadata": {},
   "source": [
    "### Solving Problem using [OOP Program](/8-OOP/classes.ipynb) "
   ]
  },
  {
   "cell_type": "code",
   "execution_count": null,
   "metadata": {},
   "outputs": [],
   "source": [
    "class Account:\n",
    "    \"\"\"\n",
    "    Account Class\n",
    "\n",
    "    Manages balance and transactions\n",
    "\n",
    "    methods:\n",
    "\n",
    "    - deposit (amount:int): deposit the amount\n",
    "    - withdraw (amount:int): withdraw the amount\n",
    "    \"\"\"\n",
    "\n",
    "    def __init__(self):\n",
    "        self._balance = 0\n",
    "\n",
    "    @property\n",
    "    def balance(self) -> int:\n",
    "        \"\"\"\n",
    "        Getter\n",
    "\n",
    "        Returns the current balance\n",
    "        \"\"\"\n",
    "        return self._balance\n",
    "\n",
    "    def deposit(self, amount: int) -> None:\n",
    "        \"\"\"\n",
    "        Deposit Money\n",
    "\n",
    "        Parameters:\n",
    "        - amount (int) : Deposit the money via using `global balance` variable\n",
    "\n",
    "        Returns Nothing.\n",
    "        \"\"\"\n",
    "        self._balance += amount\n",
    "\n",
    "    def withdraw(self, amount: int) -> None:\n",
    "        \"\"\"\n",
    "        Withdraw Money\n",
    "\n",
    "        Parameters:\n",
    "        - amount (int) : Withdraw the money via using `global balance` variable\n",
    "\n",
    "        Returns Nothing.\n",
    "        \"\"\"\n",
    "        self._balance -= amount\n",
    "\n",
    "\n",
    "account = Account()\n",
    "\n",
    "print(f\"Balance: {account.balance}\")\n",
    "\n",
    "account.deposit(100)\n",
    "\n",
    "print(f\"Balance after Deposit: {account.balance}\")\n",
    "\n",
    "account.withdraw(40)\n",
    "\n",
    "print(f\"Balance after withdraw: {account.balance}\")\n"
   ]
  },
  {
   "cell_type": "markdown",
   "metadata": {},
   "source": [
    "## Python unpacking\n",
    "\n",
    "Unpacking is a concept of extracting individual values from a data structure like, `list`, `dictionary` or a `tuple`. There is a special syntax for that. `*` is used for both \"list\" and \"tuple\", however `**` is used for a dictionary."
   ]
  },
  {
   "cell_type": "markdown",
   "metadata": {},
   "source": [
    "#### Tuple unpacking "
   ]
  },
  {
   "cell_type": "code",
   "execution_count": null,
   "metadata": {},
   "outputs": [],
   "source": [
    "def user(name: str, email: str, age: int) -> str:\n",
    "    \"\"\"\n",
    "    Takes user details and returns a string of combined details\n",
    "\n",
    "    Parameters:\n",
    "    - name (str): Name of the user\n",
    "    - email (str) : Email of the user\n",
    "    - age (int) : Age of the user\n",
    "\n",
    "    Return type (str):\n",
    "        returns a string with user name, email and age\n",
    "    \"\"\"\n",
    "    return f\"User {name} with email ({email}) is {age} years old.\"\n",
    "\n",
    "\n",
    "\n",
    "details = (\"Sarmad\", \"sarmad@email.com\", 19)\n",
    "\n",
    "print(user(*details))\n"
   ]
  },
  {
   "cell_type": "markdown",
   "metadata": {},
   "source": [
    "#### List unpacking"
   ]
  },
  {
   "cell_type": "code",
   "execution_count": null,
   "metadata": {},
   "outputs": [],
   "source": [
    "details = [\"Sarmad\", \"sarmad@email.com\", 19]\n",
    "\n",
    "print(user(*details))"
   ]
  },
  {
   "cell_type": "markdown",
   "metadata": {},
   "source": [
    "\n",
    "#### Explicit Function parameters unpacking"
   ]
  },
  {
   "cell_type": "code",
   "execution_count": null,
   "metadata": {},
   "outputs": [],
   "source": [
    "print(user(name=\"Kamran\", email=\"kamran@email.com\", age=24))\n",
    "\n",
    "# Function parameters are unpacked by their names."
   ]
  },
  {
   "cell_type": "markdown",
   "metadata": {},
   "source": [
    "#### Dictionary unpacking"
   ]
  },
  {
   "cell_type": "code",
   "execution_count": null,
   "metadata": {},
   "outputs": [],
   "source": [
    "details: dict[str, str, int] = {\n",
    "    \"name\": \"Sarmad\",\n",
    "    \"email\": \"sarmad@email.com\",\n",
    "    \"age\": 19,\n",
    "}\n",
    "\n",
    "print(user(**details))\n",
    "\n",
    "## (**) double asterisks for dictionary unpacking "
   ]
  },
  {
   "cell_type": "markdown",
   "metadata": {},
   "source": [
    "### `*args` and `*kwargs`"
   ]
  },
  {
   "cell_type": "markdown",
   "metadata": {},
   "source": [
    "#### `*args`\n",
    "\n",
    "`*args` are used as function parameters when the number of parameters are unpredictable. It gets the number of parameters as a **tuple**. And if no parameters are passed it just gets an empty tuple. It can be called anything but with single `*` asterisk."
   ]
  },
  {
   "cell_type": "code",
   "execution_count": null,
   "metadata": {},
   "outputs": [],
   "source": [
    "def user(*args) -> None:\n",
    "    \"\"\"\n",
    "    Simple User function\n",
    "\n",
    "    Parameters:\n",
    "    - `*args`: n number of parameters \\n\n",
    "    Prints user details \\n\n",
    "    Returns Nothing\n",
    "    \"\"\"\n",
    "    print(f\"User: {args}\")\n",
    "\n",
    "\n",
    "user(\"Sarmad\", \"sarmad@email.com\", 19)"
   ]
  }
 ],
 "metadata": {
  "language_info": {
   "name": "python"
  }
 },
 "nbformat": 4,
 "nbformat_minor": 2
}
