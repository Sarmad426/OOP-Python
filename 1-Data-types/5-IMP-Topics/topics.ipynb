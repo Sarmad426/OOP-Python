{
 "cells": [
  {
   "cell_type": "markdown",
   "metadata": {},
   "source": [
    "## Python Important Topics"
   ]
  },
  {
   "cell_type": "markdown",
   "metadata": {},
   "source": [
    "#### Global variables\n",
    "\n",
    "Global variables can be referenced by a `global` keyword in python. Used when you use the `global` statement to update a global variable. Pylint discourages its usage. That doesn't mean you cannot use it!"
   ]
  },
  {
   "cell_type": "code",
   "execution_count": null,
   "metadata": {},
   "outputs": [],
   "source": [
    "# Problematic Code\n",
    "\n",
    "var = 1\n",
    "\n",
    "\n",
    "def foo():\n",
    "    global var  # [global-statement]\n",
    "    var = 10\n",
    "    print(var)\n",
    "\n",
    "\n",
    "foo()\n",
    "print(var)"
   ]
  },
  {
   "cell_type": "code",
   "execution_count": null,
   "metadata": {},
   "outputs": [],
   "source": [
    "# Correct code\n",
    "\n",
    "var = 1\n",
    "\n",
    "\n",
    "def foo():\n",
    "    print(var)\n",
    "    return 10\n",
    "\n",
    "\n",
    "var = foo()\n",
    "print(var)"
   ]
  },
  {
   "cell_type": "markdown",
   "metadata": {},
   "source": [
    "### Problematic python Bank Program"
   ]
  },
  {
   "cell_type": "code",
   "execution_count": null,
   "metadata": {},
   "outputs": [],
   "source": [
    "balance: int = 0\n",
    "\n",
    "def account():\n",
    "    \"\"\"\n",
    "    `deposit` and `withdraw` money\n",
    "\n",
    "    No Parameters: \\n\n",
    "    Returns Nothing.\n",
    "    \"\"\"\n",
    "    print(f\"Balance: {balance}\")\n",
    "    deposit(100)\n",
    "    print(f\"Balance after deposit: {balance}\")\n",
    "    withdraw(50)\n",
    "    print(f\"Balance after Withdraw: {balance}\")\n",
    "\n",
    "\n",
    "def deposit(amount: int) -> None:\n",
    "    \"\"\"\n",
    "    Deposit Money\n",
    "\n",
    "    Parameters:\n",
    "    - amount (int) : Deposit the money via using `global balance` variable\n",
    "\n",
    "    Returns Nothing.\n",
    "    \"\"\"\n",
    "    global balance\n",
    "    balance += amount\n",
    "\n",
    "\n",
    "def withdraw(amount: int) -> None:\n",
    "    \"\"\"\n",
    "    Withdraw Money\n",
    "\n",
    "    Parameters:\n",
    "    - amount (int) : Withdraw the money via using `global balance` variable\n",
    "\n",
    "    Returns Nothing.\n",
    "    \"\"\"\n",
    "    global balance\n",
    "    balance -= amount\n",
    "\n",
    "\n",
    "if __name__ == \"__main__\":\n",
    "    account()\n"
   ]
  }
 ],
 "metadata": {
  "language_info": {
   "name": "python"
  }
 },
 "nbformat": 4,
 "nbformat_minor": 2
}
