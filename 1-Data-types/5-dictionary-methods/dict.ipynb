{
 "cells": [
  {
   "cell_type": "markdown",
   "metadata": {},
   "source": [
    "## Dictionary Operations"
   ]
  },
  {
   "cell_type": "code",
   "execution_count": 1,
   "metadata": {},
   "outputs": [
    {
     "name": "stdout",
     "output_type": "stream",
     "text": [
      "{'name': 'Sarmad', 'email': 'sarmad@email.com', 'age': 19}\n"
     ]
    }
   ],
   "source": [
    "from typing import Union\n",
    "\n",
    "type_user_dict = Union[dict[str, str | int], dict[str, str]]\n",
    "\n",
    "user: type_user_dict = {\"name\": \"Sarmad\", \"email\": \"sarmad@email.com\", \"age\": 19}\n",
    "\n",
    "print(user)"
   ]
  },
  {
   "cell_type": "markdown",
   "metadata": {},
   "source": [
    "### Adding a key to the Dictionary"
   ]
  },
  {
   "cell_type": "code",
   "execution_count": 2,
   "metadata": {},
   "outputs": [
    {
     "data": {
      "text/plain": [
       "'Male'"
      ]
     },
     "execution_count": 2,
     "metadata": {},
     "output_type": "execute_result"
    }
   ],
   "source": [
    "user[\"gender\"] = \"Male\"\n",
    "\n",
    "user[\"gender\"]"
   ]
  },
  {
   "cell_type": "markdown",
   "metadata": {},
   "source": [
    "### Updating the Dictionary"
   ]
  },
  {
   "cell_type": "code",
   "execution_count": 3,
   "metadata": {},
   "outputs": [
    {
     "data": {
      "text/plain": [
       "'sarmad@yahoo.com'"
      ]
     },
     "execution_count": 3,
     "metadata": {},
     "output_type": "execute_result"
    }
   ],
   "source": [
    "user[\"email\"] = \"sarmad@yahoo.com\"\n",
    "\n",
    "user[\"email\"]"
   ]
  },
  {
   "cell_type": "markdown",
   "metadata": {},
   "source": [
    "### Updating the Dictionary with `update()` function"
   ]
  },
  {
   "cell_type": "code",
   "execution_count": 4,
   "metadata": {},
   "outputs": [
    {
     "data": {
      "text/plain": [
       "'sarmad@email.com'"
      ]
     },
     "execution_count": 4,
     "metadata": {},
     "output_type": "execute_result"
    }
   ],
   "source": [
    "user.update({\"email\": \"sarmad@email.com\"})\n",
    "\n",
    "user[\"email\"]"
   ]
  },
  {
   "cell_type": "markdown",
   "metadata": {},
   "source": [
    "#### Get the dictionary keys"
   ]
  },
  {
   "cell_type": "code",
   "execution_count": 5,
   "metadata": {},
   "outputs": [
    {
     "data": {
      "text/plain": [
       "dict_keys(['name', 'email', 'age', 'gender'])"
      ]
     },
     "execution_count": 5,
     "metadata": {},
     "output_type": "execute_result"
    }
   ],
   "source": [
    "user.keys()"
   ]
  },
  {
   "cell_type": "markdown",
   "metadata": {},
   "source": [
    "### Get the dictionary values"
   ]
  },
  {
   "cell_type": "code",
   "execution_count": 6,
   "metadata": {},
   "outputs": [
    {
     "data": {
      "text/plain": [
       "dict_values(['Sarmad', 'sarmad@email.com', 19, 'Male'])"
      ]
     },
     "execution_count": 6,
     "metadata": {},
     "output_type": "execute_result"
    }
   ],
   "source": [
    "user.values()"
   ]
  },
  {
   "cell_type": "markdown",
   "metadata": {},
   "source": [
    "### Removing a key from the dictionary"
   ]
  },
  {
   "cell_type": "code",
   "execution_count": 7,
   "metadata": {},
   "outputs": [
    {
     "data": {
      "text/plain": [
       "{'name': 'Sarmad', 'email': 'sarmad@email.com', 'age': 19}"
      ]
     },
     "execution_count": 7,
     "metadata": {},
     "output_type": "execute_result"
    }
   ],
   "source": [
    "user.pop(\"gender\")\n",
    "\n",
    "user"
   ]
  },
  {
   "cell_type": "markdown",
   "metadata": {},
   "source": [
    "### Clearing the Dictionary"
   ]
  },
  {
   "cell_type": "code",
   "execution_count": 8,
   "metadata": {},
   "outputs": [
    {
     "data": {
      "text/plain": [
       "{}"
      ]
     },
     "execution_count": 8,
     "metadata": {},
     "output_type": "execute_result"
    }
   ],
   "source": [
    "user.clear()\n",
    "\n",
    "user"
   ]
  },
  {
   "cell_type": "markdown",
   "metadata": {},
   "source": [
    "### Character mapping using a dictionary"
   ]
  },
  {
   "cell_type": "code",
   "execution_count": 9,
   "metadata": {},
   "outputs": [
    {
     "name": "stdout",
     "output_type": "stream",
     "text": [
      "Six Seven Two Nine One Seven Eight Three Nine Two One \n"
     ]
    }
   ],
   "source": [
    "characters: dict[str, str] = {\n",
    "    \"1\": \"One\",\n",
    "    \"2\": \"Two\",\n",
    "    \"3\": \"Three\",\n",
    "    \"4\": \"Four\",\n",
    "    \"5\": \"Five\",\n",
    "    \"6\": \"Six\",\n",
    "    \"7\": \"Seven\",\n",
    "    \"8\": \"Eight\",\n",
    "    \"9\": \"Nine\",\n",
    "    \"0\": \"Zero\",\n",
    "}\n",
    "\n",
    "output = \"\"\n",
    "\n",
    "user_input = input(\"Phone Number: \")\n",
    "\n",
    "for ch in user_input:\n",
    "    output += characters.get(ch, \"\") + \" \"\n",
    "print(output)"
   ]
  },
  {
   "cell_type": "markdown",
   "metadata": {},
   "source": [
    "### Dictionary Unpacking\n",
    "\n",
    "Check Out this tutorial on [Unpacking](../6-IMP-Topics/topics.ipynb)."
   ]
  },
  {
   "cell_type": "code",
   "execution_count": 6,
   "metadata": {},
   "outputs": [
    {
     "name": "stdout",
     "output_type": "stream",
     "text": [
      "Name :Sarmad\n",
      "Email sarmad@email.com\n",
      "Age: 19\n"
     ]
    }
   ],
   "source": [
    "user: type_user_dict = {\"name\": \"Sarmad\", \"email\": \"sarmad@email.com\", \"age\": 19}\n",
    "\n",
    "\n",
    "def user_details(name: str, email: str, age: int) -> None:\n",
    "    print(f\"Name :{name}\\nEmail {email}\\nAge: {age}\")\n",
    "\n",
    "\n",
    "user_details(**user)"
   ]
  },
  {
   "cell_type": "markdown",
   "metadata": {},
   "source": [
    "### Dictionary Comprehension\n"
   ]
  },
  {
   "cell_type": "code",
   "execution_count": 12,
   "metadata": {},
   "outputs": [
    {
     "name": "stdout",
     "output_type": "stream",
     "text": [
      "{'name': 'Sarmad', 'email': 'sarmad@email.com'}\n",
      "{'name': 'Kamran', 'email': 'kamran@email.com'}\n",
      "{'name': 'Nawaz', 'email': 'nawaz@email.com'}\n",
      "{'name': 'Ahmad', 'email': 'ahmad@email.com'}\n"
     ]
    }
   ],
   "source": [
    "# Creating a list of dictionaries using list comprehension\n",
    "\n",
    "students: list[str] = [\"Sarmad\", \"Kamran\", \"Nawaz\", \"Ahmad\"]\n",
    "\n",
    "users: list[dict[str, str]] = [\n",
    "    {\"name\": student, \"email\": f\"{student.lower()}@email.com\"} for student in students\n",
    "]\n",
    "\n",
    "for user in users:\n",
    "    print(user)"
   ]
  },
  {
   "cell_type": "code",
   "execution_count": 11,
   "metadata": {},
   "outputs": [
    {
     "name": "stdout",
     "output_type": "stream",
     "text": [
      "{'Sarmad': 'Sarmad@email.com', 'Kamran': 'Kamran@email.com', 'Nawaz': 'Nawaz@email.com', 'Ahmad': 'Ahmad@email.com'}\n"
     ]
    }
   ],
   "source": [
    "# Dictionary Comprehension\n",
    "# - Creating a dictionary using dictionary comprehension\n",
    "\n",
    "users: dict[str, str] = {student: f\"{student}@email.com\" for student in students}\n",
    "\n",
    "\n",
    "print(users)"
   ]
  }
 ],
 "metadata": {
  "kernelspec": {
   "display_name": "py-12",
   "language": "python",
   "name": "python3"
  },
  "language_info": {
   "codemirror_mode": {
    "name": "ipython",
    "version": 3
   },
   "file_extension": ".py",
   "mimetype": "text/x-python",
   "name": "python",
   "nbconvert_exporter": "python",
   "pygments_lexer": "ipython3",
   "version": "3.12.0"
  }
 },
 "nbformat": 4,
 "nbformat_minor": 2
}
